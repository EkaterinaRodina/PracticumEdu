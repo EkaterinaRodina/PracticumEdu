{
 "cells": [
  {
   "cell_type": "markdown",
   "metadata": {},
   "source": [
    "**Описание проекта**\n",
    "\n",
    "Вы работаете в стартапе, который продаёт продукты питания. Нужно разобраться, как ведут себя пользователи вашего мобильного приложения.\n",
    "Изучите воронку продаж. Узнайте, как пользователи доходят до покупки. Сколько пользователей доходит до покупки, а сколько — «застревает» на предыдущих шагах? На каких именно?\n",
    "После этого исследуйте результаты A/A/B-эксперимента. Дизайнеры захотели поменять шрифты во всём приложении, а менеджеры испугались, что пользователям будет непривычно. Договорились принять решение по результатам A/A/B-теста. Пользователей разбили на 3 группы: 2 контрольные со старыми шрифтами и одну экспериментальную — с новыми. Выясните, какой шрифт лучше.\n",
    "Создание двух групп A вместо одной имеет определённые преимущества. Если две контрольные группы окажутся равны, вы можете быть уверены в точности проведенного тестирования. Если же между значениями A и A будут существенные различия, это поможет обнаружить факторы, которые привели к искажению результатов. Сравнение контрольных групп также помогает понять, сколько времени и данных потребуется для дальнейших тестов.\n",
    "В случае общей аналитики и A/A/B-эксперимента работайте с одними и теми же данными. В реальных проектах всегда идут эксперименты. Аналитики исследуют качество работы приложения по общим данным, не учитывая принадлежность пользователей к экспериментам."
   ]
  },
  {
   "cell_type": "markdown",
   "metadata": {},
   "source": [
    "## Часть. Подготовка данных"
   ]
  },
  {
   "cell_type": "code",
   "execution_count": 1,
   "metadata": {},
   "outputs": [],
   "source": [
    "import pandas as pd\n",
    "import matplotlib.pyplot as plt\n",
    "import seaborn as sns\n",
    "import numpy as np\n",
    "import datetime as dt\n",
    "from pandas.plotting import register_matplotlib_converters\n",
    "import warnings\n",
    "import scipy.stats as stats\n",
    "import re \n",
    "import math as mth"
   ]
  },
  {
   "cell_type": "code",
   "execution_count": 2,
   "metadata": {},
   "outputs": [],
   "source": [
    "data = pd.read_csv(r'C:\\Users\\Катерина\\Desktop\\Проекты\\logs_exp.csv', sep='\\t')"
   ]
  },
  {
   "cell_type": "code",
   "execution_count": 3,
   "metadata": {},
   "outputs": [
    {
     "data": {
      "text/html": [
       "<div>\n",
       "<style scoped>\n",
       "    .dataframe tbody tr th:only-of-type {\n",
       "        vertical-align: middle;\n",
       "    }\n",
       "\n",
       "    .dataframe tbody tr th {\n",
       "        vertical-align: top;\n",
       "    }\n",
       "\n",
       "    .dataframe thead th {\n",
       "        text-align: right;\n",
       "    }\n",
       "</style>\n",
       "<table border=\"1\" class=\"dataframe\">\n",
       "  <thead>\n",
       "    <tr style=\"text-align: right;\">\n",
       "      <th></th>\n",
       "      <th>EventName</th>\n",
       "      <th>DeviceIDHash</th>\n",
       "      <th>EventTimestamp</th>\n",
       "      <th>ExpId</th>\n",
       "    </tr>\n",
       "  </thead>\n",
       "  <tbody>\n",
       "    <tr>\n",
       "      <th>0</th>\n",
       "      <td>MainScreenAppear</td>\n",
       "      <td>4575588528974610257</td>\n",
       "      <td>1564029816</td>\n",
       "      <td>246</td>\n",
       "    </tr>\n",
       "    <tr>\n",
       "      <th>1</th>\n",
       "      <td>MainScreenAppear</td>\n",
       "      <td>7416695313311560658</td>\n",
       "      <td>1564053102</td>\n",
       "      <td>246</td>\n",
       "    </tr>\n",
       "    <tr>\n",
       "      <th>2</th>\n",
       "      <td>PaymentScreenSuccessful</td>\n",
       "      <td>3518123091307005509</td>\n",
       "      <td>1564054127</td>\n",
       "      <td>248</td>\n",
       "    </tr>\n",
       "    <tr>\n",
       "      <th>3</th>\n",
       "      <td>CartScreenAppear</td>\n",
       "      <td>3518123091307005509</td>\n",
       "      <td>1564054127</td>\n",
       "      <td>248</td>\n",
       "    </tr>\n",
       "    <tr>\n",
       "      <th>4</th>\n",
       "      <td>PaymentScreenSuccessful</td>\n",
       "      <td>6217807653094995999</td>\n",
       "      <td>1564055322</td>\n",
       "      <td>248</td>\n",
       "    </tr>\n",
       "    <tr>\n",
       "      <th>...</th>\n",
       "      <td>...</td>\n",
       "      <td>...</td>\n",
       "      <td>...</td>\n",
       "      <td>...</td>\n",
       "    </tr>\n",
       "    <tr>\n",
       "      <th>244121</th>\n",
       "      <td>MainScreenAppear</td>\n",
       "      <td>4599628364049201812</td>\n",
       "      <td>1565212345</td>\n",
       "      <td>247</td>\n",
       "    </tr>\n",
       "    <tr>\n",
       "      <th>244122</th>\n",
       "      <td>MainScreenAppear</td>\n",
       "      <td>5849806612437486590</td>\n",
       "      <td>1565212439</td>\n",
       "      <td>246</td>\n",
       "    </tr>\n",
       "    <tr>\n",
       "      <th>244123</th>\n",
       "      <td>MainScreenAppear</td>\n",
       "      <td>5746969938801999050</td>\n",
       "      <td>1565212483</td>\n",
       "      <td>246</td>\n",
       "    </tr>\n",
       "    <tr>\n",
       "      <th>244124</th>\n",
       "      <td>MainScreenAppear</td>\n",
       "      <td>5746969938801999050</td>\n",
       "      <td>1565212498</td>\n",
       "      <td>246</td>\n",
       "    </tr>\n",
       "    <tr>\n",
       "      <th>244125</th>\n",
       "      <td>OffersScreenAppear</td>\n",
       "      <td>5746969938801999050</td>\n",
       "      <td>1565212517</td>\n",
       "      <td>246</td>\n",
       "    </tr>\n",
       "  </tbody>\n",
       "</table>\n",
       "<p>244126 rows × 4 columns</p>\n",
       "</div>"
      ],
      "text/plain": [
       "                      EventName         DeviceIDHash  EventTimestamp  ExpId\n",
       "0              MainScreenAppear  4575588528974610257      1564029816    246\n",
       "1              MainScreenAppear  7416695313311560658      1564053102    246\n",
       "2       PaymentScreenSuccessful  3518123091307005509      1564054127    248\n",
       "3              CartScreenAppear  3518123091307005509      1564054127    248\n",
       "4       PaymentScreenSuccessful  6217807653094995999      1564055322    248\n",
       "...                         ...                  ...             ...    ...\n",
       "244121         MainScreenAppear  4599628364049201812      1565212345    247\n",
       "244122         MainScreenAppear  5849806612437486590      1565212439    246\n",
       "244123         MainScreenAppear  5746969938801999050      1565212483    246\n",
       "244124         MainScreenAppear  5746969938801999050      1565212498    246\n",
       "244125       OffersScreenAppear  5746969938801999050      1565212517    246\n",
       "\n",
       "[244126 rows x 4 columns]"
      ]
     },
     "execution_count": 3,
     "metadata": {},
     "output_type": "execute_result"
    }
   ],
   "source": [
    "data"
   ]
  },
  {
   "cell_type": "markdown",
   "metadata": {},
   "source": [
    "- EventName — название события;\n",
    "\n",
    "- DeviceIDHash — уникальный идентификатор пользователя;\n",
    "\n",
    "- EventTimestamp — время события;\n",
    "\n",
    "- ExpId — номер эксперимента: 246 и 247 — контрольные группы, а 248 — экспериментальная."
   ]
  },
  {
   "cell_type": "code",
   "execution_count": 4,
   "metadata": {},
   "outputs": [],
   "source": [
    "data.columns=['event_name', 'id', 'event_time', 'group' ]"
   ]
  },
  {
   "cell_type": "code",
   "execution_count": 5,
   "metadata": {},
   "outputs": [
    {
     "name": "stdout",
     "output_type": "stream",
     "text": [
      "<class 'pandas.core.frame.DataFrame'>\n",
      "RangeIndex: 244126 entries, 0 to 244125\n",
      "Data columns (total 4 columns):\n",
      " #   Column      Non-Null Count   Dtype \n",
      "---  ------      --------------   ----- \n",
      " 0   event_name  244126 non-null  object\n",
      " 1   id          244126 non-null  int64 \n",
      " 2   event_time  244126 non-null  int64 \n",
      " 3   group       244126 non-null  int64 \n",
      "dtypes: int64(3), object(1)\n",
      "memory usage: 7.5+ MB\n"
     ]
    }
   ],
   "source": [
    "data.info()"
   ]
  },
  {
   "cell_type": "code",
   "execution_count": 6,
   "metadata": {},
   "outputs": [
    {
     "data": {
      "text/html": [
       "<div>\n",
       "<style scoped>\n",
       "    .dataframe tbody tr th:only-of-type {\n",
       "        vertical-align: middle;\n",
       "    }\n",
       "\n",
       "    .dataframe tbody tr th {\n",
       "        vertical-align: top;\n",
       "    }\n",
       "\n",
       "    .dataframe thead th {\n",
       "        text-align: right;\n",
       "    }\n",
       "</style>\n",
       "<table border=\"1\" class=\"dataframe\">\n",
       "  <thead>\n",
       "    <tr style=\"text-align: right;\">\n",
       "      <th></th>\n",
       "      <th>event_name</th>\n",
       "      <th>id</th>\n",
       "      <th>event_time</th>\n",
       "      <th>group</th>\n",
       "    </tr>\n",
       "  </thead>\n",
       "  <tbody>\n",
       "    <tr>\n",
       "      <th>0</th>\n",
       "      <td>MainScreenAppear</td>\n",
       "      <td>4575588528974610257</td>\n",
       "      <td>1564029816</td>\n",
       "      <td>246</td>\n",
       "    </tr>\n",
       "    <tr>\n",
       "      <th>1</th>\n",
       "      <td>MainScreenAppear</td>\n",
       "      <td>7416695313311560658</td>\n",
       "      <td>1564053102</td>\n",
       "      <td>246</td>\n",
       "    </tr>\n",
       "    <tr>\n",
       "      <th>2</th>\n",
       "      <td>PaymentScreenSuccessful</td>\n",
       "      <td>3518123091307005509</td>\n",
       "      <td>1564054127</td>\n",
       "      <td>248</td>\n",
       "    </tr>\n",
       "    <tr>\n",
       "      <th>3</th>\n",
       "      <td>CartScreenAppear</td>\n",
       "      <td>3518123091307005509</td>\n",
       "      <td>1564054127</td>\n",
       "      <td>248</td>\n",
       "    </tr>\n",
       "    <tr>\n",
       "      <th>4</th>\n",
       "      <td>PaymentScreenSuccessful</td>\n",
       "      <td>6217807653094995999</td>\n",
       "      <td>1564055322</td>\n",
       "      <td>248</td>\n",
       "    </tr>\n",
       "    <tr>\n",
       "      <th>...</th>\n",
       "      <td>...</td>\n",
       "      <td>...</td>\n",
       "      <td>...</td>\n",
       "      <td>...</td>\n",
       "    </tr>\n",
       "    <tr>\n",
       "      <th>244121</th>\n",
       "      <td>MainScreenAppear</td>\n",
       "      <td>4599628364049201812</td>\n",
       "      <td>1565212345</td>\n",
       "      <td>247</td>\n",
       "    </tr>\n",
       "    <tr>\n",
       "      <th>244122</th>\n",
       "      <td>MainScreenAppear</td>\n",
       "      <td>5849806612437486590</td>\n",
       "      <td>1565212439</td>\n",
       "      <td>246</td>\n",
       "    </tr>\n",
       "    <tr>\n",
       "      <th>244123</th>\n",
       "      <td>MainScreenAppear</td>\n",
       "      <td>5746969938801999050</td>\n",
       "      <td>1565212483</td>\n",
       "      <td>246</td>\n",
       "    </tr>\n",
       "    <tr>\n",
       "      <th>244124</th>\n",
       "      <td>MainScreenAppear</td>\n",
       "      <td>5746969938801999050</td>\n",
       "      <td>1565212498</td>\n",
       "      <td>246</td>\n",
       "    </tr>\n",
       "    <tr>\n",
       "      <th>244125</th>\n",
       "      <td>OffersScreenAppear</td>\n",
       "      <td>5746969938801999050</td>\n",
       "      <td>1565212517</td>\n",
       "      <td>246</td>\n",
       "    </tr>\n",
       "  </tbody>\n",
       "</table>\n",
       "<p>244126 rows × 4 columns</p>\n",
       "</div>"
      ],
      "text/plain": [
       "                     event_name                   id  event_time  group\n",
       "0              MainScreenAppear  4575588528974610257  1564029816    246\n",
       "1              MainScreenAppear  7416695313311560658  1564053102    246\n",
       "2       PaymentScreenSuccessful  3518123091307005509  1564054127    248\n",
       "3              CartScreenAppear  3518123091307005509  1564054127    248\n",
       "4       PaymentScreenSuccessful  6217807653094995999  1564055322    248\n",
       "...                         ...                  ...         ...    ...\n",
       "244121         MainScreenAppear  4599628364049201812  1565212345    247\n",
       "244122         MainScreenAppear  5849806612437486590  1565212439    246\n",
       "244123         MainScreenAppear  5746969938801999050  1565212483    246\n",
       "244124         MainScreenAppear  5746969938801999050  1565212498    246\n",
       "244125       OffersScreenAppear  5746969938801999050  1565212517    246\n",
       "\n",
       "[244126 rows x 4 columns]"
      ]
     },
     "execution_count": 6,
     "metadata": {},
     "output_type": "execute_result"
    }
   ],
   "source": [
    "data"
   ]
  },
  {
   "cell_type": "code",
   "execution_count": 7,
   "metadata": {},
   "outputs": [
    {
     "data": {
      "text/html": [
       "<div>\n",
       "<style scoped>\n",
       "    .dataframe tbody tr th:only-of-type {\n",
       "        vertical-align: middle;\n",
       "    }\n",
       "\n",
       "    .dataframe tbody tr th {\n",
       "        vertical-align: top;\n",
       "    }\n",
       "\n",
       "    .dataframe thead th {\n",
       "        text-align: right;\n",
       "    }\n",
       "</style>\n",
       "<table border=\"1\" class=\"dataframe\">\n",
       "  <thead>\n",
       "    <tr style=\"text-align: right;\">\n",
       "      <th></th>\n",
       "      <th>id</th>\n",
       "      <th>event_time</th>\n",
       "      <th>group</th>\n",
       "    </tr>\n",
       "  </thead>\n",
       "  <tbody>\n",
       "    <tr>\n",
       "      <th>count</th>\n",
       "      <td>2.441260e+05</td>\n",
       "      <td>2.441260e+05</td>\n",
       "      <td>244126.000000</td>\n",
       "    </tr>\n",
       "    <tr>\n",
       "      <th>mean</th>\n",
       "      <td>4.627568e+18</td>\n",
       "      <td>1.564914e+09</td>\n",
       "      <td>247.022296</td>\n",
       "    </tr>\n",
       "    <tr>\n",
       "      <th>std</th>\n",
       "      <td>2.642425e+18</td>\n",
       "      <td>1.771343e+05</td>\n",
       "      <td>0.824434</td>\n",
       "    </tr>\n",
       "    <tr>\n",
       "      <th>min</th>\n",
       "      <td>6.888747e+15</td>\n",
       "      <td>1.564030e+09</td>\n",
       "      <td>246.000000</td>\n",
       "    </tr>\n",
       "    <tr>\n",
       "      <th>25%</th>\n",
       "      <td>2.372212e+18</td>\n",
       "      <td>1.564757e+09</td>\n",
       "      <td>246.000000</td>\n",
       "    </tr>\n",
       "    <tr>\n",
       "      <th>50%</th>\n",
       "      <td>4.623192e+18</td>\n",
       "      <td>1.564919e+09</td>\n",
       "      <td>247.000000</td>\n",
       "    </tr>\n",
       "    <tr>\n",
       "      <th>75%</th>\n",
       "      <td>6.932517e+18</td>\n",
       "      <td>1.565075e+09</td>\n",
       "      <td>248.000000</td>\n",
       "    </tr>\n",
       "    <tr>\n",
       "      <th>max</th>\n",
       "      <td>9.222603e+18</td>\n",
       "      <td>1.565213e+09</td>\n",
       "      <td>248.000000</td>\n",
       "    </tr>\n",
       "  </tbody>\n",
       "</table>\n",
       "</div>"
      ],
      "text/plain": [
       "                 id    event_time          group\n",
       "count  2.441260e+05  2.441260e+05  244126.000000\n",
       "mean   4.627568e+18  1.564914e+09     247.022296\n",
       "std    2.642425e+18  1.771343e+05       0.824434\n",
       "min    6.888747e+15  1.564030e+09     246.000000\n",
       "25%    2.372212e+18  1.564757e+09     246.000000\n",
       "50%    4.623192e+18  1.564919e+09     247.000000\n",
       "75%    6.932517e+18  1.565075e+09     248.000000\n",
       "max    9.222603e+18  1.565213e+09     248.000000"
      ]
     },
     "execution_count": 7,
     "metadata": {},
     "output_type": "execute_result"
    }
   ],
   "source": [
    "data.describe()"
   ]
  },
  {
   "cell_type": "code",
   "execution_count": 8,
   "metadata": {},
   "outputs": [],
   "source": [
    "data['day_and_time'] = pd.to_datetime(data['event_time'], unit='s')"
   ]
  },
  {
   "cell_type": "code",
   "execution_count": 9,
   "metadata": {},
   "outputs": [],
   "source": [
    "data['day'] = pd.to_datetime(data['event_time'], unit='s').dt.date"
   ]
  },
  {
   "cell_type": "code",
   "execution_count": 10,
   "metadata": {},
   "outputs": [
    {
     "data": {
      "text/plain": [
       "event_name      0\n",
       "id              0\n",
       "event_time      0\n",
       "group           0\n",
       "day_and_time    0\n",
       "day             0\n",
       "dtype: int64"
      ]
     },
     "execution_count": 10,
     "metadata": {},
     "output_type": "execute_result"
    }
   ],
   "source": [
    "data.isna().sum()"
   ]
  },
  {
   "cell_type": "markdown",
   "metadata": {},
   "source": [
    "Выбросов нет, пропусков тоже"
   ]
  },
  {
   "cell_type": "code",
   "execution_count": 11,
   "metadata": {},
   "outputs": [
    {
     "data": {
      "text/plain": [
       "413"
      ]
     },
     "execution_count": 11,
     "metadata": {},
     "output_type": "execute_result"
    }
   ],
   "source": [
    "data.duplicated().sum()"
   ]
  },
  {
   "cell_type": "code",
   "execution_count": 12,
   "metadata": {},
   "outputs": [
    {
     "data": {
      "text/html": [
       "<div>\n",
       "<style scoped>\n",
       "    .dataframe tbody tr th:only-of-type {\n",
       "        vertical-align: middle;\n",
       "    }\n",
       "\n",
       "    .dataframe tbody tr th {\n",
       "        vertical-align: top;\n",
       "    }\n",
       "\n",
       "    .dataframe thead th {\n",
       "        text-align: right;\n",
       "    }\n",
       "</style>\n",
       "<table border=\"1\" class=\"dataframe\">\n",
       "  <thead>\n",
       "    <tr style=\"text-align: right;\">\n",
       "      <th></th>\n",
       "      <th>event_name</th>\n",
       "      <th>id</th>\n",
       "      <th>event_time</th>\n",
       "      <th>group</th>\n",
       "      <th>day_and_time</th>\n",
       "      <th>day</th>\n",
       "    </tr>\n",
       "  </thead>\n",
       "  <tbody>\n",
       "    <tr>\n",
       "      <th>453</th>\n",
       "      <td>MainScreenAppear</td>\n",
       "      <td>5613408041324010552</td>\n",
       "      <td>1564474784</td>\n",
       "      <td>248</td>\n",
       "      <td>2019-07-30 08:19:44</td>\n",
       "      <td>2019-07-30</td>\n",
       "    </tr>\n",
       "    <tr>\n",
       "      <th>2350</th>\n",
       "      <td>CartScreenAppear</td>\n",
       "      <td>1694940645335807244</td>\n",
       "      <td>1564609899</td>\n",
       "      <td>248</td>\n",
       "      <td>2019-07-31 21:51:39</td>\n",
       "      <td>2019-07-31</td>\n",
       "    </tr>\n",
       "    <tr>\n",
       "      <th>3573</th>\n",
       "      <td>MainScreenAppear</td>\n",
       "      <td>434103746454591587</td>\n",
       "      <td>1564628377</td>\n",
       "      <td>248</td>\n",
       "      <td>2019-08-01 02:59:37</td>\n",
       "      <td>2019-08-01</td>\n",
       "    </tr>\n",
       "  </tbody>\n",
       "</table>\n",
       "</div>"
      ],
      "text/plain": [
       "            event_name                   id  event_time  group  \\\n",
       "453   MainScreenAppear  5613408041324010552  1564474784    248   \n",
       "2350  CartScreenAppear  1694940645335807244  1564609899    248   \n",
       "3573  MainScreenAppear   434103746454591587  1564628377    248   \n",
       "\n",
       "            day_and_time         day  \n",
       "453  2019-07-30 08:19:44  2019-07-30  \n",
       "2350 2019-07-31 21:51:39  2019-07-31  \n",
       "3573 2019-08-01 02:59:37  2019-08-01  "
      ]
     },
     "execution_count": 12,
     "metadata": {},
     "output_type": "execute_result"
    }
   ],
   "source": [
    "data[data.duplicated()==True].head(3)"
   ]
  },
  {
   "cell_type": "code",
   "execution_count": 13,
   "metadata": {},
   "outputs": [
    {
     "data": {
      "text/html": [
       "<div>\n",
       "<style scoped>\n",
       "    .dataframe tbody tr th:only-of-type {\n",
       "        vertical-align: middle;\n",
       "    }\n",
       "\n",
       "    .dataframe tbody tr th {\n",
       "        vertical-align: top;\n",
       "    }\n",
       "\n",
       "    .dataframe thead th {\n",
       "        text-align: right;\n",
       "    }\n",
       "</style>\n",
       "<table border=\"1\" class=\"dataframe\">\n",
       "  <thead>\n",
       "    <tr style=\"text-align: right;\">\n",
       "      <th></th>\n",
       "      <th>event_name</th>\n",
       "      <th>id</th>\n",
       "      <th>event_time</th>\n",
       "      <th>group</th>\n",
       "      <th>day_and_time</th>\n",
       "      <th>day</th>\n",
       "    </tr>\n",
       "  </thead>\n",
       "  <tbody>\n",
       "    <tr>\n",
       "      <th>452</th>\n",
       "      <td>MainScreenAppear</td>\n",
       "      <td>5613408041324010552</td>\n",
       "      <td>1564474784</td>\n",
       "      <td>248</td>\n",
       "      <td>2019-07-30 08:19:44</td>\n",
       "      <td>2019-07-30</td>\n",
       "    </tr>\n",
       "    <tr>\n",
       "      <th>453</th>\n",
       "      <td>MainScreenAppear</td>\n",
       "      <td>5613408041324010552</td>\n",
       "      <td>1564474784</td>\n",
       "      <td>248</td>\n",
       "      <td>2019-07-30 08:19:44</td>\n",
       "      <td>2019-07-30</td>\n",
       "    </tr>\n",
       "  </tbody>\n",
       "</table>\n",
       "</div>"
      ],
      "text/plain": [
       "           event_name                   id  event_time  group  \\\n",
       "452  MainScreenAppear  5613408041324010552  1564474784    248   \n",
       "453  MainScreenAppear  5613408041324010552  1564474784    248   \n",
       "\n",
       "           day_and_time         day  \n",
       "452 2019-07-30 08:19:44  2019-07-30  \n",
       "453 2019-07-30 08:19:44  2019-07-30  "
      ]
     },
     "execution_count": 13,
     "metadata": {},
     "output_type": "execute_result"
    }
   ],
   "source": [
    "data[(data['id']==5613408041324010552) & (data['day_and_time']=='2019-07-30 08:19:44')]"
   ]
  },
  {
   "cell_type": "markdown",
   "metadata": {},
   "source": [
    "Найдено 413 дубликата, полностью совпадают, делаем вывод что нужно удалить их."
   ]
  },
  {
   "cell_type": "code",
   "execution_count": 14,
   "metadata": {},
   "outputs": [
    {
     "data": {
      "text/plain": [
       "0"
      ]
     },
     "execution_count": 14,
     "metadata": {},
     "output_type": "execute_result"
    }
   ],
   "source": [
    "data = data.drop_duplicates()\n",
    "data.duplicated().sum()"
   ]
  },
  {
   "cell_type": "code",
   "execution_count": 15,
   "metadata": {},
   "outputs": [
    {
     "data": {
      "text/html": [
       "<div>\n",
       "<style scoped>\n",
       "    .dataframe tbody tr th:only-of-type {\n",
       "        vertical-align: middle;\n",
       "    }\n",
       "\n",
       "    .dataframe tbody tr th {\n",
       "        vertical-align: top;\n",
       "    }\n",
       "\n",
       "    .dataframe thead th {\n",
       "        text-align: right;\n",
       "    }\n",
       "</style>\n",
       "<table border=\"1\" class=\"dataframe\">\n",
       "  <thead>\n",
       "    <tr style=\"text-align: right;\">\n",
       "      <th></th>\n",
       "      <th>event_name</th>\n",
       "      <th>id</th>\n",
       "      <th>event_time</th>\n",
       "      <th>group</th>\n",
       "      <th>day_and_time</th>\n",
       "      <th>day</th>\n",
       "    </tr>\n",
       "  </thead>\n",
       "  <tbody>\n",
       "    <tr>\n",
       "      <th>0</th>\n",
       "      <td>MainScreenAppear</td>\n",
       "      <td>4575588528974610257</td>\n",
       "      <td>1564029816</td>\n",
       "      <td>246</td>\n",
       "      <td>2019-07-25 04:43:36</td>\n",
       "      <td>2019-07-25</td>\n",
       "    </tr>\n",
       "    <tr>\n",
       "      <th>1</th>\n",
       "      <td>MainScreenAppear</td>\n",
       "      <td>7416695313311560658</td>\n",
       "      <td>1564053102</td>\n",
       "      <td>246</td>\n",
       "      <td>2019-07-25 11:11:42</td>\n",
       "      <td>2019-07-25</td>\n",
       "    </tr>\n",
       "    <tr>\n",
       "      <th>2</th>\n",
       "      <td>PaymentScreenSuccessful</td>\n",
       "      <td>3518123091307005509</td>\n",
       "      <td>1564054127</td>\n",
       "      <td>248</td>\n",
       "      <td>2019-07-25 11:28:47</td>\n",
       "      <td>2019-07-25</td>\n",
       "    </tr>\n",
       "    <tr>\n",
       "      <th>3</th>\n",
       "      <td>CartScreenAppear</td>\n",
       "      <td>3518123091307005509</td>\n",
       "      <td>1564054127</td>\n",
       "      <td>248</td>\n",
       "      <td>2019-07-25 11:28:47</td>\n",
       "      <td>2019-07-25</td>\n",
       "    </tr>\n",
       "    <tr>\n",
       "      <th>4</th>\n",
       "      <td>PaymentScreenSuccessful</td>\n",
       "      <td>6217807653094995999</td>\n",
       "      <td>1564055322</td>\n",
       "      <td>248</td>\n",
       "      <td>2019-07-25 11:48:42</td>\n",
       "      <td>2019-07-25</td>\n",
       "    </tr>\n",
       "    <tr>\n",
       "      <th>...</th>\n",
       "      <td>...</td>\n",
       "      <td>...</td>\n",
       "      <td>...</td>\n",
       "      <td>...</td>\n",
       "      <td>...</td>\n",
       "      <td>...</td>\n",
       "    </tr>\n",
       "    <tr>\n",
       "      <th>244121</th>\n",
       "      <td>MainScreenAppear</td>\n",
       "      <td>4599628364049201812</td>\n",
       "      <td>1565212345</td>\n",
       "      <td>247</td>\n",
       "      <td>2019-08-07 21:12:25</td>\n",
       "      <td>2019-08-07</td>\n",
       "    </tr>\n",
       "    <tr>\n",
       "      <th>244122</th>\n",
       "      <td>MainScreenAppear</td>\n",
       "      <td>5849806612437486590</td>\n",
       "      <td>1565212439</td>\n",
       "      <td>246</td>\n",
       "      <td>2019-08-07 21:13:59</td>\n",
       "      <td>2019-08-07</td>\n",
       "    </tr>\n",
       "    <tr>\n",
       "      <th>244123</th>\n",
       "      <td>MainScreenAppear</td>\n",
       "      <td>5746969938801999050</td>\n",
       "      <td>1565212483</td>\n",
       "      <td>246</td>\n",
       "      <td>2019-08-07 21:14:43</td>\n",
       "      <td>2019-08-07</td>\n",
       "    </tr>\n",
       "    <tr>\n",
       "      <th>244124</th>\n",
       "      <td>MainScreenAppear</td>\n",
       "      <td>5746969938801999050</td>\n",
       "      <td>1565212498</td>\n",
       "      <td>246</td>\n",
       "      <td>2019-08-07 21:14:58</td>\n",
       "      <td>2019-08-07</td>\n",
       "    </tr>\n",
       "    <tr>\n",
       "      <th>244125</th>\n",
       "      <td>OffersScreenAppear</td>\n",
       "      <td>5746969938801999050</td>\n",
       "      <td>1565212517</td>\n",
       "      <td>246</td>\n",
       "      <td>2019-08-07 21:15:17</td>\n",
       "      <td>2019-08-07</td>\n",
       "    </tr>\n",
       "  </tbody>\n",
       "</table>\n",
       "<p>243713 rows × 6 columns</p>\n",
       "</div>"
      ],
      "text/plain": [
       "                     event_name                   id  event_time  group  \\\n",
       "0              MainScreenAppear  4575588528974610257  1564029816    246   \n",
       "1              MainScreenAppear  7416695313311560658  1564053102    246   \n",
       "2       PaymentScreenSuccessful  3518123091307005509  1564054127    248   \n",
       "3              CartScreenAppear  3518123091307005509  1564054127    248   \n",
       "4       PaymentScreenSuccessful  6217807653094995999  1564055322    248   \n",
       "...                         ...                  ...         ...    ...   \n",
       "244121         MainScreenAppear  4599628364049201812  1565212345    247   \n",
       "244122         MainScreenAppear  5849806612437486590  1565212439    246   \n",
       "244123         MainScreenAppear  5746969938801999050  1565212483    246   \n",
       "244124         MainScreenAppear  5746969938801999050  1565212498    246   \n",
       "244125       OffersScreenAppear  5746969938801999050  1565212517    246   \n",
       "\n",
       "              day_and_time         day  \n",
       "0      2019-07-25 04:43:36  2019-07-25  \n",
       "1      2019-07-25 11:11:42  2019-07-25  \n",
       "2      2019-07-25 11:28:47  2019-07-25  \n",
       "3      2019-07-25 11:28:47  2019-07-25  \n",
       "4      2019-07-25 11:48:42  2019-07-25  \n",
       "...                    ...         ...  \n",
       "244121 2019-08-07 21:12:25  2019-08-07  \n",
       "244122 2019-08-07 21:13:59  2019-08-07  \n",
       "244123 2019-08-07 21:14:43  2019-08-07  \n",
       "244124 2019-08-07 21:14:58  2019-08-07  \n",
       "244125 2019-08-07 21:15:17  2019-08-07  \n",
       "\n",
       "[243713 rows x 6 columns]"
      ]
     },
     "execution_count": 15,
     "metadata": {},
     "output_type": "execute_result"
    }
   ],
   "source": [
    "data"
   ]
  },
  {
   "cell_type": "code",
   "execution_count": 16,
   "metadata": {},
   "outputs": [
    {
     "name": "stdout",
     "output_type": "stream",
     "text": [
      "<class 'pandas.core.frame.DataFrame'>\n",
      "Int64Index: 243713 entries, 0 to 244125\n",
      "Data columns (total 6 columns):\n",
      " #   Column        Non-Null Count   Dtype         \n",
      "---  ------        --------------   -----         \n",
      " 0   event_name    243713 non-null  object        \n",
      " 1   id            243713 non-null  int64         \n",
      " 2   event_time    243713 non-null  int64         \n",
      " 3   group         243713 non-null  int64         \n",
      " 4   day_and_time  243713 non-null  datetime64[ns]\n",
      " 5   day           243713 non-null  object        \n",
      "dtypes: datetime64[ns](1), int64(3), object(2)\n",
      "memory usage: 13.0+ MB\n"
     ]
    }
   ],
   "source": [
    "data.info()"
   ]
  },
  {
   "cell_type": "code",
   "execution_count": 17,
   "metadata": {},
   "outputs": [
    {
     "name": "stderr",
     "output_type": "stream",
     "text": [
      "C:\\Users\\Катерина\\AppData\\Local\\Temp\\ipykernel_10412\\247273370.py:1: SettingWithCopyWarning: \n",
      "A value is trying to be set on a copy of a slice from a DataFrame.\n",
      "Try using .loc[row_indexer,col_indexer] = value instead\n",
      "\n",
      "See the caveats in the documentation: https://pandas.pydata.org/pandas-docs/stable/user_guide/indexing.html#returning-a-view-versus-a-copy\n",
      "  data['day'] = data['day'].astype('datetime64[ns]')\n"
     ]
    }
   ],
   "source": [
    "data['day'] = data['day'].astype('datetime64[ns]')"
   ]
  },
  {
   "cell_type": "code",
   "execution_count": 18,
   "metadata": {},
   "outputs": [
    {
     "name": "stdout",
     "output_type": "stream",
     "text": [
      "<class 'pandas.core.frame.DataFrame'>\n",
      "Int64Index: 243713 entries, 0 to 244125\n",
      "Data columns (total 6 columns):\n",
      " #   Column        Non-Null Count   Dtype         \n",
      "---  ------        --------------   -----         \n",
      " 0   event_name    243713 non-null  object        \n",
      " 1   id            243713 non-null  int64         \n",
      " 2   event_time    243713 non-null  int64         \n",
      " 3   group         243713 non-null  int64         \n",
      " 4   day_and_time  243713 non-null  datetime64[ns]\n",
      " 5   day           243713 non-null  datetime64[ns]\n",
      "dtypes: datetime64[ns](2), int64(3), object(1)\n",
      "memory usage: 13.0+ MB\n"
     ]
    }
   ],
   "source": [
    "data.info()"
   ]
  },
  {
   "cell_type": "code",
   "execution_count": 19,
   "metadata": {},
   "outputs": [
    {
     "data": {
      "text/plain": [
       "248    85582\n",
       "246    80181\n",
       "247    77950\n",
       "Name: group, dtype: int64"
      ]
     },
     "execution_count": 19,
     "metadata": {},
     "output_type": "execute_result"
    }
   ],
   "source": [
    "data['group'].value_counts()"
   ]
  },
  {
   "cell_type": "markdown",
   "metadata": {},
   "source": [
    "В процессе мы сделали:\n",
    "- Замену названий\n",
    "- Проанализировали данные на пропуски, аномалии, дубликаты (нашли 413 шт и удалили их)\n",
    "- Добавили стобцы даты и времени, скорректировав их типы"
   ]
  },
  {
   "cell_type": "markdown",
   "metadata": {},
   "source": [
    "## Часть. Изучите и проверьте данные"
   ]
  },
  {
   "cell_type": "code",
   "execution_count": 20,
   "metadata": {},
   "outputs": [
    {
     "data": {
      "text/plain": [
       "array(['MainScreenAppear', 'PaymentScreenSuccessful', 'CartScreenAppear',\n",
       "       'OffersScreenAppear', 'Tutorial'], dtype=object)"
      ]
     },
     "execution_count": 20,
     "metadata": {},
     "output_type": "execute_result"
    }
   ],
   "source": [
    "data['event_name'].unique()"
   ]
  },
  {
   "cell_type": "code",
   "execution_count": 21,
   "metadata": {},
   "outputs": [
    {
     "data": {
      "text/plain": [
       "243713"
      ]
     },
     "execution_count": 21,
     "metadata": {},
     "output_type": "execute_result"
    }
   ],
   "source": [
    "data['event_name'].count()"
   ]
  },
  {
   "cell_type": "markdown",
   "metadata": {},
   "source": [
    "Всего событий в логе 243713, а уникальных 5 "
   ]
  },
  {
   "cell_type": "code",
   "execution_count": 22,
   "metadata": {},
   "outputs": [
    {
     "data": {
      "text/plain": [
       "7551"
      ]
     },
     "execution_count": 22,
     "metadata": {},
     "output_type": "execute_result"
    }
   ],
   "source": [
    "data['id'].nunique()"
   ]
  },
  {
   "cell_type": "markdown",
   "metadata": {},
   "source": [
    "всего уникальных пользователей в логе 7551"
   ]
  },
  {
   "cell_type": "code",
   "execution_count": 23,
   "metadata": {},
   "outputs": [
    {
     "data": {
      "text/plain": [
       "32.28"
      ]
     },
     "execution_count": 23,
     "metadata": {},
     "output_type": "execute_result"
    }
   ],
   "source": [
    "(data['event_name'].count()/data['id'].nunique()).round(2)"
   ]
  },
  {
   "cell_type": "markdown",
   "metadata": {},
   "source": [
    "В среднем 32 события приходится на пользователя"
   ]
  },
  {
   "cell_type": "code",
   "execution_count": 24,
   "metadata": {},
   "outputs": [],
   "source": [
    "event_by_user = data.groupby('id')['event_name'].count()"
   ]
  },
  {
   "cell_type": "code",
   "execution_count": 25,
   "metadata": {},
   "outputs": [
    {
     "data": {
      "text/plain": [
       "count    7551.000000\n",
       "mean       32.275593\n",
       "std        65.154219\n",
       "min         1.000000\n",
       "25%         9.000000\n",
       "50%        20.000000\n",
       "75%        37.000000\n",
       "max      2307.000000\n",
       "Name: event_name, dtype: float64"
      ]
     },
     "execution_count": 25,
     "metadata": {},
     "output_type": "execute_result"
    }
   ],
   "source": [
    "event_by_user.describe()"
   ]
  },
  {
   "cell_type": "code",
   "execution_count": 26,
   "metadata": {},
   "outputs": [
    {
     "data": {
      "image/png": "[encoded data removed]",
      "text/plain": [
       "<Figure size 720x360 with 1 Axes>"
      ]
     },
     "metadata": {
      "needs_background": "light"
     },
     "output_type": "display_data"
    }
   ],
   "source": [
    "plt.figure(figsize=(10,5))\n",
    "plt.hist(event_by_user, bins=100, range=(150,2350)) \n",
    "plt.xlabel('Количество пользователей')\n",
    "plt.grid()\n",
    "plt.ylabel('Количество событий')\n",
    "plt.title('Количество событий на пользователя');"
   ]
  },
  {
   "cell_type": "markdown",
   "metadata": {},
   "source": [
    "На граике видим выбросы свыше 1500. Таким образом лучше брать медиану"
   ]
  },
  {
   "cell_type": "code",
   "execution_count": 27,
   "metadata": {},
   "outputs": [
    {
     "data": {
      "text/plain": [
       "20.0"
      ]
     },
     "execution_count": 27,
     "metadata": {},
     "output_type": "execute_result"
    }
   ],
   "source": [
    "event_by_user.median()"
   ]
  },
  {
   "cell_type": "markdown",
   "metadata": {},
   "source": [
    "В среднем 20 событий приходится на пользователя"
   ]
  },
  {
   "cell_type": "code",
   "execution_count": 28,
   "metadata": {},
   "outputs": [
    {
     "data": {
      "text/plain": [
       "Timestamp('2019-07-25 00:00:00')"
      ]
     },
     "execution_count": 28,
     "metadata": {},
     "output_type": "execute_result"
    }
   ],
   "source": [
    "data['day'].min()"
   ]
  },
  {
   "cell_type": "code",
   "execution_count": 29,
   "metadata": {},
   "outputs": [
    {
     "data": {
      "text/plain": [
       "Timestamp('2019-08-07 00:00:00')"
      ]
     },
     "execution_count": 29,
     "metadata": {},
     "output_type": "execute_result"
    }
   ],
   "source": [
    "data['day'].max()"
   ]
  },
  {
   "cell_type": "markdown",
   "metadata": {},
   "source": [
    "25 июля начало и 7 августа конец периода данных"
   ]
  },
  {
   "cell_type": "code",
   "execution_count": 30,
   "metadata": {},
   "outputs": [
    {
     "data": {
      "image/png": "[encoded data removed]",
      "text/plain": [
       "<Figure size 1080x360 with 1 Axes>"
      ]
     },
     "metadata": {
      "needs_background": "light"
     },
     "output_type": "display_data"
    }
   ],
   "source": [
    "plt.figure(figsize=(15,5))\n",
    "plt.hist(data['day_and_time'], bins=100) \n",
    "plt.xlabel('Дата')\n",
    "plt.grid()\n",
    "plt.ylabel('Количество событий')\n",
    "plt.title('Cобытия по датам')\n",
    "plt.show()"
   ]
  },
  {
   "cell_type": "code",
   "execution_count": 31,
   "metadata": {},
   "outputs": [
    {
     "data": {
      "image/png": "[encoded data removed]",
      "text/plain": [
       "<Figure size 1080x360 with 1 Axes>"
      ]
     },
     "metadata": {
      "needs_background": "light"
     },
     "output_type": "display_data"
    }
   ],
   "source": [
    "plt.figure(figsize=(15,5))\n",
    "plt.hist(data['day_and_time'], bins=100, range=('2019-07-31 00:00:00','2019-08-01 00:00:00')) \n",
    "plt.xlabel('Дата')\n",
    "plt.grid()\n",
    "plt.ylabel('Количество событий')\n",
    "plt.title('Cобытия по датам')\n",
    "plt.show()"
   ]
  },
  {
   "cell_type": "markdown",
   "metadata": {},
   "source": [
    "Прослеживается некий скачек начиная с '2019-07-31 21:00:00', скорее всего «перекос данных» начинается с данного момента. \n",
    "Нужно очистить данные до 31 июля.\n",
    "Таким образом достоверные данные у нас с '2019-07-31 21:00:00' по '2019-08-07 00:00:00'"
   ]
  },
  {
   "cell_type": "code",
   "execution_count": 32,
   "metadata": {},
   "outputs": [],
   "source": [
    "old_users = data['id'].nunique()"
   ]
  },
  {
   "cell_type": "code",
   "execution_count": 33,
   "metadata": {},
   "outputs": [],
   "source": [
    "old_event_name = data['event_name'].count()"
   ]
  },
  {
   "cell_type": "code",
   "execution_count": 34,
   "metadata": {},
   "outputs": [],
   "source": [
    "data = data.loc[data['day_and_time'] > '2019-07-31 21:00:00'].sort_values(by='day_and_time').reset_index(drop=True)"
   ]
  },
  {
   "cell_type": "code",
   "execution_count": 35,
   "metadata": {},
   "outputs": [
    {
     "data": {
      "text/html": [
       "<div>\n",
       "<style scoped>\n",
       "    .dataframe tbody tr th:only-of-type {\n",
       "        vertical-align: middle;\n",
       "    }\n",
       "\n",
       "    .dataframe tbody tr th {\n",
       "        vertical-align: top;\n",
       "    }\n",
       "\n",
       "    .dataframe thead th {\n",
       "        text-align: right;\n",
       "    }\n",
       "</style>\n",
       "<table border=\"1\" class=\"dataframe\">\n",
       "  <thead>\n",
       "    <tr style=\"text-align: right;\">\n",
       "      <th></th>\n",
       "      <th>event_name</th>\n",
       "      <th>id</th>\n",
       "      <th>event_time</th>\n",
       "      <th>group</th>\n",
       "      <th>day_and_time</th>\n",
       "      <th>day</th>\n",
       "    </tr>\n",
       "  </thead>\n",
       "  <tbody>\n",
       "    <tr>\n",
       "      <th>0</th>\n",
       "      <td>MainScreenAppear</td>\n",
       "      <td>7701922487875823903</td>\n",
       "      <td>1564606857</td>\n",
       "      <td>247</td>\n",
       "      <td>2019-07-31 21:00:57</td>\n",
       "      <td>2019-07-31</td>\n",
       "    </tr>\n",
       "    <tr>\n",
       "      <th>1</th>\n",
       "      <td>MainScreenAppear</td>\n",
       "      <td>2539077412200498909</td>\n",
       "      <td>1564606905</td>\n",
       "      <td>247</td>\n",
       "      <td>2019-07-31 21:01:45</td>\n",
       "      <td>2019-07-31</td>\n",
       "    </tr>\n",
       "    <tr>\n",
       "      <th>2</th>\n",
       "      <td>OffersScreenAppear</td>\n",
       "      <td>3286987355161301427</td>\n",
       "      <td>1564606941</td>\n",
       "      <td>248</td>\n",
       "      <td>2019-07-31 21:02:21</td>\n",
       "      <td>2019-07-31</td>\n",
       "    </tr>\n",
       "    <tr>\n",
       "      <th>3</th>\n",
       "      <td>OffersScreenAppear</td>\n",
       "      <td>3187166762535343300</td>\n",
       "      <td>1564606943</td>\n",
       "      <td>247</td>\n",
       "      <td>2019-07-31 21:02:23</td>\n",
       "      <td>2019-07-31</td>\n",
       "    </tr>\n",
       "    <tr>\n",
       "      <th>4</th>\n",
       "      <td>MainScreenAppear</td>\n",
       "      <td>1118952406011435924</td>\n",
       "      <td>1564607005</td>\n",
       "      <td>248</td>\n",
       "      <td>2019-07-31 21:03:25</td>\n",
       "      <td>2019-07-31</td>\n",
       "    </tr>\n",
       "    <tr>\n",
       "      <th>...</th>\n",
       "      <td>...</td>\n",
       "      <td>...</td>\n",
       "      <td>...</td>\n",
       "      <td>...</td>\n",
       "      <td>...</td>\n",
       "      <td>...</td>\n",
       "    </tr>\n",
       "    <tr>\n",
       "      <th>241719</th>\n",
       "      <td>MainScreenAppear</td>\n",
       "      <td>4599628364049201812</td>\n",
       "      <td>1565212345</td>\n",
       "      <td>247</td>\n",
       "      <td>2019-08-07 21:12:25</td>\n",
       "      <td>2019-08-07</td>\n",
       "    </tr>\n",
       "    <tr>\n",
       "      <th>241720</th>\n",
       "      <td>MainScreenAppear</td>\n",
       "      <td>5849806612437486590</td>\n",
       "      <td>1565212439</td>\n",
       "      <td>246</td>\n",
       "      <td>2019-08-07 21:13:59</td>\n",
       "      <td>2019-08-07</td>\n",
       "    </tr>\n",
       "    <tr>\n",
       "      <th>241721</th>\n",
       "      <td>MainScreenAppear</td>\n",
       "      <td>5746969938801999050</td>\n",
       "      <td>1565212483</td>\n",
       "      <td>246</td>\n",
       "      <td>2019-08-07 21:14:43</td>\n",
       "      <td>2019-08-07</td>\n",
       "    </tr>\n",
       "    <tr>\n",
       "      <th>241722</th>\n",
       "      <td>MainScreenAppear</td>\n",
       "      <td>5746969938801999050</td>\n",
       "      <td>1565212498</td>\n",
       "      <td>246</td>\n",
       "      <td>2019-08-07 21:14:58</td>\n",
       "      <td>2019-08-07</td>\n",
       "    </tr>\n",
       "    <tr>\n",
       "      <th>241723</th>\n",
       "      <td>OffersScreenAppear</td>\n",
       "      <td>5746969938801999050</td>\n",
       "      <td>1565212517</td>\n",
       "      <td>246</td>\n",
       "      <td>2019-08-07 21:15:17</td>\n",
       "      <td>2019-08-07</td>\n",
       "    </tr>\n",
       "  </tbody>\n",
       "</table>\n",
       "<p>241724 rows × 6 columns</p>\n",
       "</div>"
      ],
      "text/plain": [
       "                event_name                   id  event_time  group  \\\n",
       "0         MainScreenAppear  7701922487875823903  1564606857    247   \n",
       "1         MainScreenAppear  2539077412200498909  1564606905    247   \n",
       "2       OffersScreenAppear  3286987355161301427  1564606941    248   \n",
       "3       OffersScreenAppear  3187166762535343300  1564606943    247   \n",
       "4         MainScreenAppear  1118952406011435924  1564607005    248   \n",
       "...                    ...                  ...         ...    ...   \n",
       "241719    MainScreenAppear  4599628364049201812  1565212345    247   \n",
       "241720    MainScreenAppear  5849806612437486590  1565212439    246   \n",
       "241721    MainScreenAppear  5746969938801999050  1565212483    246   \n",
       "241722    MainScreenAppear  5746969938801999050  1565212498    246   \n",
       "241723  OffersScreenAppear  5746969938801999050  1565212517    246   \n",
       "\n",
       "              day_and_time        day  \n",
       "0      2019-07-31 21:00:57 2019-07-31  \n",
       "1      2019-07-31 21:01:45 2019-07-31  \n",
       "2      2019-07-31 21:02:21 2019-07-31  \n",
       "3      2019-07-31 21:02:23 2019-07-31  \n",
       "4      2019-07-31 21:03:25 2019-07-31  \n",
       "...                    ...        ...  \n",
       "241719 2019-08-07 21:12:25 2019-08-07  \n",
       "241720 2019-08-07 21:13:59 2019-08-07  \n",
       "241721 2019-08-07 21:14:43 2019-08-07  \n",
       "241722 2019-08-07 21:14:58 2019-08-07  \n",
       "241723 2019-08-07 21:15:17 2019-08-07  \n",
       "\n",
       "[241724 rows x 6 columns]"
      ]
     },
     "execution_count": 35,
     "metadata": {},
     "output_type": "execute_result"
    }
   ],
   "source": [
    "data"
   ]
  },
  {
   "cell_type": "code",
   "execution_count": 36,
   "metadata": {},
   "outputs": [
    {
     "data": {
      "text/plain": [
       "7538"
      ]
     },
     "execution_count": 36,
     "metadata": {},
     "output_type": "execute_result"
    }
   ],
   "source": [
    "new_users = data['id'].nunique()\n",
    "new_users"
   ]
  },
  {
   "cell_type": "code",
   "execution_count": 37,
   "metadata": {},
   "outputs": [
    {
     "data": {
      "text/plain": [
       "7551"
      ]
     },
     "execution_count": 37,
     "metadata": {},
     "output_type": "execute_result"
    }
   ],
   "source": [
    "old_users"
   ]
  },
  {
   "cell_type": "code",
   "execution_count": 38,
   "metadata": {},
   "outputs": [
    {
     "data": {
      "text/plain": [
       "13"
      ]
     },
     "execution_count": 38,
     "metadata": {},
     "output_type": "execute_result"
    }
   ],
   "source": [
    "old_users - new_users"
   ]
  },
  {
   "cell_type": "code",
   "execution_count": 39,
   "metadata": {},
   "outputs": [
    {
     "data": {
      "text/plain": [
       "0.17"
      ]
     },
     "execution_count": 39,
     "metadata": {},
     "output_type": "execute_result"
    }
   ],
   "source": [
    "round((old_users - new_users)/old_users*100,2)"
   ]
  },
  {
   "cell_type": "code",
   "execution_count": 40,
   "metadata": {},
   "outputs": [
    {
     "data": {
      "text/plain": [
       "241724"
      ]
     },
     "execution_count": 40,
     "metadata": {},
     "output_type": "execute_result"
    }
   ],
   "source": [
    "new_event_name = data['event_name'].count()\n",
    "new_event_name"
   ]
  },
  {
   "cell_type": "code",
   "execution_count": 41,
   "metadata": {},
   "outputs": [
    {
     "data": {
      "text/plain": [
       "243713"
      ]
     },
     "execution_count": 41,
     "metadata": {},
     "output_type": "execute_result"
    }
   ],
   "source": [
    "old_event_name"
   ]
  },
  {
   "cell_type": "code",
   "execution_count": 42,
   "metadata": {},
   "outputs": [
    {
     "data": {
      "text/plain": [
       "1989"
      ]
     },
     "execution_count": 42,
     "metadata": {},
     "output_type": "execute_result"
    }
   ],
   "source": [
    "old_event_name - new_event_name"
   ]
  },
  {
   "cell_type": "code",
   "execution_count": 43,
   "metadata": {},
   "outputs": [
    {
     "data": {
      "text/plain": [
       "0.82"
      ]
     },
     "execution_count": 43,
     "metadata": {},
     "output_type": "execute_result"
    }
   ],
   "source": [
    "round((old_event_name - new_event_name)/old_event_name*100,2)"
   ]
  },
  {
   "cell_type": "markdown",
   "metadata": {},
   "source": [
    "Было пользователей 7551 - cтало 7538. Потеря данных составила  0.17%\n",
    "\n",
    "Было событий 243713 - cтало 241724. Потеря данных составила 0.82%"
   ]
  },
  {
   "cell_type": "code",
   "execution_count": 44,
   "metadata": {},
   "outputs": [
    {
     "data": {
      "text/plain": [
       "248    84875\n",
       "246    79556\n",
       "247    77293\n",
       "Name: group, dtype: int64"
      ]
     },
     "execution_count": 44,
     "metadata": {},
     "output_type": "execute_result"
    }
   ],
   "source": [
    "data['group'].value_counts()"
   ]
  },
  {
   "cell_type": "code",
   "execution_count": 45,
   "metadata": {},
   "outputs": [
    {
     "data": {
      "text/plain": [
       "group\n",
       "246    2484\n",
       "247    2517\n",
       "248    2537\n",
       "Name: id, dtype: int64"
      ]
     },
     "execution_count": 45,
     "metadata": {},
     "output_type": "execute_result"
    }
   ],
   "source": [
    "data.groupby('group')['id'].nunique()"
   ]
  },
  {
   "cell_type": "markdown",
   "metadata": {},
   "source": [
    "Пользователей в каждой группе приблизительно по 2,5 тысячи"
   ]
  },
  {
   "cell_type": "markdown",
   "metadata": {},
   "source": [
    "Количество событий, происходивших в июле не значимо по сравнению с августом. Технически в логи новых дней по некоторым пользователям могут «доезжать» события из прошлого — это может «перекашивать данные», таким образом нашли этот период. В ходе отрезания данных было отсечено 0,17% пользователей и 0,82% событий что не существенно. Среднее количество событий пользователя равно 32, ноесть выбросы берем медиану равную 20. Количество пользователей в каждой группе приблизительно стало по 2,5 тысячи, а событий по 80 тысяч. "
   ]
  },
  {
   "cell_type": "markdown",
   "metadata": {},
   "source": [
    "## Часть. Изучите воронку событий"
   ]
  },
  {
   "cell_type": "markdown",
   "metadata": {},
   "source": [
    "### Cобытия которые есть в логах, как часто они встречаются"
   ]
  },
  {
   "cell_type": "code",
   "execution_count": 46,
   "metadata": {},
   "outputs": [
    {
     "data": {
      "text/plain": [
       "MainScreenAppear           117889\n",
       "OffersScreenAppear          46531\n",
       "CartScreenAppear            42343\n",
       "PaymentScreenSuccessful     33951\n",
       "Tutorial                     1010\n",
       "Name: event_name, dtype: int64"
      ]
     },
     "execution_count": 46,
     "metadata": {},
     "output_type": "execute_result"
    }
   ],
   "source": [
    "data['event_name'].value_counts()"
   ]
  },
  {
   "cell_type": "code",
   "execution_count": 47,
   "metadata": {},
   "outputs": [
    {
     "data": {
      "image/png": "[encoded data removed]",
      "text/plain": [
       "<Figure size 720x360 with 1 Axes>"
      ]
     },
     "metadata": {
      "needs_background": "light"
     },
     "output_type": "display_data"
    }
   ],
   "source": [
    "plt.figure(figsize=(10,5))\n",
    "plt.hist(data['event_name'], bins=100) \n",
    "plt.xlabel('События')\n",
    "plt.grid()\n",
    "plt.ylabel('Количество событий')\n",
    "plt.title('Количество событий')\n",
    "plt.show()"
   ]
  },
  {
   "cell_type": "markdown",
   "metadata": {},
   "source": [
    "Появление главного экрана самое частое событие среди всех, примерно 12 тыс. раз\n",
    "\n",
    "С небольшим разрывом встречается 3 события: появление предложений, проведение платежа, появление корзины.\n"
   ]
  },
  {
   "cell_type": "markdown",
   "metadata": {},
   "source": [
    "### Cколько пользователей совершали каждое из этих событий c подсчетом доли пользователей, которые хоть раз совершали событие."
   ]
  },
  {
   "cell_type": "code",
   "execution_count": 48,
   "metadata": {},
   "outputs": [
    {
     "data": {
      "text/html": [
       "<div>\n",
       "<style scoped>\n",
       "    .dataframe tbody tr th:only-of-type {\n",
       "        vertical-align: middle;\n",
       "    }\n",
       "\n",
       "    .dataframe tbody tr th {\n",
       "        vertical-align: top;\n",
       "    }\n",
       "\n",
       "    .dataframe thead th {\n",
       "        text-align: right;\n",
       "    }\n",
       "</style>\n",
       "<table border=\"1\" class=\"dataframe\">\n",
       "  <thead>\n",
       "    <tr style=\"text-align: right;\">\n",
       "      <th></th>\n",
       "      <th>event_name</th>\n",
       "      <th>count</th>\n",
       "      <th>id</th>\n",
       "    </tr>\n",
       "  </thead>\n",
       "  <tbody>\n",
       "    <tr>\n",
       "      <th>0</th>\n",
       "      <td>MainScreenAppear</td>\n",
       "      <td>117889</td>\n",
       "      <td>7423</td>\n",
       "    </tr>\n",
       "    <tr>\n",
       "      <th>1</th>\n",
       "      <td>OffersScreenAppear</td>\n",
       "      <td>46531</td>\n",
       "      <td>4597</td>\n",
       "    </tr>\n",
       "    <tr>\n",
       "      <th>2</th>\n",
       "      <td>CartScreenAppear</td>\n",
       "      <td>42343</td>\n",
       "      <td>3736</td>\n",
       "    </tr>\n",
       "    <tr>\n",
       "      <th>3</th>\n",
       "      <td>PaymentScreenSuccessful</td>\n",
       "      <td>33951</td>\n",
       "      <td>3540</td>\n",
       "    </tr>\n",
       "    <tr>\n",
       "      <th>4</th>\n",
       "      <td>Tutorial</td>\n",
       "      <td>1010</td>\n",
       "      <td>843</td>\n",
       "    </tr>\n",
       "  </tbody>\n",
       "</table>\n",
       "</div>"
      ],
      "text/plain": [
       "                event_name   count    id\n",
       "0         MainScreenAppear  117889  7423\n",
       "1       OffersScreenAppear   46531  4597\n",
       "2         CartScreenAppear   42343  3736\n",
       "3  PaymentScreenSuccessful   33951  3540\n",
       "4                 Tutorial    1010   843"
      ]
     },
     "execution_count": 48,
     "metadata": {},
     "output_type": "execute_result"
    }
   ],
   "source": [
    "id_event = data.groupby('event_name').agg({'event_name':'count', 'id':'nunique'}).sort_values(by='id', ascending=False)\n",
    "id_event.columns = ['count',  'id']\n",
    "id_event.reset_index()"
   ]
  },
  {
   "cell_type": "code",
   "execution_count": 49,
   "metadata": {},
   "outputs": [
    {
     "data": {
      "text/html": [
       "<div>\n",
       "<style scoped>\n",
       "    .dataframe tbody tr th:only-of-type {\n",
       "        vertical-align: middle;\n",
       "    }\n",
       "\n",
       "    .dataframe tbody tr th {\n",
       "        vertical-align: top;\n",
       "    }\n",
       "\n",
       "    .dataframe thead th {\n",
       "        text-align: right;\n",
       "    }\n",
       "</style>\n",
       "<table border=\"1\" class=\"dataframe\">\n",
       "  <thead>\n",
       "    <tr style=\"text-align: right;\">\n",
       "      <th></th>\n",
       "      <th>count</th>\n",
       "      <th>id</th>\n",
       "    </tr>\n",
       "    <tr>\n",
       "      <th>event_name</th>\n",
       "      <th></th>\n",
       "      <th></th>\n",
       "    </tr>\n",
       "  </thead>\n",
       "  <tbody>\n",
       "    <tr>\n",
       "      <th>MainScreenAppear</th>\n",
       "      <td>117889</td>\n",
       "      <td>7423</td>\n",
       "    </tr>\n",
       "    <tr>\n",
       "      <th>OffersScreenAppear</th>\n",
       "      <td>46531</td>\n",
       "      <td>4597</td>\n",
       "    </tr>\n",
       "    <tr>\n",
       "      <th>CartScreenAppear</th>\n",
       "      <td>42343</td>\n",
       "      <td>3736</td>\n",
       "    </tr>\n",
       "    <tr>\n",
       "      <th>PaymentScreenSuccessful</th>\n",
       "      <td>33951</td>\n",
       "      <td>3540</td>\n",
       "    </tr>\n",
       "    <tr>\n",
       "      <th>Tutorial</th>\n",
       "      <td>1010</td>\n",
       "      <td>843</td>\n",
       "    </tr>\n",
       "  </tbody>\n",
       "</table>\n",
       "</div>"
      ],
      "text/plain": [
       "                          count    id\n",
       "event_name                           \n",
       "MainScreenAppear         117889  7423\n",
       "OffersScreenAppear        46531  4597\n",
       "CartScreenAppear          42343  3736\n",
       "PaymentScreenSuccessful   33951  3540\n",
       "Tutorial                   1010   843"
      ]
     },
     "execution_count": 49,
     "metadata": {},
     "output_type": "execute_result"
    }
   ],
   "source": [
    "id_event"
   ]
  },
  {
   "cell_type": "code",
   "execution_count": 50,
   "metadata": {},
   "outputs": [],
   "source": [
    "id_event['id_prst'] = (id_event['id'] / data['id'].nunique() * 100).round(2)\n"
   ]
  },
  {
   "cell_type": "markdown",
   "metadata": {},
   "source": [
    "### Предположите, в каком порядке происходят события."
   ]
  },
  {
   "cell_type": "code",
   "execution_count": 51,
   "metadata": {},
   "outputs": [
    {
     "data": {
      "text/html": [
       "<div>\n",
       "<style scoped>\n",
       "    .dataframe tbody tr th:only-of-type {\n",
       "        vertical-align: middle;\n",
       "    }\n",
       "\n",
       "    .dataframe tbody tr th {\n",
       "        vertical-align: top;\n",
       "    }\n",
       "\n",
       "    .dataframe thead th {\n",
       "        text-align: right;\n",
       "    }\n",
       "</style>\n",
       "<table border=\"1\" class=\"dataframe\">\n",
       "  <thead>\n",
       "    <tr style=\"text-align: right;\">\n",
       "      <th></th>\n",
       "      <th>count</th>\n",
       "      <th>id</th>\n",
       "      <th>id_prst</th>\n",
       "    </tr>\n",
       "    <tr>\n",
       "      <th>event_name</th>\n",
       "      <th></th>\n",
       "      <th></th>\n",
       "      <th></th>\n",
       "    </tr>\n",
       "  </thead>\n",
       "  <tbody>\n",
       "    <tr>\n",
       "      <th>MainScreenAppear</th>\n",
       "      <td>117889</td>\n",
       "      <td>7423</td>\n",
       "      <td>98.47</td>\n",
       "    </tr>\n",
       "    <tr>\n",
       "      <th>OffersScreenAppear</th>\n",
       "      <td>46531</td>\n",
       "      <td>4597</td>\n",
       "      <td>60.98</td>\n",
       "    </tr>\n",
       "    <tr>\n",
       "      <th>CartScreenAppear</th>\n",
       "      <td>42343</td>\n",
       "      <td>3736</td>\n",
       "      <td>49.56</td>\n",
       "    </tr>\n",
       "    <tr>\n",
       "      <th>PaymentScreenSuccessful</th>\n",
       "      <td>33951</td>\n",
       "      <td>3540</td>\n",
       "      <td>46.96</td>\n",
       "    </tr>\n",
       "    <tr>\n",
       "      <th>Tutorial</th>\n",
       "      <td>1010</td>\n",
       "      <td>843</td>\n",
       "      <td>11.18</td>\n",
       "    </tr>\n",
       "  </tbody>\n",
       "</table>\n",
       "</div>"
      ],
      "text/plain": [
       "                          count    id  id_prst\n",
       "event_name                                    \n",
       "MainScreenAppear         117889  7423    98.47\n",
       "OffersScreenAppear        46531  4597    60.98\n",
       "CartScreenAppear          42343  3736    49.56\n",
       "PaymentScreenSuccessful   33951  3540    46.96\n",
       "Tutorial                   1010   843    11.18"
      ]
     },
     "execution_count": 51,
     "metadata": {},
     "output_type": "execute_result"
    }
   ],
   "source": [
    "id_event"
   ]
  },
  {
   "cell_type": "markdown",
   "metadata": {},
   "source": [
    "Судя по количеству событий, пользователь сначало заходит на стартовый экран, видит окно с предложениями(которые его заинтересовывают), оформляем товары в корзину и далее совершает платеж.\n",
    "Картина вырисовывается достаточно складно.\n",
    "Так же есть инструкции для тех кто не разобрался."
   ]
  },
  {
   "cell_type": "code",
   "execution_count": 52,
   "metadata": {},
   "outputs": [
    {
     "data": {
      "text/plain": [
       "0.0042"
      ]
     },
     "execution_count": 52,
     "metadata": {},
     "output_type": "execute_result"
    }
   ],
   "source": [
    "(id_event.reset_index().loc[4,'count'] / data['event_name'].count()).round(4)"
   ]
  },
  {
   "cell_type": "markdown",
   "metadata": {},
   "source": [
    "Не все события попадают в воронку, попадает все кроме руководства пользователя. Tutorial составляет всего 0.42%, что не значительно"
   ]
  },
  {
   "cell_type": "code",
   "execution_count": 53,
   "metadata": {},
   "outputs": [
    {
     "data": {
      "text/html": [
       "<div>\n",
       "<style scoped>\n",
       "    .dataframe tbody tr th:only-of-type {\n",
       "        vertical-align: middle;\n",
       "    }\n",
       "\n",
       "    .dataframe tbody tr th {\n",
       "        vertical-align: top;\n",
       "    }\n",
       "\n",
       "    .dataframe thead th {\n",
       "        text-align: right;\n",
       "    }\n",
       "</style>\n",
       "<table border=\"1\" class=\"dataframe\">\n",
       "  <thead>\n",
       "    <tr style=\"text-align: right;\">\n",
       "      <th></th>\n",
       "      <th>event_name</th>\n",
       "      <th>id</th>\n",
       "      <th>event_time</th>\n",
       "      <th>group</th>\n",
       "      <th>day_and_time</th>\n",
       "      <th>day</th>\n",
       "    </tr>\n",
       "  </thead>\n",
       "  <tbody>\n",
       "    <tr>\n",
       "      <th>0</th>\n",
       "      <td>MainScreenAppear</td>\n",
       "      <td>7701922487875823903</td>\n",
       "      <td>1564606857</td>\n",
       "      <td>247</td>\n",
       "      <td>2019-07-31 21:00:57</td>\n",
       "      <td>2019-07-31</td>\n",
       "    </tr>\n",
       "    <tr>\n",
       "      <th>1</th>\n",
       "      <td>MainScreenAppear</td>\n",
       "      <td>2539077412200498909</td>\n",
       "      <td>1564606905</td>\n",
       "      <td>247</td>\n",
       "      <td>2019-07-31 21:01:45</td>\n",
       "      <td>2019-07-31</td>\n",
       "    </tr>\n",
       "    <tr>\n",
       "      <th>2</th>\n",
       "      <td>OffersScreenAppear</td>\n",
       "      <td>3286987355161301427</td>\n",
       "      <td>1564606941</td>\n",
       "      <td>248</td>\n",
       "      <td>2019-07-31 21:02:21</td>\n",
       "      <td>2019-07-31</td>\n",
       "    </tr>\n",
       "    <tr>\n",
       "      <th>3</th>\n",
       "      <td>OffersScreenAppear</td>\n",
       "      <td>3187166762535343300</td>\n",
       "      <td>1564606943</td>\n",
       "      <td>247</td>\n",
       "      <td>2019-07-31 21:02:23</td>\n",
       "      <td>2019-07-31</td>\n",
       "    </tr>\n",
       "    <tr>\n",
       "      <th>4</th>\n",
       "      <td>MainScreenAppear</td>\n",
       "      <td>1118952406011435924</td>\n",
       "      <td>1564607005</td>\n",
       "      <td>248</td>\n",
       "      <td>2019-07-31 21:03:25</td>\n",
       "      <td>2019-07-31</td>\n",
       "    </tr>\n",
       "    <tr>\n",
       "      <th>...</th>\n",
       "      <td>...</td>\n",
       "      <td>...</td>\n",
       "      <td>...</td>\n",
       "      <td>...</td>\n",
       "      <td>...</td>\n",
       "      <td>...</td>\n",
       "    </tr>\n",
       "    <tr>\n",
       "      <th>240709</th>\n",
       "      <td>MainScreenAppear</td>\n",
       "      <td>4599628364049201812</td>\n",
       "      <td>1565212345</td>\n",
       "      <td>247</td>\n",
       "      <td>2019-08-07 21:12:25</td>\n",
       "      <td>2019-08-07</td>\n",
       "    </tr>\n",
       "    <tr>\n",
       "      <th>240710</th>\n",
       "      <td>MainScreenAppear</td>\n",
       "      <td>5849806612437486590</td>\n",
       "      <td>1565212439</td>\n",
       "      <td>246</td>\n",
       "      <td>2019-08-07 21:13:59</td>\n",
       "      <td>2019-08-07</td>\n",
       "    </tr>\n",
       "    <tr>\n",
       "      <th>240711</th>\n",
       "      <td>MainScreenAppear</td>\n",
       "      <td>5746969938801999050</td>\n",
       "      <td>1565212483</td>\n",
       "      <td>246</td>\n",
       "      <td>2019-08-07 21:14:43</td>\n",
       "      <td>2019-08-07</td>\n",
       "    </tr>\n",
       "    <tr>\n",
       "      <th>240712</th>\n",
       "      <td>MainScreenAppear</td>\n",
       "      <td>5746969938801999050</td>\n",
       "      <td>1565212498</td>\n",
       "      <td>246</td>\n",
       "      <td>2019-08-07 21:14:58</td>\n",
       "      <td>2019-08-07</td>\n",
       "    </tr>\n",
       "    <tr>\n",
       "      <th>240713</th>\n",
       "      <td>OffersScreenAppear</td>\n",
       "      <td>5746969938801999050</td>\n",
       "      <td>1565212517</td>\n",
       "      <td>246</td>\n",
       "      <td>2019-08-07 21:15:17</td>\n",
       "      <td>2019-08-07</td>\n",
       "    </tr>\n",
       "  </tbody>\n",
       "</table>\n",
       "<p>240714 rows × 6 columns</p>\n",
       "</div>"
      ],
      "text/plain": [
       "                event_name                   id  event_time  group  \\\n",
       "0         MainScreenAppear  7701922487875823903  1564606857    247   \n",
       "1         MainScreenAppear  2539077412200498909  1564606905    247   \n",
       "2       OffersScreenAppear  3286987355161301427  1564606941    248   \n",
       "3       OffersScreenAppear  3187166762535343300  1564606943    247   \n",
       "4         MainScreenAppear  1118952406011435924  1564607005    248   \n",
       "...                    ...                  ...         ...    ...   \n",
       "240709    MainScreenAppear  4599628364049201812  1565212345    247   \n",
       "240710    MainScreenAppear  5849806612437486590  1565212439    246   \n",
       "240711    MainScreenAppear  5746969938801999050  1565212483    246   \n",
       "240712    MainScreenAppear  5746969938801999050  1565212498    246   \n",
       "240713  OffersScreenAppear  5746969938801999050  1565212517    246   \n",
       "\n",
       "              day_and_time        day  \n",
       "0      2019-07-31 21:00:57 2019-07-31  \n",
       "1      2019-07-31 21:01:45 2019-07-31  \n",
       "2      2019-07-31 21:02:21 2019-07-31  \n",
       "3      2019-07-31 21:02:23 2019-07-31  \n",
       "4      2019-07-31 21:03:25 2019-07-31  \n",
       "...                    ...        ...  \n",
       "240709 2019-08-07 21:12:25 2019-08-07  \n",
       "240710 2019-08-07 21:13:59 2019-08-07  \n",
       "240711 2019-08-07 21:14:43 2019-08-07  \n",
       "240712 2019-08-07 21:14:58 2019-08-07  \n",
       "240713 2019-08-07 21:15:17 2019-08-07  \n",
       "\n",
       "[240714 rows x 6 columns]"
      ]
     },
     "execution_count": 53,
     "metadata": {},
     "output_type": "execute_result"
    }
   ],
   "source": [
    "data = data.loc[data['event_name'] != 'Tutorial'].sort_values(by='day_and_time').reset_index(drop=True)\n",
    "data"
   ]
  },
  {
   "cell_type": "markdown",
   "metadata": {},
   "source": [
    "### Доля пользователей проходящих на следующий шаг воронки "
   ]
  },
  {
   "cell_type": "markdown",
   "metadata": {},
   "source": [
    "Добавим в таблицу id_event расчетные данные : доля пользователей перешедших с предыдущего этапа и доля пользователей с первоначального этапа"
   ]
  },
  {
   "cell_type": "code",
   "execution_count": 54,
   "metadata": {},
   "outputs": [],
   "source": [
    "id_event = data.groupby('event_name').agg({'event_name':'count', 'id':'nunique'}).sort_values(by='id', ascending=False)\n",
    "id_event.columns = ['count',  'id']\n",
    "id_event.reset_index()\n",
    "id_event['id_prst'] = (id_event['id'] / data['id'].nunique() * 100).round(2)"
   ]
  },
  {
   "cell_type": "code",
   "execution_count": 55,
   "metadata": {},
   "outputs": [
    {
     "data": {
      "text/html": [
       "<div>\n",
       "<style scoped>\n",
       "    .dataframe tbody tr th:only-of-type {\n",
       "        vertical-align: middle;\n",
       "    }\n",
       "\n",
       "    .dataframe tbody tr th {\n",
       "        vertical-align: top;\n",
       "    }\n",
       "\n",
       "    .dataframe thead th {\n",
       "        text-align: right;\n",
       "    }\n",
       "</style>\n",
       "<table border=\"1\" class=\"dataframe\">\n",
       "  <thead>\n",
       "    <tr style=\"text-align: right;\">\n",
       "      <th></th>\n",
       "      <th>event_name</th>\n",
       "      <th>count</th>\n",
       "      <th>id</th>\n",
       "      <th>id_prst</th>\n",
       "    </tr>\n",
       "  </thead>\n",
       "  <tbody>\n",
       "    <tr>\n",
       "      <th>0</th>\n",
       "      <td>MainScreenAppear</td>\n",
       "      <td>117889</td>\n",
       "      <td>7423</td>\n",
       "      <td>98.53</td>\n",
       "    </tr>\n",
       "    <tr>\n",
       "      <th>1</th>\n",
       "      <td>OffersScreenAppear</td>\n",
       "      <td>46531</td>\n",
       "      <td>4597</td>\n",
       "      <td>61.02</td>\n",
       "    </tr>\n",
       "    <tr>\n",
       "      <th>2</th>\n",
       "      <td>CartScreenAppear</td>\n",
       "      <td>42343</td>\n",
       "      <td>3736</td>\n",
       "      <td>49.59</td>\n",
       "    </tr>\n",
       "    <tr>\n",
       "      <th>3</th>\n",
       "      <td>PaymentScreenSuccessful</td>\n",
       "      <td>33951</td>\n",
       "      <td>3540</td>\n",
       "      <td>46.99</td>\n",
       "    </tr>\n",
       "  </tbody>\n",
       "</table>\n",
       "</div>"
      ],
      "text/plain": [
       "                event_name   count    id  id_prst\n",
       "0         MainScreenAppear  117889  7423    98.53\n",
       "1       OffersScreenAppear   46531  4597    61.02\n",
       "2         CartScreenAppear   42343  3736    49.59\n",
       "3  PaymentScreenSuccessful   33951  3540    46.99"
      ]
     },
     "execution_count": 55,
     "metadata": {},
     "output_type": "execute_result"
    }
   ],
   "source": [
    "id_event.reset_index()"
   ]
  },
  {
   "cell_type": "code",
   "execution_count": 56,
   "metadata": {},
   "outputs": [],
   "source": [
    "prev_users = id_event.reset_index().loc[0,'id']\n",
    "start_users = prev_users"
   ]
  },
  {
   "cell_type": "code",
   "execution_count": 57,
   "metadata": {},
   "outputs": [
    {
     "data": {
      "text/html": [
       "<div>\n",
       "<style scoped>\n",
       "    .dataframe tbody tr th:only-of-type {\n",
       "        vertical-align: middle;\n",
       "    }\n",
       "\n",
       "    .dataframe tbody tr th {\n",
       "        vertical-align: top;\n",
       "    }\n",
       "\n",
       "    .dataframe thead th {\n",
       "        text-align: right;\n",
       "    }\n",
       "</style>\n",
       "<table border=\"1\" class=\"dataframe\">\n",
       "  <thead>\n",
       "    <tr style=\"text-align: right;\">\n",
       "      <th></th>\n",
       "      <th>count</th>\n",
       "      <th>id</th>\n",
       "      <th>id_prst</th>\n",
       "      <th>user_last</th>\n",
       "      <th>user_start</th>\n",
       "    </tr>\n",
       "    <tr>\n",
       "      <th>event_name</th>\n",
       "      <th></th>\n",
       "      <th></th>\n",
       "      <th></th>\n",
       "      <th></th>\n",
       "      <th></th>\n",
       "    </tr>\n",
       "  </thead>\n",
       "  <tbody>\n",
       "    <tr>\n",
       "      <th>MainScreenAppear</th>\n",
       "      <td>117889</td>\n",
       "      <td>7423</td>\n",
       "      <td>98.53</td>\n",
       "      <td>100.0</td>\n",
       "      <td>100.0</td>\n",
       "    </tr>\n",
       "    <tr>\n",
       "      <th>OffersScreenAppear</th>\n",
       "      <td>46531</td>\n",
       "      <td>4597</td>\n",
       "      <td>61.02</td>\n",
       "      <td>61.9</td>\n",
       "      <td>61.9</td>\n",
       "    </tr>\n",
       "    <tr>\n",
       "      <th>CartScreenAppear</th>\n",
       "      <td>42343</td>\n",
       "      <td>3736</td>\n",
       "      <td>49.59</td>\n",
       "      <td>81.3</td>\n",
       "      <td>50.3</td>\n",
       "    </tr>\n",
       "    <tr>\n",
       "      <th>PaymentScreenSuccessful</th>\n",
       "      <td>33951</td>\n",
       "      <td>3540</td>\n",
       "      <td>46.99</td>\n",
       "      <td>94.8</td>\n",
       "      <td>47.7</td>\n",
       "    </tr>\n",
       "  </tbody>\n",
       "</table>\n",
       "</div>"
      ],
      "text/plain": [
       "                          count    id  id_prst  user_last  user_start\n",
       "event_name                                                           \n",
       "MainScreenAppear         117889  7423    98.53      100.0       100.0\n",
       "OffersScreenAppear        46531  4597    61.02       61.9        61.9\n",
       "CartScreenAppear          42343  3736    49.59       81.3        50.3\n",
       "PaymentScreenSuccessful   33951  3540    46.99       94.8        47.7"
      ]
     },
     "execution_count": 57,
     "metadata": {},
     "output_type": "execute_result"
    }
   ],
   "source": [
    "for i in id_event.index:\n",
    "    id_event.loc[i,'user_last'] = (id_event.loc[i,'id'] / prev_users * 100).round(1)\n",
    "    id_event.loc[i,'user_start'] = (id_event.loc[i,'id'] / start_users * 100).round(1)\n",
    "    prev_users = id_event.loc[i,'id']\n",
    "id_event   "
   ]
  },
  {
   "cell_type": "code",
   "execution_count": 58,
   "metadata": {},
   "outputs": [
    {
     "data": {
      "image/png": "[encoded data removed]",
      "text/plain": [
       "<Figure size 1080x216 with 1 Axes>"
      ]
     },
     "metadata": {
      "needs_background": "light"
     },
     "output_type": "display_data"
    }
   ],
   "source": [
    "# Задаем размеры графиков\n",
    "plt.figure(figsize=(15, 3))\n",
    "\n",
    "plt.plot(id_event['user_last'], label='% переходов на каждый последующий шаг относительно предыдущего')\n",
    "plt.plot(id_event['user_start'], label='% переходов на каждый последующий шаг относительно изначального')\n",
    "plt.legend() \n",
    "\n",
    "#  Добавляем подписи к осям:\n",
    "plt.title('Доля пользователей проходящих на следующий шаг воронки')\n",
    "plt.xlabel('событие')\n",
    "plt.ylabel('%')\n",
    "\n",
    "# добавляем ось X\n",
    "plt.axhline(y=50, color='black', linestyle='--')\n",
    "\n",
    "\n",
    "plt.show()"
   ]
  },
  {
   "cell_type": "markdown",
   "metadata": {},
   "source": [
    "По воронке мы видим что у тех кто % переходов на каждый последующий шаг относительно изначального выглядит обычно - тенденция к нисхождению.\n",
    "\n",
    "% переходов на каждый последующий шаг относительно предыдущего - выглядит странно, после переходов на страницу предложений вырастает количество переходов в корзину и далее увеличение оплат, такого не может быть. Надо найти причину аномалии."
   ]
  },
  {
   "cell_type": "markdown",
   "metadata": {},
   "source": [
    "### Момент потери пользователей"
   ]
  },
  {
   "cell_type": "code",
   "execution_count": 59,
   "metadata": {},
   "outputs": [
    {
     "data": {
      "text/html": [
       "<div>\n",
       "<style scoped>\n",
       "    .dataframe tbody tr th:only-of-type {\n",
       "        vertical-align: middle;\n",
       "    }\n",
       "\n",
       "    .dataframe tbody tr th {\n",
       "        vertical-align: top;\n",
       "    }\n",
       "\n",
       "    .dataframe thead th {\n",
       "        text-align: right;\n",
       "    }\n",
       "</style>\n",
       "<table border=\"1\" class=\"dataframe\">\n",
       "  <thead>\n",
       "    <tr style=\"text-align: right;\">\n",
       "      <th></th>\n",
       "      <th>count</th>\n",
       "      <th>id</th>\n",
       "      <th>id_prst</th>\n",
       "      <th>user_last</th>\n",
       "      <th>user_start</th>\n",
       "      <th>diff_user_last</th>\n",
       "      <th>diff_user_start</th>\n",
       "    </tr>\n",
       "    <tr>\n",
       "      <th>event_name</th>\n",
       "      <th></th>\n",
       "      <th></th>\n",
       "      <th></th>\n",
       "      <th></th>\n",
       "      <th></th>\n",
       "      <th></th>\n",
       "      <th></th>\n",
       "    </tr>\n",
       "  </thead>\n",
       "  <tbody>\n",
       "    <tr>\n",
       "      <th>MainScreenAppear</th>\n",
       "      <td>117889</td>\n",
       "      <td>7423</td>\n",
       "      <td>98.53</td>\n",
       "      <td>100.0</td>\n",
       "      <td>100.0</td>\n",
       "      <td>0.0</td>\n",
       "      <td>0.0</td>\n",
       "    </tr>\n",
       "    <tr>\n",
       "      <th>OffersScreenAppear</th>\n",
       "      <td>46531</td>\n",
       "      <td>4597</td>\n",
       "      <td>61.02</td>\n",
       "      <td>61.9</td>\n",
       "      <td>61.9</td>\n",
       "      <td>38.1</td>\n",
       "      <td>38.1</td>\n",
       "    </tr>\n",
       "    <tr>\n",
       "      <th>CartScreenAppear</th>\n",
       "      <td>42343</td>\n",
       "      <td>3736</td>\n",
       "      <td>49.59</td>\n",
       "      <td>81.3</td>\n",
       "      <td>50.3</td>\n",
       "      <td>18.7</td>\n",
       "      <td>49.7</td>\n",
       "    </tr>\n",
       "    <tr>\n",
       "      <th>PaymentScreenSuccessful</th>\n",
       "      <td>33951</td>\n",
       "      <td>3540</td>\n",
       "      <td>46.99</td>\n",
       "      <td>94.8</td>\n",
       "      <td>47.7</td>\n",
       "      <td>5.2</td>\n",
       "      <td>52.3</td>\n",
       "    </tr>\n",
       "  </tbody>\n",
       "</table>\n",
       "</div>"
      ],
      "text/plain": [
       "                          count    id  id_prst  user_last  user_start  \\\n",
       "event_name                                                              \n",
       "MainScreenAppear         117889  7423    98.53      100.0       100.0   \n",
       "OffersScreenAppear        46531  4597    61.02       61.9        61.9   \n",
       "CartScreenAppear          42343  3736    49.59       81.3        50.3   \n",
       "PaymentScreenSuccessful   33951  3540    46.99       94.8        47.7   \n",
       "\n",
       "                         diff_user_last  diff_user_start  \n",
       "event_name                                                \n",
       "MainScreenAppear                    0.0              0.0  \n",
       "OffersScreenAppear                 38.1             38.1  \n",
       "CartScreenAppear                   18.7             49.7  \n",
       "PaymentScreenSuccessful             5.2             52.3  "
      ]
     },
     "execution_count": 59,
     "metadata": {},
     "output_type": "execute_result"
    }
   ],
   "source": [
    "id_event['diff_user_last'] = 100 - id_event['user_last']\n",
    "id_event['diff_user_start'] = 100 - id_event['user_start']\n",
    "id_event"
   ]
  },
  {
   "cell_type": "markdown",
   "metadata": {},
   "source": [
    "По % переходов на каждый последующий шаг относительно предыдущего: больше всего теряется пользователей на моменте перехода с главной страницы на страницу предложений (38% пользователей). Значит что-то на главной странице отпугивает потенциальных покупателей, возможно страница долго грузится, или возникает ошибка.\n",
    "\n",
    "По % переходов на каждый последующий шаг относительно изначального: на моменте оплаты. Возможно есть техническая причина?"
   ]
  },
  {
   "cell_type": "markdown",
   "metadata": {},
   "source": [
    "### Доля пользователей доходящая от первого события до оплаты"
   ]
  },
  {
   "cell_type": "code",
   "execution_count": 60,
   "metadata": {},
   "outputs": [
    {
     "data": {
      "text/plain": [
       "48.0"
      ]
     },
     "execution_count": 60,
     "metadata": {},
     "output_type": "execute_result"
    }
   ],
   "source": [
    "id_event.reset_index().loc[3,'user_start'].round(0)"
   ]
  },
  {
   "cell_type": "markdown",
   "metadata": {},
   "source": [
    "Всего до оплаты доходит 48% пользователей, процент достаточно хороший."
   ]
  },
  {
   "cell_type": "code",
   "execution_count": 61,
   "metadata": {},
   "outputs": [
    {
     "data": {
      "image/png": "[encoded data removed]",
      "text/plain": [
       "<Figure size 1080x216 with 1 Axes>"
      ]
     },
     "metadata": {
      "needs_background": "light"
     },
     "output_type": "display_data"
    }
   ],
   "source": [
    "# Задаем размеры графиков\n",
    "plt.figure(figsize=(15, 3))\n",
    "\n",
    "plt.plot(id_event['user_start'], label='% переходов на каждый последующий шаг относительно изначального')\n",
    "plt.legend() \n",
    "\n",
    "#  Добавляем подписи к осям:\n",
    "plt.title('Доля пользователей проходящих на следующий шаг воронки')\n",
    "plt.xlabel('событие')\n",
    "plt.ylabel('%')\n",
    "\n",
    "# добавляем ось X\n",
    "plt.axhline(y=47.7, color='black', linestyle='--')\n",
    "\n",
    "\n",
    "plt.show()"
   ]
  },
  {
   "cell_type": "code",
   "execution_count": 62,
   "metadata": {},
   "outputs": [
    {
     "data": {
      "image/png": "[encoded data removed]",
      "text/plain": [
       "<Figure size 400x400 with 1 Axes>"
      ]
     },
     "metadata": {
      "needs_background": "light"
     },
     "output_type": "display_data"
    }
   ],
   "source": [
    "# Draw plot\n",
    "plt.figure(figsize=(5,5), dpi= 80)\n",
    "plt.hlines(y=id_event['user_start'], xmin=0, xmax=id_event['user_start'], color='red', alpha=0.4, linewidth=7)\n",
    "\n",
    "# добавляем ось X\n",
    "plt.axhline(y=47.7, color='black', linestyle='--')\n",
    "\n",
    "# Decorations\n",
    "plt.gca().set(ylabel='%', xlabel='событие')\n",
    "plt.yticks(id_event['user_start'], fontsize=12)\n",
    "plt.title('Доля пользователей проходящих на следующий шаг воронки', fontdict={'size':20})\n",
    "plt.grid(linestyle='--', alpha=0.10)\n",
    " \n",
    "plt.show()"
   ]
  },
  {
   "cell_type": "markdown",
   "metadata": {},
   "source": [
    "**Итоги**\n",
    "\n",
    "Воронка :\n",
    "Зашли на сайт на главный экран --- Поиск товара на экране предложений --- Добавили това в корзину--- Совершение платежа\n",
    "И отдельно выделяем - Руководство пользователя, изучение инструкции\n",
    "\n",
    "На второй шаг воронки приходится 62% пользователя, 38% не переходят далее. В этом есть проблема и здесь необходимо разработчикам найти причину почему так происходит;\n",
    "\n",
    "Событие Tutorial можно не включать в анализ, т.к. оно не влечет смысловой нагрузки;\n",
    "\n",
    "Пройдя по воронке, до экрана оплаты доходят практически 50% пользователей, то есть те кто становиться покупателями."
   ]
  },
  {
   "cell_type": "markdown",
   "metadata": {},
   "source": [
    "## Результаты эксперимента"
   ]
  },
  {
   "cell_type": "markdown",
   "metadata": {},
   "source": [
    "### Состав групп"
   ]
  },
  {
   "cell_type": "code",
   "execution_count": 63,
   "metadata": {},
   "outputs": [
    {
     "data": {
      "text/plain": [
       "79239"
      ]
     },
     "execution_count": 63,
     "metadata": {},
     "output_type": "execute_result"
    }
   ],
   "source": [
    "data['group'][data['group'] == 246].count()"
   ]
  },
  {
   "cell_type": "code",
   "execution_count": 64,
   "metadata": {},
   "outputs": [],
   "source": [
    "data_246 = data[data['group'] == 246]"
   ]
  },
  {
   "cell_type": "code",
   "execution_count": 65,
   "metadata": {},
   "outputs": [
    {
     "data": {
      "text/plain": [
       "76953"
      ]
     },
     "execution_count": 65,
     "metadata": {},
     "output_type": "execute_result"
    }
   ],
   "source": [
    "data['group'][data['group'] == 247].count()"
   ]
  },
  {
   "cell_type": "code",
   "execution_count": 66,
   "metadata": {},
   "outputs": [],
   "source": [
    "data_247 = data[data['group'] == 247]"
   ]
  },
  {
   "cell_type": "code",
   "execution_count": 67,
   "metadata": {},
   "outputs": [
    {
     "data": {
      "text/plain": [
       "84522"
      ]
     },
     "execution_count": 67,
     "metadata": {},
     "output_type": "execute_result"
    }
   ],
   "source": [
    "data['group'][data['group'] == 248].count()"
   ]
  },
  {
   "cell_type": "code",
   "execution_count": 68,
   "metadata": {},
   "outputs": [],
   "source": [
    "data_248 = data[data['group'] == 248]"
   ]
  },
  {
   "cell_type": "markdown",
   "metadata": {},
   "source": [
    "Ниже приведем данные о количестве событий\n",
    "\n",
    "246 — контрольная группа количество --- 79 556\n",
    "\n",
    "247 — контрольная группа количество --- 77 293\n",
    "\n",
    "248 — экспериментальная количество --- 84 875\n",
    "\n",
    "Ниже посчитаем количество пользователей по группам"
   ]
  },
  {
   "cell_type": "code",
   "execution_count": 69,
   "metadata": {},
   "outputs": [
    {
     "data": {
      "text/html": [
       "<div>\n",
       "<style scoped>\n",
       "    .dataframe tbody tr th:only-of-type {\n",
       "        vertical-align: middle;\n",
       "    }\n",
       "\n",
       "    .dataframe tbody tr th {\n",
       "        vertical-align: top;\n",
       "    }\n",
       "\n",
       "    .dataframe thead th {\n",
       "        text-align: right;\n",
       "    }\n",
       "</style>\n",
       "<table border=\"1\" class=\"dataframe\">\n",
       "  <thead>\n",
       "    <tr style=\"text-align: right;\">\n",
       "      <th></th>\n",
       "      <th>group</th>\n",
       "      <th>id</th>\n",
       "    </tr>\n",
       "  </thead>\n",
       "  <tbody>\n",
       "    <tr>\n",
       "      <th>0</th>\n",
       "      <td>246</td>\n",
       "      <td>2483</td>\n",
       "    </tr>\n",
       "    <tr>\n",
       "      <th>1</th>\n",
       "      <td>247</td>\n",
       "      <td>2516</td>\n",
       "    </tr>\n",
       "    <tr>\n",
       "      <th>2</th>\n",
       "      <td>248</td>\n",
       "      <td>2535</td>\n",
       "    </tr>\n",
       "  </tbody>\n",
       "</table>\n",
       "</div>"
      ],
      "text/plain": [
       "   group    id\n",
       "0    246  2483\n",
       "1    247  2516\n",
       "2    248  2535"
      ]
     },
     "execution_count": 69,
     "metadata": {},
     "output_type": "execute_result"
    }
   ],
   "source": [
    "userrrs = data.pivot_table(\n",
    "    index='group',  \n",
    "    values='id',\n",
    "    aggfunc='nunique').reset_index()\n",
    "userrrs"
   ]
  },
  {
   "cell_type": "code",
   "execution_count": 70,
   "metadata": {},
   "outputs": [
    {
     "data": {
      "text/plain": [
       "2483"
      ]
     },
     "execution_count": 70,
     "metadata": {},
     "output_type": "execute_result"
    }
   ],
   "source": [
    "userrrs_A = userrrs.reset_index().loc[0,'id']\n",
    "userrrs_A"
   ]
  },
  {
   "cell_type": "code",
   "execution_count": 71,
   "metadata": {},
   "outputs": [
    {
     "data": {
      "text/plain": [
       "2516"
      ]
     },
     "execution_count": 71,
     "metadata": {},
     "output_type": "execute_result"
    }
   ],
   "source": [
    "userrrs_A1 = userrrs.reset_index().loc[1,'id']\n",
    "userrrs_A1"
   ]
  },
  {
   "cell_type": "code",
   "execution_count": 72,
   "metadata": {},
   "outputs": [
    {
     "data": {
      "text/plain": [
       "2535"
      ]
     },
     "execution_count": 72,
     "metadata": {},
     "output_type": "execute_result"
    }
   ],
   "source": [
    "userrrs_B = userrrs.reset_index().loc[2,'id']\n",
    "userrrs_B"
   ]
  },
  {
   "cell_type": "markdown",
   "metadata": {},
   "source": [
    "Разбивка на группы достаточно равномерна"
   ]
  },
  {
   "cell_type": "markdown",
   "metadata": {},
   "source": [
    "### Cтатистическая  разница между выборками 246 и 247"
   ]
  },
  {
   "cell_type": "code",
   "execution_count": 73,
   "metadata": {},
   "outputs": [
    {
     "data": {
      "text/html": [
       "<div>\n",
       "<style scoped>\n",
       "    .dataframe tbody tr th:only-of-type {\n",
       "        vertical-align: middle;\n",
       "    }\n",
       "\n",
       "    .dataframe tbody tr th {\n",
       "        vertical-align: top;\n",
       "    }\n",
       "\n",
       "    .dataframe thead th {\n",
       "        text-align: right;\n",
       "    }\n",
       "</style>\n",
       "<table border=\"1\" class=\"dataframe\">\n",
       "  <thead>\n",
       "    <tr style=\"text-align: right;\">\n",
       "      <th></th>\n",
       "      <th>event_name</th>\n",
       "      <th>id</th>\n",
       "      <th>event_time</th>\n",
       "      <th>group</th>\n",
       "      <th>day_and_time</th>\n",
       "      <th>day</th>\n",
       "    </tr>\n",
       "  </thead>\n",
       "  <tbody>\n",
       "    <tr>\n",
       "      <th>0</th>\n",
       "      <td>MainScreenAppear</td>\n",
       "      <td>7701922487875823903</td>\n",
       "      <td>1564606857</td>\n",
       "      <td>247</td>\n",
       "      <td>2019-07-31 21:00:57</td>\n",
       "      <td>2019-07-31</td>\n",
       "    </tr>\n",
       "    <tr>\n",
       "      <th>1</th>\n",
       "      <td>MainScreenAppear</td>\n",
       "      <td>2539077412200498909</td>\n",
       "      <td>1564606905</td>\n",
       "      <td>247</td>\n",
       "      <td>2019-07-31 21:01:45</td>\n",
       "      <td>2019-07-31</td>\n",
       "    </tr>\n",
       "    <tr>\n",
       "      <th>2</th>\n",
       "      <td>OffersScreenAppear</td>\n",
       "      <td>3286987355161301427</td>\n",
       "      <td>1564606941</td>\n",
       "      <td>248</td>\n",
       "      <td>2019-07-31 21:02:21</td>\n",
       "      <td>2019-07-31</td>\n",
       "    </tr>\n",
       "    <tr>\n",
       "      <th>3</th>\n",
       "      <td>OffersScreenAppear</td>\n",
       "      <td>3187166762535343300</td>\n",
       "      <td>1564606943</td>\n",
       "      <td>247</td>\n",
       "      <td>2019-07-31 21:02:23</td>\n",
       "      <td>2019-07-31</td>\n",
       "    </tr>\n",
       "    <tr>\n",
       "      <th>4</th>\n",
       "      <td>MainScreenAppear</td>\n",
       "      <td>1118952406011435924</td>\n",
       "      <td>1564607005</td>\n",
       "      <td>248</td>\n",
       "      <td>2019-07-31 21:03:25</td>\n",
       "      <td>2019-07-31</td>\n",
       "    </tr>\n",
       "    <tr>\n",
       "      <th>...</th>\n",
       "      <td>...</td>\n",
       "      <td>...</td>\n",
       "      <td>...</td>\n",
       "      <td>...</td>\n",
       "      <td>...</td>\n",
       "      <td>...</td>\n",
       "    </tr>\n",
       "    <tr>\n",
       "      <th>240709</th>\n",
       "      <td>MainScreenAppear</td>\n",
       "      <td>4599628364049201812</td>\n",
       "      <td>1565212345</td>\n",
       "      <td>247</td>\n",
       "      <td>2019-08-07 21:12:25</td>\n",
       "      <td>2019-08-07</td>\n",
       "    </tr>\n",
       "    <tr>\n",
       "      <th>240710</th>\n",
       "      <td>MainScreenAppear</td>\n",
       "      <td>5849806612437486590</td>\n",
       "      <td>1565212439</td>\n",
       "      <td>246</td>\n",
       "      <td>2019-08-07 21:13:59</td>\n",
       "      <td>2019-08-07</td>\n",
       "    </tr>\n",
       "    <tr>\n",
       "      <th>240711</th>\n",
       "      <td>MainScreenAppear</td>\n",
       "      <td>5746969938801999050</td>\n",
       "      <td>1565212483</td>\n",
       "      <td>246</td>\n",
       "      <td>2019-08-07 21:14:43</td>\n",
       "      <td>2019-08-07</td>\n",
       "    </tr>\n",
       "    <tr>\n",
       "      <th>240712</th>\n",
       "      <td>MainScreenAppear</td>\n",
       "      <td>5746969938801999050</td>\n",
       "      <td>1565212498</td>\n",
       "      <td>246</td>\n",
       "      <td>2019-08-07 21:14:58</td>\n",
       "      <td>2019-08-07</td>\n",
       "    </tr>\n",
       "    <tr>\n",
       "      <th>240713</th>\n",
       "      <td>OffersScreenAppear</td>\n",
       "      <td>5746969938801999050</td>\n",
       "      <td>1565212517</td>\n",
       "      <td>246</td>\n",
       "      <td>2019-08-07 21:15:17</td>\n",
       "      <td>2019-08-07</td>\n",
       "    </tr>\n",
       "  </tbody>\n",
       "</table>\n",
       "<p>240714 rows × 6 columns</p>\n",
       "</div>"
      ],
      "text/plain": [
       "                event_name                   id  event_time  group  \\\n",
       "0         MainScreenAppear  7701922487875823903  1564606857    247   \n",
       "1         MainScreenAppear  2539077412200498909  1564606905    247   \n",
       "2       OffersScreenAppear  3286987355161301427  1564606941    248   \n",
       "3       OffersScreenAppear  3187166762535343300  1564606943    247   \n",
       "4         MainScreenAppear  1118952406011435924  1564607005    248   \n",
       "...                    ...                  ...         ...    ...   \n",
       "240709    MainScreenAppear  4599628364049201812  1565212345    247   \n",
       "240710    MainScreenAppear  5849806612437486590  1565212439    246   \n",
       "240711    MainScreenAppear  5746969938801999050  1565212483    246   \n",
       "240712    MainScreenAppear  5746969938801999050  1565212498    246   \n",
       "240713  OffersScreenAppear  5746969938801999050  1565212517    246   \n",
       "\n",
       "              day_and_time        day  \n",
       "0      2019-07-31 21:00:57 2019-07-31  \n",
       "1      2019-07-31 21:01:45 2019-07-31  \n",
       "2      2019-07-31 21:02:21 2019-07-31  \n",
       "3      2019-07-31 21:02:23 2019-07-31  \n",
       "4      2019-07-31 21:03:25 2019-07-31  \n",
       "...                    ...        ...  \n",
       "240709 2019-08-07 21:12:25 2019-08-07  \n",
       "240710 2019-08-07 21:13:59 2019-08-07  \n",
       "240711 2019-08-07 21:14:43 2019-08-07  \n",
       "240712 2019-08-07 21:14:58 2019-08-07  \n",
       "240713 2019-08-07 21:15:17 2019-08-07  \n",
       "\n",
       "[240714 rows x 6 columns]"
      ]
     },
     "execution_count": 73,
     "metadata": {},
     "output_type": "execute_result"
    }
   ],
   "source": [
    "data"
   ]
  },
  {
   "cell_type": "markdown",
   "metadata": {},
   "source": [
    "### Статистическая достоверность событий"
   ]
  },
  {
   "cell_type": "code",
   "execution_count": 74,
   "metadata": {},
   "outputs": [
    {
     "data": {
      "text/html": [
       "<div>\n",
       "<style scoped>\n",
       "    .dataframe tbody tr th:only-of-type {\n",
       "        vertical-align: middle;\n",
       "    }\n",
       "\n",
       "    .dataframe tbody tr th {\n",
       "        vertical-align: top;\n",
       "    }\n",
       "\n",
       "    .dataframe thead th {\n",
       "        text-align: right;\n",
       "    }\n",
       "</style>\n",
       "<table border=\"1\" class=\"dataframe\">\n",
       "  <thead>\n",
       "    <tr style=\"text-align: right;\">\n",
       "      <th></th>\n",
       "      <th>event_name</th>\n",
       "      <th>A</th>\n",
       "      <th>A1</th>\n",
       "      <th>B</th>\n",
       "    </tr>\n",
       "  </thead>\n",
       "  <tbody>\n",
       "    <tr>\n",
       "      <th>0</th>\n",
       "      <td>CartScreenAppear</td>\n",
       "      <td>1266</td>\n",
       "      <td>1239</td>\n",
       "      <td>1231</td>\n",
       "    </tr>\n",
       "    <tr>\n",
       "      <th>1</th>\n",
       "      <td>MainScreenAppear</td>\n",
       "      <td>2450</td>\n",
       "      <td>2479</td>\n",
       "      <td>2494</td>\n",
       "    </tr>\n",
       "    <tr>\n",
       "      <th>2</th>\n",
       "      <td>OffersScreenAppear</td>\n",
       "      <td>1542</td>\n",
       "      <td>1524</td>\n",
       "      <td>1531</td>\n",
       "    </tr>\n",
       "    <tr>\n",
       "      <th>3</th>\n",
       "      <td>PaymentScreenSuccessful</td>\n",
       "      <td>1200</td>\n",
       "      <td>1158</td>\n",
       "      <td>1182</td>\n",
       "    </tr>\n",
       "  </tbody>\n",
       "</table>\n",
       "</div>"
      ],
      "text/plain": [
       "                event_name     A    A1     B\n",
       "0         CartScreenAppear  1266  1239  1231\n",
       "1         MainScreenAppear  2450  2479  2494\n",
       "2       OffersScreenAppear  1542  1524  1531\n",
       "3  PaymentScreenSuccessful  1200  1158  1182"
      ]
     },
     "execution_count": 74,
     "metadata": {},
     "output_type": "execute_result"
    }
   ],
   "source": [
    "group_test = data[data['event_name']!='Tutorial'].pivot_table(\n",
    "    index='event_name', \n",
    "    columns='group', \n",
    "    values='id',\n",
    "    aggfunc='nunique').reset_index()\n",
    "group_test.columns = ['event_name', 'A', 'A1', 'B']\n",
    "group_test"
   ]
  },
  {
   "cell_type": "code",
   "execution_count": 75,
   "metadata": {},
   "outputs": [
    {
     "data": {
      "text/html": [
       "<div>\n",
       "<style scoped>\n",
       "    .dataframe tbody tr th:only-of-type {\n",
       "        vertical-align: middle;\n",
       "    }\n",
       "\n",
       "    .dataframe tbody tr th {\n",
       "        vertical-align: top;\n",
       "    }\n",
       "\n",
       "    .dataframe thead th {\n",
       "        text-align: right;\n",
       "    }\n",
       "</style>\n",
       "<table border=\"1\" class=\"dataframe\">\n",
       "  <thead>\n",
       "    <tr style=\"text-align: right;\">\n",
       "      <th></th>\n",
       "      <th>event_name</th>\n",
       "      <th>A</th>\n",
       "      <th>A1</th>\n",
       "      <th>B</th>\n",
       "      <th>A+A1</th>\n",
       "      <th>all</th>\n",
       "      <th>%_A</th>\n",
       "      <th>%_A1</th>\n",
       "      <th>%_B</th>\n",
       "      <th>%_A+A1</th>\n",
       "    </tr>\n",
       "  </thead>\n",
       "  <tbody>\n",
       "    <tr>\n",
       "      <th>0</th>\n",
       "      <td>CartScreenAppear</td>\n",
       "      <td>1266</td>\n",
       "      <td>1239</td>\n",
       "      <td>1231</td>\n",
       "      <td>2505</td>\n",
       "      <td>3736</td>\n",
       "      <td>50.99</td>\n",
       "      <td>49.24</td>\n",
       "      <td>48.56</td>\n",
       "      <td>50.11</td>\n",
       "    </tr>\n",
       "    <tr>\n",
       "      <th>1</th>\n",
       "      <td>MainScreenAppear</td>\n",
       "      <td>2450</td>\n",
       "      <td>2479</td>\n",
       "      <td>2494</td>\n",
       "      <td>4929</td>\n",
       "      <td>7423</td>\n",
       "      <td>98.67</td>\n",
       "      <td>98.53</td>\n",
       "      <td>98.38</td>\n",
       "      <td>98.60</td>\n",
       "    </tr>\n",
       "    <tr>\n",
       "      <th>2</th>\n",
       "      <td>OffersScreenAppear</td>\n",
       "      <td>1542</td>\n",
       "      <td>1524</td>\n",
       "      <td>1531</td>\n",
       "      <td>3066</td>\n",
       "      <td>4597</td>\n",
       "      <td>62.10</td>\n",
       "      <td>60.57</td>\n",
       "      <td>60.39</td>\n",
       "      <td>61.33</td>\n",
       "    </tr>\n",
       "    <tr>\n",
       "      <th>3</th>\n",
       "      <td>PaymentScreenSuccessful</td>\n",
       "      <td>1200</td>\n",
       "      <td>1158</td>\n",
       "      <td>1182</td>\n",
       "      <td>2358</td>\n",
       "      <td>3540</td>\n",
       "      <td>48.33</td>\n",
       "      <td>46.03</td>\n",
       "      <td>46.63</td>\n",
       "      <td>47.17</td>\n",
       "    </tr>\n",
       "  </tbody>\n",
       "</table>\n",
       "</div>"
      ],
      "text/plain": [
       "                event_name     A    A1     B  A+A1   all    %_A   %_A1    %_B  \\\n",
       "0         CartScreenAppear  1266  1239  1231  2505  3736  50.99  49.24  48.56   \n",
       "1         MainScreenAppear  2450  2479  2494  4929  7423  98.67  98.53  98.38   \n",
       "2       OffersScreenAppear  1542  1524  1531  3066  4597  62.10  60.57  60.39   \n",
       "3  PaymentScreenSuccessful  1200  1158  1182  2358  3540  48.33  46.03  46.63   \n",
       "\n",
       "   %_A+A1  \n",
       "0   50.11  \n",
       "1   98.60  \n",
       "2   61.33  \n",
       "3   47.17  "
      ]
     },
     "execution_count": 75,
     "metadata": {},
     "output_type": "execute_result"
    }
   ],
   "source": [
    "group_test['A+A1'] = group_test['A'] + group_test['A1']\n",
    "group_test['all'] = group_test['A+A1'] + group_test['B']\n",
    "\n",
    "group_test['%_A'] = (group_test['A'] / userrrs_A * 100).round(2)\n",
    "group_test['%_A1'] = (group_test['A1'] / userrrs_A1 * 100).round(2)\n",
    "group_test['%_B'] = (group_test['B'] / userrrs_B * 100).round(2)\n",
    "group_test['%_A+A1'] = ((group_test['A'] + group_test['A1']) / \\\n",
    "                                  (userrrs_A + userrrs_A1) * 100).round(2)\n",
    "group_test"
   ]
  },
  {
   "cell_type": "code",
   "execution_count": 76,
   "metadata": {},
   "outputs": [
    {
     "data": {
      "text/plain": [
       "MainScreenAppear           117889\n",
       "OffersScreenAppear          46531\n",
       "CartScreenAppear            42343\n",
       "PaymentScreenSuccessful     33951\n",
       "Name: event_name, dtype: int64"
      ]
     },
     "execution_count": 76,
     "metadata": {},
     "output_type": "execute_result"
    }
   ],
   "source": [
    "data['event_name'].value_counts()"
   ]
  },
  {
   "cell_type": "markdown",
   "metadata": {},
   "source": [
    "Cамое популярное событие -- переход на главный экран.\n",
    "Число пользователей, совершивших это событие в каждой из контрольных групп:\n",
    " - 4929 всего, а именно в A = 2450, A1 = 2479, B =2494\n",
    "\n",
    "Доля пользователей, совершивших это событие:\n",
    " - A = 98.63 %, A1 = 98.49 %, B = 98.31 %\n",
    " "
   ]
  },
  {
   "cell_type": "markdown",
   "metadata": {},
   "source": [
    "Для проведения тестов для удобстав напишем функцию 'group_match'"
   ]
  },
  {
   "cell_type": "code",
   "execution_count": 77,
   "metadata": {},
   "outputs": [
    {
     "data": {
      "text/html": [
       "<div>\n",
       "<style scoped>\n",
       "    .dataframe tbody tr th:only-of-type {\n",
       "        vertical-align: middle;\n",
       "    }\n",
       "\n",
       "    .dataframe tbody tr th {\n",
       "        vertical-align: top;\n",
       "    }\n",
       "\n",
       "    .dataframe thead th {\n",
       "        text-align: right;\n",
       "    }\n",
       "</style>\n",
       "<table border=\"1\" class=\"dataframe\">\n",
       "  <thead>\n",
       "    <tr style=\"text-align: right;\">\n",
       "      <th></th>\n",
       "      <th>event_name</th>\n",
       "      <th>id</th>\n",
       "      <th>event_time</th>\n",
       "      <th>group</th>\n",
       "      <th>day_and_time</th>\n",
       "      <th>day</th>\n",
       "    </tr>\n",
       "  </thead>\n",
       "  <tbody>\n",
       "    <tr>\n",
       "      <th>0</th>\n",
       "      <td>MainScreenAppear</td>\n",
       "      <td>7701922487875823903</td>\n",
       "      <td>1564606857</td>\n",
       "      <td>A1</td>\n",
       "      <td>2019-07-31 21:00:57</td>\n",
       "      <td>2019-07-31</td>\n",
       "    </tr>\n",
       "    <tr>\n",
       "      <th>1</th>\n",
       "      <td>MainScreenAppear</td>\n",
       "      <td>2539077412200498909</td>\n",
       "      <td>1564606905</td>\n",
       "      <td>A1</td>\n",
       "      <td>2019-07-31 21:01:45</td>\n",
       "      <td>2019-07-31</td>\n",
       "    </tr>\n",
       "    <tr>\n",
       "      <th>2</th>\n",
       "      <td>OffersScreenAppear</td>\n",
       "      <td>3286987355161301427</td>\n",
       "      <td>1564606941</td>\n",
       "      <td>B</td>\n",
       "      <td>2019-07-31 21:02:21</td>\n",
       "      <td>2019-07-31</td>\n",
       "    </tr>\n",
       "    <tr>\n",
       "      <th>3</th>\n",
       "      <td>OffersScreenAppear</td>\n",
       "      <td>3187166762535343300</td>\n",
       "      <td>1564606943</td>\n",
       "      <td>A1</td>\n",
       "      <td>2019-07-31 21:02:23</td>\n",
       "      <td>2019-07-31</td>\n",
       "    </tr>\n",
       "    <tr>\n",
       "      <th>4</th>\n",
       "      <td>MainScreenAppear</td>\n",
       "      <td>1118952406011435924</td>\n",
       "      <td>1564607005</td>\n",
       "      <td>B</td>\n",
       "      <td>2019-07-31 21:03:25</td>\n",
       "      <td>2019-07-31</td>\n",
       "    </tr>\n",
       "    <tr>\n",
       "      <th>...</th>\n",
       "      <td>...</td>\n",
       "      <td>...</td>\n",
       "      <td>...</td>\n",
       "      <td>...</td>\n",
       "      <td>...</td>\n",
       "      <td>...</td>\n",
       "    </tr>\n",
       "    <tr>\n",
       "      <th>240709</th>\n",
       "      <td>MainScreenAppear</td>\n",
       "      <td>4599628364049201812</td>\n",
       "      <td>1565212345</td>\n",
       "      <td>A1</td>\n",
       "      <td>2019-08-07 21:12:25</td>\n",
       "      <td>2019-08-07</td>\n",
       "    </tr>\n",
       "    <tr>\n",
       "      <th>240710</th>\n",
       "      <td>MainScreenAppear</td>\n",
       "      <td>5849806612437486590</td>\n",
       "      <td>1565212439</td>\n",
       "      <td>A</td>\n",
       "      <td>2019-08-07 21:13:59</td>\n",
       "      <td>2019-08-07</td>\n",
       "    </tr>\n",
       "    <tr>\n",
       "      <th>240711</th>\n",
       "      <td>MainScreenAppear</td>\n",
       "      <td>5746969938801999050</td>\n",
       "      <td>1565212483</td>\n",
       "      <td>A</td>\n",
       "      <td>2019-08-07 21:14:43</td>\n",
       "      <td>2019-08-07</td>\n",
       "    </tr>\n",
       "    <tr>\n",
       "      <th>240712</th>\n",
       "      <td>MainScreenAppear</td>\n",
       "      <td>5746969938801999050</td>\n",
       "      <td>1565212498</td>\n",
       "      <td>A</td>\n",
       "      <td>2019-08-07 21:14:58</td>\n",
       "      <td>2019-08-07</td>\n",
       "    </tr>\n",
       "    <tr>\n",
       "      <th>240713</th>\n",
       "      <td>OffersScreenAppear</td>\n",
       "      <td>5746969938801999050</td>\n",
       "      <td>1565212517</td>\n",
       "      <td>A</td>\n",
       "      <td>2019-08-07 21:15:17</td>\n",
       "      <td>2019-08-07</td>\n",
       "    </tr>\n",
       "  </tbody>\n",
       "</table>\n",
       "<p>240714 rows × 6 columns</p>\n",
       "</div>"
      ],
      "text/plain": [
       "                event_name                   id  event_time group  \\\n",
       "0         MainScreenAppear  7701922487875823903  1564606857    A1   \n",
       "1         MainScreenAppear  2539077412200498909  1564606905    A1   \n",
       "2       OffersScreenAppear  3286987355161301427  1564606941     B   \n",
       "3       OffersScreenAppear  3187166762535343300  1564606943    A1   \n",
       "4         MainScreenAppear  1118952406011435924  1564607005     B   \n",
       "...                    ...                  ...         ...   ...   \n",
       "240709    MainScreenAppear  4599628364049201812  1565212345    A1   \n",
       "240710    MainScreenAppear  5849806612437486590  1565212439     A   \n",
       "240711    MainScreenAppear  5746969938801999050  1565212483     A   \n",
       "240712    MainScreenAppear  5746969938801999050  1565212498     A   \n",
       "240713  OffersScreenAppear  5746969938801999050  1565212517     A   \n",
       "\n",
       "              day_and_time        day  \n",
       "0      2019-07-31 21:00:57 2019-07-31  \n",
       "1      2019-07-31 21:01:45 2019-07-31  \n",
       "2      2019-07-31 21:02:21 2019-07-31  \n",
       "3      2019-07-31 21:02:23 2019-07-31  \n",
       "4      2019-07-31 21:03:25 2019-07-31  \n",
       "...                    ...        ...  \n",
       "240709 2019-08-07 21:12:25 2019-08-07  \n",
       "240710 2019-08-07 21:13:59 2019-08-07  \n",
       "240711 2019-08-07 21:14:43 2019-08-07  \n",
       "240712 2019-08-07 21:14:58 2019-08-07  \n",
       "240713 2019-08-07 21:15:17 2019-08-07  \n",
       "\n",
       "[240714 rows x 6 columns]"
      ]
     },
     "execution_count": 77,
     "metadata": {},
     "output_type": "execute_result"
    }
   ],
   "source": [
    "def group_match(gr):\n",
    "    if gr==246:\n",
    "        return 'A'\n",
    "    elif gr==247:\n",
    "        return 'A1'\n",
    "    elif gr==248:\n",
    "        return 'B'\n",
    "    else:\n",
    "        return 'UnknownGroup'\n",
    "\n",
    "data1 = data\n",
    "data1['group'] = data1['group'].apply(group_match)\n",
    "data1"
   ]
  },
  {
   "cell_type": "code",
   "execution_count": 78,
   "metadata": {},
   "outputs": [
    {
     "data": {
      "text/plain": [
       "group\n",
       "A       2483\n",
       "A1      2516\n",
       "B       2535\n",
       "A+A1    4999\n",
       "Name: id, dtype: int64"
      ]
     },
     "execution_count": 78,
     "metadata": {},
     "output_type": "execute_result"
    }
   ],
   "source": [
    "users = data.groupby('group')['id'].nunique()\n",
    "users['A+A1'] = users['A'] + users['A1']\n",
    "users "
   ]
  },
  {
   "cell_type": "markdown",
   "metadata": {},
   "source": [
    "**Нулевая гипотеза** --- изменение шрифта не повлияет на поведение пользователей \n",
    "\n",
    "**Альтернативная гипотеза** --- изменение шрифта повлияет на поведение пользователей "
   ]
  },
  {
   "cell_type": "markdown",
   "metadata": {},
   "source": [
    "**Нулевая гипотеза** ---  между долями нет значимой разницы \n",
    "\n",
    "**Альтернативная гипотеза** ---  между долями есть значимая разница "
   ]
  },
  {
   "cell_type": "code",
   "execution_count": 79,
   "metadata": {},
   "outputs": [
    {
     "data": {
      "text/plain": [
       "'CartScreenAppear p-значение: 0.21811883651016095'"
      ]
     },
     "metadata": {},
     "output_type": "display_data"
    },
    {
     "data": {
      "text/plain": [
       "'Не получилось отвергнуть нулевую гипотезу, нет оснований считать доли разными'"
      ]
     },
     "metadata": {},
     "output_type": "display_data"
    },
    {
     "data": {
      "text/plain": [
       "'.................................................................................'"
      ]
     },
     "metadata": {},
     "output_type": "display_data"
    },
    {
     "data": {
      "text/plain": [
       "'MainScreenAppear p-значение: 0.6702082653142836'"
      ]
     },
     "metadata": {},
     "output_type": "display_data"
    },
    {
     "data": {
      "text/plain": [
       "'Не получилось отвергнуть нулевую гипотезу, нет оснований считать доли разными'"
      ]
     },
     "metadata": {},
     "output_type": "display_data"
    },
    {
     "data": {
      "text/plain": [
       "'.................................................................................'"
      ]
     },
     "metadata": {},
     "output_type": "display_data"
    },
    {
     "data": {
      "text/plain": [
       "'OffersScreenAppear p-значение: 0.2667347868697105'"
      ]
     },
     "metadata": {},
     "output_type": "display_data"
    },
    {
     "data": {
      "text/plain": [
       "'Не получилось отвергнуть нулевую гипотезу, нет оснований считать доли разными'"
      ]
     },
     "metadata": {},
     "output_type": "display_data"
    },
    {
     "data": {
      "text/plain": [
       "'.................................................................................'"
      ]
     },
     "metadata": {},
     "output_type": "display_data"
    },
    {
     "data": {
      "text/plain": [
       "'PaymentScreenSuccessful p-значение: 0.10288527362638322'"
      ]
     },
     "metadata": {},
     "output_type": "display_data"
    },
    {
     "data": {
      "text/plain": [
       "'Не получилось отвергнуть нулевую гипотезу, нет оснований считать доли разными'"
      ]
     },
     "metadata": {},
     "output_type": "display_data"
    },
    {
     "data": {
      "text/plain": [
       "'.................................................................................'"
      ]
     },
     "metadata": {},
     "output_type": "display_data"
    }
   ],
   "source": [
    "def stat_dost_test(group, group1, alpha):\n",
    "    \n",
    "    for i in group_test.index:\n",
    "        \n",
    "        # пропорция успехов в группе:\n",
    "        p1 = group_test[group][i] / users[group]\n",
    "        p2 = group_test[group1][i] / users[group1]\n",
    "        p_combined = ((group_test[group][i] + group_test[group1][i]) / \n",
    "                      (users[group] + users[group1]))\n",
    "        \n",
    "        \n",
    "        # разница пропорций\n",
    "        difference = p1 - p2\n",
    "        \n",
    "        # считаем статистику в ст.отклонениях стандартного нормального распределения\n",
    "        z_value = difference / mth.sqrt(p_combined * (1 - p_combined) * \n",
    "                                        (1/users[group] + 1/users[group1]))\n",
    "        \n",
    "        # задаем стандартное нормальное распределение (среднее 0, ст.отклонение 1)\n",
    "        distr = stats.norm(0, 1) \n",
    "        p_value = (1 - distr.cdf(abs(z_value))) * 2\n",
    "        \n",
    "        display('{} p-значение: {}'.format(group_test['event_name'][i], p_value))\n",
    "        if (p_value < alpha):\n",
    "            display(\"Отвергаем нулевую гипотезу: между долями есть значимая разница\")\n",
    "        else:\n",
    "            display(\"Не получилось отвергнуть нулевую гипотезу, нет оснований считать доли разными\")\n",
    "        display('.................................................................................')\n",
    "        \n",
    "stat_dost_test('A', 'A1', 0.01)"
   ]
  },
  {
   "cell_type": "markdown",
   "metadata": {},
   "source": [
    "Делаем точность A/A1-теста в 1% — так как группы A/A1 должны быть равнозначными. \n",
    "По результатам тестирования для всех событий разница не оказалось значимой, группы считаем контрольными."
   ]
  },
  {
   "cell_type": "markdown",
   "metadata": {},
   "source": [
    "### Сравнение других групп"
   ]
  },
  {
   "cell_type": "code",
   "execution_count": 80,
   "metadata": {},
   "outputs": [
    {
     "data": {
      "text/plain": [
       "'CartScreenAppear p-значение: 0.08564271892834707'"
      ]
     },
     "metadata": {},
     "output_type": "display_data"
    },
    {
     "data": {
      "text/plain": [
       "'Не получилось отвергнуть нулевую гипотезу, нет оснований считать доли разными'"
      ]
     },
     "metadata": {},
     "output_type": "display_data"
    },
    {
     "data": {
      "text/plain": [
       "'.................................................................................'"
      ]
     },
     "metadata": {},
     "output_type": "display_data"
    },
    {
     "data": {
      "text/plain": [
       "'MainScreenAppear p-значение: 0.396910049618151'"
      ]
     },
     "metadata": {},
     "output_type": "display_data"
    },
    {
     "data": {
      "text/plain": [
       "'Не получилось отвергнуть нулевую гипотезу, нет оснований считать доли разными'"
      ]
     },
     "metadata": {},
     "output_type": "display_data"
    },
    {
     "data": {
      "text/plain": [
       "'.................................................................................'"
      ]
     },
     "metadata": {},
     "output_type": "display_data"
    },
    {
     "data": {
      "text/plain": [
       "'OffersScreenAppear p-значение: 0.21442476639710506'"
      ]
     },
     "metadata": {},
     "output_type": "display_data"
    },
    {
     "data": {
      "text/plain": [
       "'Не получилось отвергнуть нулевую гипотезу, нет оснований считать доли разными'"
      ]
     },
     "metadata": {},
     "output_type": "display_data"
    },
    {
     "data": {
      "text/plain": [
       "'.................................................................................'"
      ]
     },
     "metadata": {},
     "output_type": "display_data"
    },
    {
     "data": {
      "text/plain": [
       "'PaymentScreenSuccessful p-значение: 0.22753674585530037'"
      ]
     },
     "metadata": {},
     "output_type": "display_data"
    },
    {
     "data": {
      "text/plain": [
       "'Не получилось отвергнуть нулевую гипотезу, нет оснований считать доли разными'"
      ]
     },
     "metadata": {},
     "output_type": "display_data"
    },
    {
     "data": {
      "text/plain": [
       "'.................................................................................'"
      ]
     },
     "metadata": {},
     "output_type": "display_data"
    }
   ],
   "source": [
    "stat_dost_test('A', 'B', 0.01)"
   ]
  },
  {
   "cell_type": "code",
   "execution_count": 81,
   "metadata": {},
   "outputs": [
    {
     "data": {
      "text/plain": [
       "'CartScreenAppear p-значение: 0.6264599792848009'"
      ]
     },
     "metadata": {},
     "output_type": "display_data"
    },
    {
     "data": {
      "text/plain": [
       "'Не получилось отвергнуть нулевую гипотезу, нет оснований считать доли разными'"
      ]
     },
     "metadata": {},
     "output_type": "display_data"
    },
    {
     "data": {
      "text/plain": [
       "'.................................................................................'"
      ]
     },
     "metadata": {},
     "output_type": "display_data"
    },
    {
     "data": {
      "text/plain": [
       "'MainScreenAppear p-значение: 0.6723167704766229'"
      ]
     },
     "metadata": {},
     "output_type": "display_data"
    },
    {
     "data": {
      "text/plain": [
       "'Не получилось отвергнуть нулевую гипотезу, нет оснований считать доли разными'"
      ]
     },
     "metadata": {},
     "output_type": "display_data"
    },
    {
     "data": {
      "text/plain": [
       "'.................................................................................'"
      ]
     },
     "metadata": {},
     "output_type": "display_data"
    },
    {
     "data": {
      "text/plain": [
       "'OffersScreenAppear p-значение: 0.8971376549155397'"
      ]
     },
     "metadata": {},
     "output_type": "display_data"
    },
    {
     "data": {
      "text/plain": [
       "'Не получилось отвергнуть нулевую гипотезу, нет оснований считать доли разными'"
      ]
     },
     "metadata": {},
     "output_type": "display_data"
    },
    {
     "data": {
      "text/plain": [
       "'.................................................................................'"
      ]
     },
     "metadata": {},
     "output_type": "display_data"
    },
    {
     "data": {
      "text/plain": [
       "'PaymentScreenSuccessful p-значение: 0.6680367850275775'"
      ]
     },
     "metadata": {},
     "output_type": "display_data"
    },
    {
     "data": {
      "text/plain": [
       "'Не получилось отвергнуть нулевую гипотезу, нет оснований считать доли разными'"
      ]
     },
     "metadata": {},
     "output_type": "display_data"
    },
    {
     "data": {
      "text/plain": [
       "'.................................................................................'"
      ]
     },
     "metadata": {},
     "output_type": "display_data"
    }
   ],
   "source": [
    "stat_dost_test('A1', 'B', 0.01)"
   ]
  },
  {
   "cell_type": "code",
   "execution_count": 82,
   "metadata": {},
   "outputs": [
    {
     "data": {
      "text/plain": [
       "'CartScreenAppear p-значение: 0.20361356481451098'"
      ]
     },
     "metadata": {},
     "output_type": "display_data"
    },
    {
     "data": {
      "text/plain": [
       "'Не получилось отвергнуть нулевую гипотезу, нет оснований считать доли разными'"
      ]
     },
     "metadata": {},
     "output_type": "display_data"
    },
    {
     "data": {
      "text/plain": [
       "'.................................................................................'"
      ]
     },
     "metadata": {},
     "output_type": "display_data"
    },
    {
     "data": {
      "text/plain": [
       "'MainScreenAppear p-значение: 0.4599468774918498'"
      ]
     },
     "metadata": {},
     "output_type": "display_data"
    },
    {
     "data": {
      "text/plain": [
       "'Не получилось отвергнуть нулевую гипотезу, нет оснований считать доли разными'"
      ]
     },
     "metadata": {},
     "output_type": "display_data"
    },
    {
     "data": {
      "text/plain": [
       "'.................................................................................'"
      ]
     },
     "metadata": {},
     "output_type": "display_data"
    },
    {
     "data": {
      "text/plain": [
       "'OffersScreenAppear p-значение: 0.4303431159342346'"
      ]
     },
     "metadata": {},
     "output_type": "display_data"
    },
    {
     "data": {
      "text/plain": [
       "'Не получилось отвергнуть нулевую гипотезу, нет оснований считать доли разными'"
      ]
     },
     "metadata": {},
     "output_type": "display_data"
    },
    {
     "data": {
      "text/plain": [
       "'.................................................................................'"
      ]
     },
     "metadata": {},
     "output_type": "display_data"
    },
    {
     "data": {
      "text/plain": [
       "'PaymentScreenSuccessful p-значение: 0.6559128929243401'"
      ]
     },
     "metadata": {},
     "output_type": "display_data"
    },
    {
     "data": {
      "text/plain": [
       "'Не получилось отвергнуть нулевую гипотезу, нет оснований считать доли разными'"
      ]
     },
     "metadata": {},
     "output_type": "display_data"
    },
    {
     "data": {
      "text/plain": [
       "'.................................................................................'"
      ]
     },
     "metadata": {},
     "output_type": "display_data"
    }
   ],
   "source": [
    "stat_dost_test('A+A1', 'B', 0.01)"
   ]
  },
  {
   "cell_type": "markdown",
   "metadata": {},
   "source": [
    "**Проведя выше анализ A/A, A/B, A1/B можно сделать вывод что значимой разницы между группами нет**"
   ]
  },
  {
   "cell_type": "markdown",
   "metadata": {},
   "source": [
    "### Меняем на alpha = 0.05"
   ]
  },
  {
   "cell_type": "code",
   "execution_count": 83,
   "metadata": {},
   "outputs": [
    {
     "data": {
      "text/plain": [
       "'CartScreenAppear p-значение: 0.21811883651016095'"
      ]
     },
     "metadata": {},
     "output_type": "display_data"
    },
    {
     "data": {
      "text/plain": [
       "'Не получилось отвергнуть нулевую гипотезу, нет оснований считать доли разными'"
      ]
     },
     "metadata": {},
     "output_type": "display_data"
    },
    {
     "data": {
      "text/plain": [
       "'.................................................................................'"
      ]
     },
     "metadata": {},
     "output_type": "display_data"
    },
    {
     "data": {
      "text/plain": [
       "'MainScreenAppear p-значение: 0.6702082653142836'"
      ]
     },
     "metadata": {},
     "output_type": "display_data"
    },
    {
     "data": {
      "text/plain": [
       "'Не получилось отвергнуть нулевую гипотезу, нет оснований считать доли разными'"
      ]
     },
     "metadata": {},
     "output_type": "display_data"
    },
    {
     "data": {
      "text/plain": [
       "'.................................................................................'"
      ]
     },
     "metadata": {},
     "output_type": "display_data"
    },
    {
     "data": {
      "text/plain": [
       "'OffersScreenAppear p-значение: 0.2667347868697105'"
      ]
     },
     "metadata": {},
     "output_type": "display_data"
    },
    {
     "data": {
      "text/plain": [
       "'Не получилось отвергнуть нулевую гипотезу, нет оснований считать доли разными'"
      ]
     },
     "metadata": {},
     "output_type": "display_data"
    },
    {
     "data": {
      "text/plain": [
       "'.................................................................................'"
      ]
     },
     "metadata": {},
     "output_type": "display_data"
    },
    {
     "data": {
      "text/plain": [
       "'PaymentScreenSuccessful p-значение: 0.10288527362638322'"
      ]
     },
     "metadata": {},
     "output_type": "display_data"
    },
    {
     "data": {
      "text/plain": [
       "'Не получилось отвергнуть нулевую гипотезу, нет оснований считать доли разными'"
      ]
     },
     "metadata": {},
     "output_type": "display_data"
    },
    {
     "data": {
      "text/plain": [
       "'.................................................................................'"
      ]
     },
     "metadata": {},
     "output_type": "display_data"
    }
   ],
   "source": [
    "stat_dost_test('A', 'A1', 0.05)"
   ]
  },
  {
   "cell_type": "code",
   "execution_count": 84,
   "metadata": {},
   "outputs": [
    {
     "data": {
      "text/plain": [
       "'CartScreenAppear p-значение: 0.08564271892834707'"
      ]
     },
     "metadata": {},
     "output_type": "display_data"
    },
    {
     "data": {
      "text/plain": [
       "'Не получилось отвергнуть нулевую гипотезу, нет оснований считать доли разными'"
      ]
     },
     "metadata": {},
     "output_type": "display_data"
    },
    {
     "data": {
      "text/plain": [
       "'.................................................................................'"
      ]
     },
     "metadata": {},
     "output_type": "display_data"
    },
    {
     "data": {
      "text/plain": [
       "'MainScreenAppear p-значение: 0.396910049618151'"
      ]
     },
     "metadata": {},
     "output_type": "display_data"
    },
    {
     "data": {
      "text/plain": [
       "'Не получилось отвергнуть нулевую гипотезу, нет оснований считать доли разными'"
      ]
     },
     "metadata": {},
     "output_type": "display_data"
    },
    {
     "data": {
      "text/plain": [
       "'.................................................................................'"
      ]
     },
     "metadata": {},
     "output_type": "display_data"
    },
    {
     "data": {
      "text/plain": [
       "'OffersScreenAppear p-значение: 0.21442476639710506'"
      ]
     },
     "metadata": {},
     "output_type": "display_data"
    },
    {
     "data": {
      "text/plain": [
       "'Не получилось отвергнуть нулевую гипотезу, нет оснований считать доли разными'"
      ]
     },
     "metadata": {},
     "output_type": "display_data"
    },
    {
     "data": {
      "text/plain": [
       "'.................................................................................'"
      ]
     },
     "metadata": {},
     "output_type": "display_data"
    },
    {
     "data": {
      "text/plain": [
       "'PaymentScreenSuccessful p-значение: 0.22753674585530037'"
      ]
     },
     "metadata": {},
     "output_type": "display_data"
    },
    {
     "data": {
      "text/plain": [
       "'Не получилось отвергнуть нулевую гипотезу, нет оснований считать доли разными'"
      ]
     },
     "metadata": {},
     "output_type": "display_data"
    },
    {
     "data": {
      "text/plain": [
       "'.................................................................................'"
      ]
     },
     "metadata": {},
     "output_type": "display_data"
    }
   ],
   "source": [
    "stat_dost_test('A', 'B', 0.05)"
   ]
  },
  {
   "cell_type": "code",
   "execution_count": 85,
   "metadata": {},
   "outputs": [
    {
     "data": {
      "text/plain": [
       "'CartScreenAppear p-значение: 0.6264599792848009'"
      ]
     },
     "metadata": {},
     "output_type": "display_data"
    },
    {
     "data": {
      "text/plain": [
       "'Не получилось отвергнуть нулевую гипотезу, нет оснований считать доли разными'"
      ]
     },
     "metadata": {},
     "output_type": "display_data"
    },
    {
     "data": {
      "text/plain": [
       "'.................................................................................'"
      ]
     },
     "metadata": {},
     "output_type": "display_data"
    },
    {
     "data": {
      "text/plain": [
       "'MainScreenAppear p-значение: 0.6723167704766229'"
      ]
     },
     "metadata": {},
     "output_type": "display_data"
    },
    {
     "data": {
      "text/plain": [
       "'Не получилось отвергнуть нулевую гипотезу, нет оснований считать доли разными'"
      ]
     },
     "metadata": {},
     "output_type": "display_data"
    },
    {
     "data": {
      "text/plain": [
       "'.................................................................................'"
      ]
     },
     "metadata": {},
     "output_type": "display_data"
    },
    {
     "data": {
      "text/plain": [
       "'OffersScreenAppear p-значение: 0.8971376549155397'"
      ]
     },
     "metadata": {},
     "output_type": "display_data"
    },
    {
     "data": {
      "text/plain": [
       "'Не получилось отвергнуть нулевую гипотезу, нет оснований считать доли разными'"
      ]
     },
     "metadata": {},
     "output_type": "display_data"
    },
    {
     "data": {
      "text/plain": [
       "'.................................................................................'"
      ]
     },
     "metadata": {},
     "output_type": "display_data"
    },
    {
     "data": {
      "text/plain": [
       "'PaymentScreenSuccessful p-значение: 0.6680367850275775'"
      ]
     },
     "metadata": {},
     "output_type": "display_data"
    },
    {
     "data": {
      "text/plain": [
       "'Не получилось отвергнуть нулевую гипотезу, нет оснований считать доли разными'"
      ]
     },
     "metadata": {},
     "output_type": "display_data"
    },
    {
     "data": {
      "text/plain": [
       "'.................................................................................'"
      ]
     },
     "metadata": {},
     "output_type": "display_data"
    }
   ],
   "source": [
    "stat_dost_test('A1', 'B', 0.05)"
   ]
  },
  {
   "cell_type": "code",
   "execution_count": 86,
   "metadata": {},
   "outputs": [
    {
     "data": {
      "text/plain": [
       "'CartScreenAppear p-значение: 0.20361356481451098'"
      ]
     },
     "metadata": {},
     "output_type": "display_data"
    },
    {
     "data": {
      "text/plain": [
       "'Не получилось отвергнуть нулевую гипотезу, нет оснований считать доли разными'"
      ]
     },
     "metadata": {},
     "output_type": "display_data"
    },
    {
     "data": {
      "text/plain": [
       "'.................................................................................'"
      ]
     },
     "metadata": {},
     "output_type": "display_data"
    },
    {
     "data": {
      "text/plain": [
       "'MainScreenAppear p-значение: 0.4599468774918498'"
      ]
     },
     "metadata": {},
     "output_type": "display_data"
    },
    {
     "data": {
      "text/plain": [
       "'Не получилось отвергнуть нулевую гипотезу, нет оснований считать доли разными'"
      ]
     },
     "metadata": {},
     "output_type": "display_data"
    },
    {
     "data": {
      "text/plain": [
       "'.................................................................................'"
      ]
     },
     "metadata": {},
     "output_type": "display_data"
    },
    {
     "data": {
      "text/plain": [
       "'OffersScreenAppear p-значение: 0.4303431159342346'"
      ]
     },
     "metadata": {},
     "output_type": "display_data"
    },
    {
     "data": {
      "text/plain": [
       "'Не получилось отвергнуть нулевую гипотезу, нет оснований считать доли разными'"
      ]
     },
     "metadata": {},
     "output_type": "display_data"
    },
    {
     "data": {
      "text/plain": [
       "'.................................................................................'"
      ]
     },
     "metadata": {},
     "output_type": "display_data"
    },
    {
     "data": {
      "text/plain": [
       "'PaymentScreenSuccessful p-значение: 0.6559128929243401'"
      ]
     },
     "metadata": {},
     "output_type": "display_data"
    },
    {
     "data": {
      "text/plain": [
       "'Не получилось отвергнуть нулевую гипотезу, нет оснований считать доли разными'"
      ]
     },
     "metadata": {},
     "output_type": "display_data"
    },
    {
     "data": {
      "text/plain": [
       "'.................................................................................'"
      ]
     },
     "metadata": {},
     "output_type": "display_data"
    }
   ],
   "source": [
    "stat_dost_test('A+A1', 'B', 0.05)"
   ]
  },
  {
   "cell_type": "markdown",
   "metadata": {},
   "source": [
    "Ничего не поменялось, разницы в группах нет"
   ]
  },
  {
   "cell_type": "markdown",
   "metadata": {},
   "source": [
    "## Итоги"
   ]
  },
  {
   "cell_type": "markdown",
   "metadata": {},
   "source": [
    "- В ходе работы были подготовлены и очищены данные до адекватного состояния.\n",
    "- Изначальные данные были с 25 июля по 7 августа, сделав отсечку достоверных данных получили временые рамки: с 31 июля 21:00 до 7 августа.\n",
    "- Среднее количество событий на пользователя равняется 20.\n",
    "- Всего уникальных пользователей в логе 7551.\n",
    "- Появление главного экрана самое частое событие среди всех, примерно 12 тыс. раз.\n",
    "- С небольшим разрывом встречается 3 события: появление предложений, проведение платежа, появление корзины.\n",
    "- ВОРОНКА: Зашли на сайт на главный экран --- Поиск товара на экране предложений --- Добавили товар в корзину-- Совершение платежа. И отдельно выделяем - Руководство пользователя, изучение инструкции.\n",
    "- На второй шаг воронки приходится 62% пользователя, 38% не переходят далее. В этом есть проблема и здесь необходимо разработчикам найти причину почему так происходит.\n",
    "- Событие Tutorial можно не включать в анализ, т.к. оно не влечет смысловой нагрузки;\n",
    "- Пройдя по воронке, до экрана оплаты доходят практически 50% пользователей, то есть те кто становиться покупателями.\n",
    "- По % переходов на каждый последующий шаг относительно предыдущего: больше всего теряется пользователей на моменте перехода с главной страницы на страницу предложений (38% пользователей). Значит что-то на главной странице отпугивает потенциальных покупателей, возможно страница долго грузится, или возникает ошибка.\n",
    "- По % переходов на каждый последующий шаг относительно изначального: на моменте оплаты. Возможно есть техническая причина?\n",
    "- 246 (А)— контрольная группа количество --- 79 556\n",
    "- 247 (А1)— контрольная группа количество --- 77 293\n",
    "- 248 (В)— экспериментальная количество --- 84 875\n",
    "- Cамое популярное событие -- переход на главный экран.\n",
    "- Число пользователей, совершивших переход на главный экран в каждой из контрольных групп:  - 4929 всего, а именно в A = 2450, A1 = 2479, B =2494\n",
    "- Доля пользователей, совершивших переход на главный экран:  - A = 98.63 %, A1 = 98.49 %, B = 98.31 %\n",
    "\n",
    "Тесты:\n",
    "Было проведено 16 экспериментов:\n",
    "- A/A1 - 8 эксперемента / статистическая значимость - 1% и 5%\n",
    "- A/B - 8 эксперемента  / статистическая значимость  - 1% и 5%\n",
    "- A1/B - 8 эксперемента / статистическая значимость  - 1% и 5%\n",
    "- A+A1/B - 8 эксперемента / статистическая значимость - 1% и 5%\n",
    "\n",
    "- Проведя тест на статистическую достоверность можно сказать по результатам тестирования для всех событий разница не оказалось значимой, группы считаем контрольными. За основу брали чувствительность в 1% и 5%, группы анализа А/А1, A/B, A1/B.\n",
    "\n",
    "**По итогам:**\n",
    "На поведение пользователей изменение шрифта сильного не повлияло. Тестирование можно назвать успешным."
   ]
  }
 ],
 "metadata": {
  "ExecuteTimeLog": [
   {
    "duration": 1406,
    "start_time": "2022-10-18T07:22:10.790Z"
   },
   {
    "duration": 641,
    "start_time": "2022-10-18T07:22:30.452Z"
   },
   {
    "duration": 13,
    "start_time": "2022-10-18T07:22:42.338Z"
   },
   {
    "duration": 61,
    "start_time": "2022-10-18T07:25:28.795Z"
   },
   {
    "duration": 10,
    "start_time": "2022-10-18T07:25:30.130Z"
   },
   {
    "duration": 155,
    "start_time": "2022-10-18T07:27:14.108Z"
   },
   {
    "duration": 12,
    "start_time": "2022-10-18T07:27:16.906Z"
   },
   {
    "duration": 4,
    "start_time": "2022-10-18T07:31:02.273Z"
   },
   {
    "duration": 12,
    "start_time": "2022-10-18T07:31:08.166Z"
   },
   {
    "duration": 3,
    "start_time": "2022-10-18T07:31:33.789Z"
   },
   {
    "duration": 10,
    "start_time": "2022-10-18T07:31:35.278Z"
   },
   {
    "duration": 32,
    "start_time": "2022-10-18T07:32:17.373Z"
   },
   {
    "duration": 40,
    "start_time": "2022-10-18T07:34:37.818Z"
   },
   {
    "duration": 19,
    "start_time": "2022-10-18T07:34:55.873Z"
   },
   {
    "duration": 386,
    "start_time": "2022-10-18T07:36:03.055Z"
   },
   {
    "duration": 9,
    "start_time": "2022-10-18T07:39:42.427Z"
   },
   {
    "duration": 28,
    "start_time": "2022-10-18T07:39:47.328Z"
   },
   {
    "duration": 43,
    "start_time": "2022-10-18T07:46:13.380Z"
   },
   {
    "duration": 16,
    "start_time": "2022-10-18T07:47:05.684Z"
   },
   {
    "duration": 14,
    "start_time": "2022-10-18T07:49:08.133Z"
   },
   {
    "duration": 1395,
    "start_time": "2022-10-18T07:49:15.838Z"
   },
   {
    "duration": 8,
    "start_time": "2022-10-18T07:49:39.365Z"
   },
   {
    "duration": 13,
    "start_time": "2022-10-18T07:49:46.949Z"
   },
   {
    "duration": 21,
    "start_time": "2022-10-18T07:50:58.053Z"
   },
   {
    "duration": 15,
    "start_time": "2022-10-18T07:51:33.542Z"
   },
   {
    "duration": 13,
    "start_time": "2022-10-18T07:52:19.774Z"
   },
   {
    "duration": 70,
    "start_time": "2022-10-18T07:52:27.430Z"
   },
   {
    "duration": 16,
    "start_time": "2022-10-18T07:52:31.337Z"
   },
   {
    "duration": 8,
    "start_time": "2022-10-18T07:52:53.518Z"
   },
   {
    "duration": 73,
    "start_time": "2022-10-18T07:52:54.070Z"
   },
   {
    "duration": 18,
    "start_time": "2022-10-18T07:52:54.927Z"
   },
   {
    "duration": 8,
    "start_time": "2022-10-18T07:57:11.152Z"
   },
   {
    "duration": 48,
    "start_time": "2022-10-18T07:57:13.512Z"
   },
   {
    "duration": 11,
    "start_time": "2022-10-18T07:57:34.794Z"
   },
   {
    "duration": 783,
    "start_time": "2022-10-18T07:57:41.112Z"
   },
   {
    "duration": 940,
    "start_time": "2022-10-18T07:57:46.152Z"
   },
   {
    "duration": 23,
    "start_time": "2022-10-18T07:58:14.138Z"
   },
   {
    "duration": 69,
    "start_time": "2022-10-18T07:58:41.553Z"
   },
   {
    "duration": 22,
    "start_time": "2022-10-18T07:59:03.905Z"
   },
   {
    "duration": 1308,
    "start_time": "2022-10-18T07:59:15.100Z"
   },
   {
    "duration": 191,
    "start_time": "2022-10-18T07:59:16.410Z"
   },
   {
    "duration": 20,
    "start_time": "2022-10-18T07:59:16.603Z"
   },
   {
    "duration": 28,
    "start_time": "2022-10-18T07:59:16.626Z"
   },
   {
    "duration": 107,
    "start_time": "2022-10-18T07:59:16.657Z"
   },
   {
    "duration": 12,
    "start_time": "2022-10-18T07:59:16.767Z"
   },
   {
    "duration": 130,
    "start_time": "2022-10-18T07:59:16.782Z"
   },
   {
    "duration": 16,
    "start_time": "2022-10-18T07:59:16.914Z"
   },
   {
    "duration": 26,
    "start_time": "2022-10-18T07:59:16.932Z"
   },
   {
    "duration": 98,
    "start_time": "2022-10-18T07:59:16.961Z"
   },
   {
    "duration": 32,
    "start_time": "2022-10-18T07:59:17.061Z"
   },
   {
    "duration": 51,
    "start_time": "2022-10-18T07:59:17.095Z"
   },
   {
    "duration": 61,
    "start_time": "2022-10-18T07:59:17.148Z"
   },
   {
    "duration": 24,
    "start_time": "2022-10-18T07:59:17.212Z"
   },
   {
    "duration": 21,
    "start_time": "2022-10-18T07:59:17.238Z"
   },
   {
    "duration": 95,
    "start_time": "2022-10-18T08:00:31.588Z"
   },
   {
    "duration": 131,
    "start_time": "2022-10-18T08:02:53.330Z"
   },
   {
    "duration": 101,
    "start_time": "2022-10-18T08:04:20.926Z"
   },
   {
    "duration": 92,
    "start_time": "2022-10-18T08:04:32.596Z"
   },
   {
    "duration": 88,
    "start_time": "2022-10-18T08:04:38.715Z"
   },
   {
    "duration": 83,
    "start_time": "2022-10-18T08:04:49.691Z"
   },
   {
    "duration": 86,
    "start_time": "2022-10-18T08:04:53.995Z"
   },
   {
    "duration": 12,
    "start_time": "2022-10-18T08:06:01.989Z"
   },
   {
    "duration": 13,
    "start_time": "2022-10-18T08:06:10.538Z"
   },
   {
    "duration": 101,
    "start_time": "2022-10-18T08:07:47.404Z"
   },
   {
    "duration": 93,
    "start_time": "2022-10-18T08:08:02.604Z"
   },
   {
    "duration": 158,
    "start_time": "2022-10-18T08:08:20.534Z"
   },
   {
    "duration": 22,
    "start_time": "2022-10-18T08:13:05.863Z"
   },
   {
    "duration": 14,
    "start_time": "2022-10-18T08:14:27.935Z"
   },
   {
    "duration": 19,
    "start_time": "2022-10-18T08:15:14.264Z"
   },
   {
    "duration": 12,
    "start_time": "2022-10-18T08:16:49.531Z"
   },
   {
    "duration": 16,
    "start_time": "2022-10-18T08:17:38.922Z"
   },
   {
    "duration": 21,
    "start_time": "2022-10-18T08:18:06.170Z"
   },
   {
    "duration": 10,
    "start_time": "2022-10-18T08:18:55.058Z"
   },
   {
    "duration": 8,
    "start_time": "2022-10-18T08:19:04.561Z"
   },
   {
    "duration": 8,
    "start_time": "2022-10-18T08:19:26.802Z"
   },
   {
    "duration": 20,
    "start_time": "2022-10-18T08:21:31.603Z"
   },
   {
    "duration": 18,
    "start_time": "2022-10-18T08:22:24.330Z"
   },
   {
    "duration": 944,
    "start_time": "2022-10-18T08:25:20.573Z"
   },
   {
    "duration": 6,
    "start_time": "2022-10-18T08:25:35.749Z"
   },
   {
    "duration": 7,
    "start_time": "2022-10-18T08:25:38.629Z"
   },
   {
    "duration": 5,
    "start_time": "2022-10-18T08:25:44.068Z"
   },
   {
    "duration": 6,
    "start_time": "2022-10-18T08:25:45.052Z"
   },
   {
    "duration": 6,
    "start_time": "2022-10-18T08:26:37.053Z"
   },
   {
    "duration": 17,
    "start_time": "2022-10-18T10:03:23.550Z"
   },
   {
    "duration": 416,
    "start_time": "2022-10-18T10:03:48.134Z"
   },
   {
    "duration": 320,
    "start_time": "2022-10-18T10:04:19.918Z"
   },
   {
    "duration": 323,
    "start_time": "2022-10-18T10:04:30.798Z"
   },
   {
    "duration": 438,
    "start_time": "2022-10-18T10:06:28.825Z"
   },
   {
    "duration": 324,
    "start_time": "2022-10-18T10:07:20.689Z"
   },
   {
    "duration": 322,
    "start_time": "2022-10-18T10:07:27.111Z"
   },
   {
    "duration": 343,
    "start_time": "2022-10-18T10:07:52.943Z"
   },
   {
    "duration": 35,
    "start_time": "2022-10-18T10:13:40.673Z"
   },
   {
    "duration": 15,
    "start_time": "2022-10-18T10:13:46.009Z"
   },
   {
    "duration": 35,
    "start_time": "2022-10-18T10:14:21.017Z"
   },
   {
    "duration": 10,
    "start_time": "2022-10-18T10:23:34.813Z"
   },
   {
    "duration": 32,
    "start_time": "2022-10-18T10:23:43.525Z"
   },
   {
    "duration": 399,
    "start_time": "2022-10-18T11:50:53.939Z"
   },
   {
    "duration": 439,
    "start_time": "2022-10-18T11:51:07.513Z"
   },
   {
    "duration": 514,
    "start_time": "2022-10-18T11:52:07.378Z"
   },
   {
    "duration": 124,
    "start_time": "2022-10-18T12:04:31.503Z"
   },
   {
    "duration": 109,
    "start_time": "2022-10-18T12:05:53.386Z"
   },
   {
    "duration": 75,
    "start_time": "2022-10-18T12:06:29.845Z"
   },
   {
    "duration": 78,
    "start_time": "2022-10-18T12:06:52.276Z"
   },
   {
    "duration": 72,
    "start_time": "2022-10-18T12:07:13.539Z"
   },
   {
    "duration": 76,
    "start_time": "2022-10-18T12:07:36.077Z"
   },
   {
    "duration": 71,
    "start_time": "2022-10-18T12:07:41.221Z"
   },
   {
    "duration": 70,
    "start_time": "2022-10-18T12:10:42.151Z"
   },
   {
    "duration": 70,
    "start_time": "2022-10-18T12:10:50.478Z"
   },
   {
    "duration": 83,
    "start_time": "2022-10-18T12:12:55.247Z"
   },
   {
    "duration": 72,
    "start_time": "2022-10-18T12:13:00.256Z"
   },
   {
    "duration": 52,
    "start_time": "2022-10-18T12:14:37.760Z"
   },
   {
    "duration": 18,
    "start_time": "2022-10-18T12:14:49.752Z"
   },
   {
    "duration": 13,
    "start_time": "2022-10-18T12:15:04.904Z"
   },
   {
    "duration": 10,
    "start_time": "2022-10-18T12:15:12.944Z"
   },
   {
    "duration": 11,
    "start_time": "2022-10-18T12:15:39.939Z"
   },
   {
    "duration": 8,
    "start_time": "2022-10-18T12:15:42.568Z"
   },
   {
    "duration": 64,
    "start_time": "2022-10-18T12:16:53.592Z"
   },
   {
    "duration": 1206,
    "start_time": "2022-10-18T12:19:50.290Z"
   },
   {
    "duration": 218,
    "start_time": "2022-10-18T12:19:51.499Z"
   },
   {
    "duration": 17,
    "start_time": "2022-10-18T12:19:51.720Z"
   },
   {
    "duration": 18,
    "start_time": "2022-10-18T12:19:51.740Z"
   },
   {
    "duration": 63,
    "start_time": "2022-10-18T12:19:51.761Z"
   },
   {
    "duration": 30,
    "start_time": "2022-10-18T12:19:51.826Z"
   },
   {
    "duration": 94,
    "start_time": "2022-10-18T12:19:51.859Z"
   },
   {
    "duration": 18,
    "start_time": "2022-10-18T12:19:51.956Z"
   },
   {
    "duration": 90,
    "start_time": "2022-10-18T12:19:51.976Z"
   },
   {
    "duration": 68,
    "start_time": "2022-10-18T12:19:52.070Z"
   },
   {
    "duration": 837,
    "start_time": "2022-10-18T12:19:52.139Z"
   },
   {
    "duration": 0,
    "start_time": "2022-10-18T12:19:52.978Z"
   },
   {
    "duration": 0,
    "start_time": "2022-10-18T12:19:52.979Z"
   },
   {
    "duration": 0,
    "start_time": "2022-10-18T12:19:52.981Z"
   },
   {
    "duration": 0,
    "start_time": "2022-10-18T12:19:52.982Z"
   },
   {
    "duration": 0,
    "start_time": "2022-10-18T12:19:52.984Z"
   },
   {
    "duration": 0,
    "start_time": "2022-10-18T12:19:52.986Z"
   },
   {
    "duration": 0,
    "start_time": "2022-10-18T12:19:52.989Z"
   },
   {
    "duration": 0,
    "start_time": "2022-10-18T12:19:52.991Z"
   },
   {
    "duration": 0,
    "start_time": "2022-10-18T12:19:52.993Z"
   },
   {
    "duration": 0,
    "start_time": "2022-10-18T12:19:52.994Z"
   },
   {
    "duration": 0,
    "start_time": "2022-10-18T12:19:52.995Z"
   },
   {
    "duration": 0,
    "start_time": "2022-10-18T12:19:52.997Z"
   },
   {
    "duration": 0,
    "start_time": "2022-10-18T12:19:52.998Z"
   },
   {
    "duration": 0,
    "start_time": "2022-10-18T12:19:52.999Z"
   },
   {
    "duration": 0,
    "start_time": "2022-10-18T12:19:53.000Z"
   },
   {
    "duration": 0,
    "start_time": "2022-10-18T12:19:53.001Z"
   },
   {
    "duration": 0,
    "start_time": "2022-10-18T12:19:53.002Z"
   },
   {
    "duration": 0,
    "start_time": "2022-10-18T12:19:53.003Z"
   },
   {
    "duration": 0,
    "start_time": "2022-10-18T12:19:53.005Z"
   },
   {
    "duration": 0,
    "start_time": "2022-10-18T12:19:53.006Z"
   },
   {
    "duration": 0,
    "start_time": "2022-10-18T12:19:53.007Z"
   },
   {
    "duration": 0,
    "start_time": "2022-10-18T12:19:53.009Z"
   },
   {
    "duration": 0,
    "start_time": "2022-10-18T12:19:53.010Z"
   },
   {
    "duration": 1376,
    "start_time": "2022-10-18T12:25:01.011Z"
   },
   {
    "duration": 157,
    "start_time": "2022-10-18T12:25:02.389Z"
   },
   {
    "duration": 16,
    "start_time": "2022-10-18T12:25:02.548Z"
   },
   {
    "duration": 7,
    "start_time": "2022-10-18T12:25:02.566Z"
   },
   {
    "duration": 25,
    "start_time": "2022-10-18T12:25:02.574Z"
   },
   {
    "duration": 11,
    "start_time": "2022-10-18T12:25:02.601Z"
   },
   {
    "duration": 79,
    "start_time": "2022-10-18T12:25:02.614Z"
   },
   {
    "duration": 10,
    "start_time": "2022-10-18T12:25:02.696Z"
   },
   {
    "duration": 83,
    "start_time": "2022-10-18T12:25:02.707Z"
   },
   {
    "duration": 77,
    "start_time": "2022-10-18T12:25:02.793Z"
   },
   {
    "duration": 106,
    "start_time": "2022-10-18T12:25:02.872Z"
   },
   {
    "duration": 136,
    "start_time": "2022-10-18T12:25:02.979Z"
   },
   {
    "duration": 15,
    "start_time": "2022-10-18T12:25:03.117Z"
   },
   {
    "duration": 222,
    "start_time": "2022-10-18T12:25:03.134Z"
   },
   {
    "duration": 15,
    "start_time": "2022-10-18T12:25:03.358Z"
   },
   {
    "duration": 34,
    "start_time": "2022-10-18T12:25:03.375Z"
   },
   {
    "duration": 65,
    "start_time": "2022-10-18T12:25:03.411Z"
   },
   {
    "duration": 30,
    "start_time": "2022-10-18T12:25:03.477Z"
   },
   {
    "duration": 8,
    "start_time": "2022-10-18T12:25:03.510Z"
   },
   {
    "duration": 51,
    "start_time": "2022-10-18T12:25:03.521Z"
   },
   {
    "duration": 15,
    "start_time": "2022-10-18T12:25:03.575Z"
   },
   {
    "duration": 10,
    "start_time": "2022-10-18T12:25:03.592Z"
   },
   {
    "duration": 51,
    "start_time": "2022-10-18T12:25:03.604Z"
   },
   {
    "duration": 6,
    "start_time": "2022-10-18T12:25:03.657Z"
   },
   {
    "duration": 5,
    "start_time": "2022-10-18T12:25:03.666Z"
   },
   {
    "duration": 457,
    "start_time": "2022-10-18T12:25:03.674Z"
   },
   {
    "duration": 328,
    "start_time": "2022-10-18T12:25:04.134Z"
   },
   {
    "duration": 40,
    "start_time": "2022-10-18T12:25:04.465Z"
   },
   {
    "duration": 14,
    "start_time": "2022-10-18T12:25:04.507Z"
   },
   {
    "duration": 43,
    "start_time": "2022-10-18T12:25:04.522Z"
   },
   {
    "duration": 353,
    "start_time": "2022-10-18T12:25:04.567Z"
   },
   {
    "duration": 73,
    "start_time": "2022-10-18T12:25:04.922Z"
   },
   {
    "duration": 11,
    "start_time": "2022-10-18T12:25:04.997Z"
   },
   {
    "duration": 12,
    "start_time": "2022-10-18T12:25:05.011Z"
   },
   {
    "duration": 6,
    "start_time": "2022-10-18T12:27:18.040Z"
   },
   {
    "duration": 104,
    "start_time": "2022-10-18T12:30:37.121Z"
   },
   {
    "duration": 1318,
    "start_time": "2022-10-18T13:35:24.431Z"
   },
   {
    "duration": 2022,
    "start_time": "2022-10-18T13:35:55.655Z"
   },
   {
    "duration": 10,
    "start_time": "2022-10-18T13:37:42.175Z"
   },
   {
    "duration": 969,
    "start_time": "2022-10-18T13:37:55.742Z"
   },
   {
    "duration": 15,
    "start_time": "2022-10-18T13:38:18.791Z"
   },
   {
    "duration": 14,
    "start_time": "2022-10-18T13:39:02.603Z"
   },
   {
    "duration": 10,
    "start_time": "2022-10-18T13:40:17.590Z"
   },
   {
    "duration": 14,
    "start_time": "2022-10-18T13:40:18.791Z"
   },
   {
    "duration": 9,
    "start_time": "2022-10-18T13:40:24.319Z"
   },
   {
    "duration": 11,
    "start_time": "2022-10-18T13:40:31.811Z"
   },
   {
    "duration": 289,
    "start_time": "2022-10-18T13:40:39.735Z"
   },
   {
    "duration": 11,
    "start_time": "2022-10-18T13:40:56.315Z"
   },
   {
    "duration": 10,
    "start_time": "2022-10-18T13:40:58.879Z"
   },
   {
    "duration": 17,
    "start_time": "2022-10-18T13:41:00.039Z"
   },
   {
    "duration": 9,
    "start_time": "2022-10-18T13:41:08.323Z"
   },
   {
    "duration": 8,
    "start_time": "2022-10-18T13:41:10.033Z"
   },
   {
    "duration": 11,
    "start_time": "2022-10-18T13:41:12.929Z"
   },
   {
    "duration": 1075,
    "start_time": "2022-10-18T13:41:28.369Z"
   },
   {
    "duration": 1277,
    "start_time": "2022-10-18T13:42:28.038Z"
   },
   {
    "duration": 156,
    "start_time": "2022-10-18T13:42:29.318Z"
   },
   {
    "duration": 16,
    "start_time": "2022-10-18T13:42:29.476Z"
   },
   {
    "duration": 3,
    "start_time": "2022-10-18T13:42:29.493Z"
   },
   {
    "duration": 22,
    "start_time": "2022-10-18T13:42:29.498Z"
   },
   {
    "duration": 11,
    "start_time": "2022-10-18T13:42:29.522Z"
   },
   {
    "duration": 50,
    "start_time": "2022-10-18T13:42:29.555Z"
   },
   {
    "duration": 10,
    "start_time": "2022-10-18T13:42:29.606Z"
   },
   {
    "duration": 88,
    "start_time": "2022-10-18T13:42:29.618Z"
   },
   {
    "duration": 43,
    "start_time": "2022-10-18T13:42:29.709Z"
   },
   {
    "duration": 107,
    "start_time": "2022-10-18T13:42:29.755Z"
   },
   {
    "duration": 128,
    "start_time": "2022-10-18T13:42:29.866Z"
   },
   {
    "duration": 12,
    "start_time": "2022-10-18T13:42:29.996Z"
   },
   {
    "duration": 213,
    "start_time": "2022-10-18T13:42:30.012Z"
   },
   {
    "duration": 16,
    "start_time": "2022-10-18T13:42:30.228Z"
   },
   {
    "duration": 39,
    "start_time": "2022-10-18T13:42:30.254Z"
   },
   {
    "duration": 74,
    "start_time": "2022-10-18T13:42:30.295Z"
   },
   {
    "duration": 39,
    "start_time": "2022-10-18T13:42:30.370Z"
   },
   {
    "duration": 22,
    "start_time": "2022-10-18T13:42:30.410Z"
   },
   {
    "duration": 43,
    "start_time": "2022-10-18T13:42:30.433Z"
   },
   {
    "duration": 26,
    "start_time": "2022-10-18T13:42:30.477Z"
   },
   {
    "duration": 78,
    "start_time": "2022-10-18T13:42:30.505Z"
   },
   {
    "duration": 39,
    "start_time": "2022-10-18T13:42:30.584Z"
   },
   {
    "duration": 72,
    "start_time": "2022-10-18T13:42:30.625Z"
   },
   {
    "duration": 27,
    "start_time": "2022-10-18T13:42:30.700Z"
   },
   {
    "duration": 456,
    "start_time": "2022-10-18T13:42:30.729Z"
   },
   {
    "duration": 393,
    "start_time": "2022-10-18T13:42:31.186Z"
   },
   {
    "duration": 50,
    "start_time": "2022-10-18T13:42:31.583Z"
   },
   {
    "duration": 26,
    "start_time": "2022-10-18T13:42:31.636Z"
   },
   {
    "duration": 38,
    "start_time": "2022-10-18T13:42:31.664Z"
   },
   {
    "duration": 378,
    "start_time": "2022-10-18T13:42:31.705Z"
   },
   {
    "duration": 69,
    "start_time": "2022-10-18T13:42:32.085Z"
   },
   {
    "duration": 9,
    "start_time": "2022-10-18T13:42:32.156Z"
   },
   {
    "duration": 12,
    "start_time": "2022-10-18T13:42:32.167Z"
   },
   {
    "duration": 1770,
    "start_time": "2022-10-18T13:42:32.181Z"
   },
   {
    "duration": 0,
    "start_time": "2022-10-18T13:42:33.953Z"
   },
   {
    "duration": 9,
    "start_time": "2022-10-18T13:42:48.956Z"
   },
   {
    "duration": 1345,
    "start_time": "2022-10-18T13:43:28.586Z"
   },
   {
    "duration": 1072,
    "start_time": "2022-10-18T13:43:45.787Z"
   },
   {
    "duration": 1142,
    "start_time": "2022-10-18T13:44:09.812Z"
   },
   {
    "duration": 1868,
    "start_time": "2022-10-18T13:44:23.700Z"
   },
   {
    "duration": 74,
    "start_time": "2022-10-18T13:47:24.237Z"
   },
   {
    "duration": 10,
    "start_time": "2022-10-18T13:47:32.613Z"
   },
   {
    "duration": 873,
    "start_time": "2022-10-18T13:47:36.693Z"
   },
   {
    "duration": 12,
    "start_time": "2022-10-18T13:48:48.875Z"
   },
   {
    "duration": 76,
    "start_time": "2022-10-18T13:49:06.667Z"
   },
   {
    "duration": 10,
    "start_time": "2022-10-18T13:49:10.396Z"
   },
   {
    "duration": 9,
    "start_time": "2022-10-18T13:49:19.645Z"
   },
   {
    "duration": 1459,
    "start_time": "2022-10-18T13:49:40.389Z"
   },
   {
    "duration": 1179,
    "start_time": "2022-10-18T13:49:51.798Z"
   },
   {
    "duration": 9,
    "start_time": "2022-10-18T13:50:00.893Z"
   },
   {
    "duration": 11,
    "start_time": "2022-10-18T13:50:28.294Z"
   },
   {
    "duration": 8,
    "start_time": "2022-10-18T13:50:35.014Z"
   },
   {
    "duration": 2396,
    "start_time": "2022-10-18T13:51:01.134Z"
   },
   {
    "duration": 1448,
    "start_time": "2022-10-18T13:51:14.893Z"
   },
   {
    "duration": 1314,
    "start_time": "2022-10-18T13:51:42.931Z"
   },
   {
    "duration": 151,
    "start_time": "2022-10-18T13:51:44.247Z"
   },
   {
    "duration": 15,
    "start_time": "2022-10-18T13:51:44.400Z"
   },
   {
    "duration": 3,
    "start_time": "2022-10-18T13:51:44.417Z"
   },
   {
    "duration": 40,
    "start_time": "2022-10-18T13:51:44.421Z"
   },
   {
    "duration": 11,
    "start_time": "2022-10-18T13:51:44.462Z"
   },
   {
    "duration": 90,
    "start_time": "2022-10-18T13:51:44.475Z"
   },
   {
    "duration": 15,
    "start_time": "2022-10-18T13:51:44.567Z"
   },
   {
    "duration": 121,
    "start_time": "2022-10-18T13:51:44.584Z"
   },
   {
    "duration": 45,
    "start_time": "2022-10-18T13:51:44.709Z"
   },
   {
    "duration": 111,
    "start_time": "2022-10-18T13:51:44.757Z"
   },
   {
    "duration": 139,
    "start_time": "2022-10-18T13:51:44.870Z"
   },
   {
    "duration": 12,
    "start_time": "2022-10-18T13:51:45.011Z"
   },
   {
    "duration": 220,
    "start_time": "2022-10-18T13:51:45.024Z"
   },
   {
    "duration": 19,
    "start_time": "2022-10-18T13:51:45.246Z"
   },
   {
    "duration": 38,
    "start_time": "2022-10-18T13:51:45.267Z"
   },
   {
    "duration": 60,
    "start_time": "2022-10-18T13:51:45.307Z"
   },
   {
    "duration": 22,
    "start_time": "2022-10-18T13:51:45.368Z"
   },
   {
    "duration": 6,
    "start_time": "2022-10-18T13:51:45.392Z"
   },
   {
    "duration": 31,
    "start_time": "2022-10-18T13:51:45.400Z"
   },
   {
    "duration": 12,
    "start_time": "2022-10-18T13:51:45.455Z"
   },
   {
    "duration": 28,
    "start_time": "2022-10-18T13:51:45.468Z"
   },
   {
    "duration": 20,
    "start_time": "2022-10-18T13:51:45.498Z"
   },
   {
    "duration": 11,
    "start_time": "2022-10-18T13:51:45.520Z"
   },
   {
    "duration": 22,
    "start_time": "2022-10-18T13:51:45.533Z"
   },
   {
    "duration": 434,
    "start_time": "2022-10-18T13:51:45.558Z"
   },
   {
    "duration": 354,
    "start_time": "2022-10-18T13:51:45.994Z"
   },
   {
    "duration": 42,
    "start_time": "2022-10-18T13:51:46.354Z"
   },
   {
    "duration": 15,
    "start_time": "2022-10-18T13:51:46.398Z"
   },
   {
    "duration": 41,
    "start_time": "2022-10-18T13:51:46.414Z"
   },
   {
    "duration": 361,
    "start_time": "2022-10-18T13:51:46.457Z"
   },
   {
    "duration": 77,
    "start_time": "2022-10-18T13:51:46.820Z"
   },
   {
    "duration": 6,
    "start_time": "2022-10-18T13:51:46.899Z"
   },
   {
    "duration": 20,
    "start_time": "2022-10-18T13:51:46.907Z"
   },
   {
    "duration": 16,
    "start_time": "2022-10-18T13:51:46.929Z"
   },
   {
    "duration": 13,
    "start_time": "2022-10-18T13:51:46.947Z"
   },
   {
    "duration": 1808,
    "start_time": "2022-10-18T13:51:46.962Z"
   },
   {
    "duration": 0,
    "start_time": "2022-10-18T13:51:48.772Z"
   },
   {
    "duration": 10,
    "start_time": "2022-10-18T13:52:53.312Z"
   },
   {
    "duration": 1111,
    "start_time": "2022-10-18T13:53:00.338Z"
   },
   {
    "duration": 5,
    "start_time": "2022-10-18T13:53:08.391Z"
   },
   {
    "duration": 6,
    "start_time": "2022-10-18T13:53:16.423Z"
   },
   {
    "duration": 24,
    "start_time": "2022-10-18T13:53:19.702Z"
   },
   {
    "duration": 1460,
    "start_time": "2022-10-18T13:55:56.037Z"
   },
   {
    "duration": 19,
    "start_time": "2022-10-18T13:56:19.065Z"
   },
   {
    "duration": 1215,
    "start_time": "2022-10-18T13:56:21.056Z"
   },
   {
    "duration": 257,
    "start_time": "2022-10-18T13:57:29.910Z"
   },
   {
    "duration": 172,
    "start_time": "2022-10-18T13:59:41.818Z"
   },
   {
    "duration": 18,
    "start_time": "2022-10-18T14:01:08.428Z"
   },
   {
    "duration": 16,
    "start_time": "2022-10-18T14:01:23.026Z"
   },
   {
    "duration": 5,
    "start_time": "2022-10-18T14:01:24.009Z"
   },
   {
    "duration": 23,
    "start_time": "2022-10-18T14:01:25.090Z"
   },
   {
    "duration": 185,
    "start_time": "2022-10-18T14:01:26.045Z"
   },
   {
    "duration": 1201,
    "start_time": "2022-10-18T14:01:45.785Z"
   },
   {
    "duration": 176,
    "start_time": "2022-10-18T14:01:46.988Z"
   },
   {
    "duration": 16,
    "start_time": "2022-10-18T14:01:47.167Z"
   },
   {
    "duration": 4,
    "start_time": "2022-10-18T14:01:47.184Z"
   },
   {
    "duration": 30,
    "start_time": "2022-10-18T14:01:47.190Z"
   },
   {
    "duration": 35,
    "start_time": "2022-10-18T14:01:47.222Z"
   },
   {
    "duration": 62,
    "start_time": "2022-10-18T14:01:47.258Z"
   },
   {
    "duration": 11,
    "start_time": "2022-10-18T14:01:47.322Z"
   },
   {
    "duration": 87,
    "start_time": "2022-10-18T14:01:47.335Z"
   },
   {
    "duration": 36,
    "start_time": "2022-10-18T14:01:47.424Z"
   },
   {
    "duration": 117,
    "start_time": "2022-10-18T14:01:47.462Z"
   },
   {
    "duration": 133,
    "start_time": "2022-10-18T14:01:47.581Z"
   },
   {
    "duration": 12,
    "start_time": "2022-10-18T14:01:47.716Z"
   },
   {
    "duration": 231,
    "start_time": "2022-10-18T14:01:47.732Z"
   },
   {
    "duration": 14,
    "start_time": "2022-10-18T14:01:47.965Z"
   },
   {
    "duration": 46,
    "start_time": "2022-10-18T14:01:47.980Z"
   },
   {
    "duration": 50,
    "start_time": "2022-10-18T14:01:48.027Z"
   },
   {
    "duration": 21,
    "start_time": "2022-10-18T14:01:48.079Z"
   },
   {
    "duration": 20,
    "start_time": "2022-10-18T14:01:48.102Z"
   },
   {
    "duration": 40,
    "start_time": "2022-10-18T14:01:48.124Z"
   },
   {
    "duration": 13,
    "start_time": "2022-10-18T14:01:48.166Z"
   },
   {
    "duration": 14,
    "start_time": "2022-10-18T14:01:48.180Z"
   },
   {
    "duration": 16,
    "start_time": "2022-10-18T14:01:48.195Z"
   },
   {
    "duration": 8,
    "start_time": "2022-10-18T14:01:48.213Z"
   },
   {
    "duration": 31,
    "start_time": "2022-10-18T14:01:48.223Z"
   },
   {
    "duration": 403,
    "start_time": "2022-10-18T14:01:48.257Z"
   },
   {
    "duration": 345,
    "start_time": "2022-10-18T14:01:48.662Z"
   },
   {
    "duration": 47,
    "start_time": "2022-10-18T14:01:49.008Z"
   },
   {
    "duration": 15,
    "start_time": "2022-10-18T14:01:49.057Z"
   },
   {
    "duration": 21,
    "start_time": "2022-10-18T14:01:49.073Z"
   },
   {
    "duration": 342,
    "start_time": "2022-10-18T14:01:49.096Z"
   },
   {
    "duration": 73,
    "start_time": "2022-10-18T14:01:49.439Z"
   },
   {
    "duration": 6,
    "start_time": "2022-10-18T14:01:49.513Z"
   },
   {
    "duration": 13,
    "start_time": "2022-10-18T14:01:49.521Z"
   },
   {
    "duration": 23,
    "start_time": "2022-10-18T14:01:49.535Z"
   },
   {
    "duration": 13,
    "start_time": "2022-10-18T14:01:49.560Z"
   },
   {
    "duration": 11,
    "start_time": "2022-10-18T14:01:49.575Z"
   },
   {
    "duration": 20,
    "start_time": "2022-10-18T14:01:49.588Z"
   },
   {
    "duration": 184,
    "start_time": "2022-10-18T14:01:49.610Z"
   },
   {
    "duration": 277,
    "start_time": "2022-10-18T14:02:32.291Z"
   },
   {
    "duration": 1197,
    "start_time": "2022-10-19T05:34:34.403Z"
   },
   {
    "duration": 677,
    "start_time": "2022-10-19T05:34:35.601Z"
   },
   {
    "duration": 13,
    "start_time": "2022-10-19T05:34:36.279Z"
   },
   {
    "duration": 2,
    "start_time": "2022-10-19T05:34:36.294Z"
   },
   {
    "duration": 21,
    "start_time": "2022-10-19T05:34:36.297Z"
   },
   {
    "duration": 9,
    "start_time": "2022-10-19T05:34:36.319Z"
   },
   {
    "duration": 41,
    "start_time": "2022-10-19T05:34:36.329Z"
   },
   {
    "duration": 7,
    "start_time": "2022-10-19T05:34:36.372Z"
   },
   {
    "duration": 73,
    "start_time": "2022-10-19T05:34:36.380Z"
   },
   {
    "duration": 21,
    "start_time": "2022-10-19T05:34:36.455Z"
   },
   {
    "duration": 85,
    "start_time": "2022-10-19T05:34:36.478Z"
   },
   {
    "duration": 96,
    "start_time": "2022-10-19T05:34:36.565Z"
   },
   {
    "duration": 9,
    "start_time": "2022-10-19T05:34:36.662Z"
   },
   {
    "duration": 170,
    "start_time": "2022-10-19T05:34:36.672Z"
   },
   {
    "duration": 12,
    "start_time": "2022-10-19T05:34:36.843Z"
   },
   {
    "duration": 28,
    "start_time": "2022-10-19T05:34:36.856Z"
   },
   {
    "duration": 42,
    "start_time": "2022-10-19T05:34:36.885Z"
   },
   {
    "duration": 16,
    "start_time": "2022-10-19T05:34:36.928Z"
   },
   {
    "duration": 5,
    "start_time": "2022-10-19T05:34:36.946Z"
   },
   {
    "duration": 16,
    "start_time": "2022-10-19T05:34:36.952Z"
   },
   {
    "duration": 10,
    "start_time": "2022-10-19T05:34:36.969Z"
   },
   {
    "duration": 10,
    "start_time": "2022-10-19T05:34:36.980Z"
   },
   {
    "duration": 39,
    "start_time": "2022-10-19T05:34:36.991Z"
   },
   {
    "duration": 4,
    "start_time": "2022-10-19T05:34:37.031Z"
   },
   {
    "duration": 5,
    "start_time": "2022-10-19T05:34:37.036Z"
   },
   {
    "duration": 347,
    "start_time": "2022-10-19T05:34:37.042Z"
   },
   {
    "duration": 271,
    "start_time": "2022-10-19T05:34:37.390Z"
   },
   {
    "duration": 31,
    "start_time": "2022-10-19T05:34:37.664Z"
   },
   {
    "duration": 25,
    "start_time": "2022-10-19T05:34:37.697Z"
   },
   {
    "duration": 17,
    "start_time": "2022-10-19T05:34:37.724Z"
   },
   {
    "duration": 284,
    "start_time": "2022-10-19T05:34:37.742Z"
   },
   {
    "duration": 53,
    "start_time": "2022-10-19T05:34:38.027Z"
   },
   {
    "duration": 5,
    "start_time": "2022-10-19T05:34:38.082Z"
   },
   {
    "duration": 9,
    "start_time": "2022-10-19T05:34:38.088Z"
   },
   {
    "duration": 23,
    "start_time": "2022-10-19T05:34:38.098Z"
   },
   {
    "duration": 8,
    "start_time": "2022-10-19T05:34:38.123Z"
   },
   {
    "duration": 3,
    "start_time": "2022-10-19T05:34:38.133Z"
   },
   {
    "duration": 94,
    "start_time": "2022-10-19T05:34:38.137Z"
   },
   {
    "duration": 150,
    "start_time": "2022-10-19T05:34:38.232Z"
   },
   {
    "duration": 300,
    "start_time": "2022-10-19T05:42:18.245Z"
   },
   {
    "duration": 262,
    "start_time": "2022-10-19T05:42:29.241Z"
   },
   {
    "duration": 232,
    "start_time": "2022-10-19T05:42:49.406Z"
   },
   {
    "duration": 162,
    "start_time": "2022-10-19T05:42:56.152Z"
   },
   {
    "duration": 251,
    "start_time": "2022-10-19T05:43:02.494Z"
   },
   {
    "duration": 8,
    "start_time": "2022-10-19T05:51:29.854Z"
   },
   {
    "duration": 4,
    "start_time": "2022-10-19T05:51:43.105Z"
   },
   {
    "duration": 12,
    "start_time": "2022-10-19T05:52:07.062Z"
   },
   {
    "duration": 239,
    "start_time": "2022-10-19T06:11:12.195Z"
   },
   {
    "duration": 202,
    "start_time": "2022-10-19T06:12:42.869Z"
   },
   {
    "duration": 18,
    "start_time": "2022-10-19T06:20:06.233Z"
   },
   {
    "duration": 12,
    "start_time": "2022-10-19T06:20:39.226Z"
   },
   {
    "duration": 90,
    "start_time": "2022-10-19T06:23:05.496Z"
   },
   {
    "duration": 76,
    "start_time": "2022-10-19T06:23:28.932Z"
   },
   {
    "duration": 159,
    "start_time": "2022-10-19T06:24:02.439Z"
   },
   {
    "duration": 1966,
    "start_time": "2022-10-19T06:25:02.232Z"
   },
   {
    "duration": 1177,
    "start_time": "2022-10-19T06:25:45.011Z"
   },
   {
    "duration": 159,
    "start_time": "2022-10-19T06:26:25.028Z"
   },
   {
    "duration": 136,
    "start_time": "2022-10-19T06:26:40.239Z"
   },
   {
    "duration": 132,
    "start_time": "2022-10-19T06:26:48.375Z"
   },
   {
    "duration": 190,
    "start_time": "2022-10-19T06:26:53.095Z"
   },
   {
    "duration": 98,
    "start_time": "2022-10-19T06:27:02.839Z"
   },
   {
    "duration": 105,
    "start_time": "2022-10-19T06:27:09.976Z"
   },
   {
    "duration": 110,
    "start_time": "2022-10-19T06:27:15.532Z"
   },
   {
    "duration": 156,
    "start_time": "2022-10-19T06:27:25.474Z"
   },
   {
    "duration": 162,
    "start_time": "2022-10-19T06:28:06.136Z"
   },
   {
    "duration": 147,
    "start_time": "2022-10-19T06:28:16.240Z"
   },
   {
    "duration": 134,
    "start_time": "2022-10-19T06:28:48.989Z"
   },
   {
    "duration": 132,
    "start_time": "2022-10-19T06:29:08.913Z"
   },
   {
    "duration": 1198,
    "start_time": "2022-10-19T06:29:50.339Z"
   },
   {
    "duration": 1256,
    "start_time": "2022-10-19T06:30:00.889Z"
   },
   {
    "duration": 130,
    "start_time": "2022-10-19T06:30:21.789Z"
   },
   {
    "duration": 140,
    "start_time": "2022-10-19T06:30:30.263Z"
   },
   {
    "duration": 134,
    "start_time": "2022-10-19T06:30:42.665Z"
   },
   {
    "duration": 138,
    "start_time": "2022-10-19T06:31:51.132Z"
   },
   {
    "duration": 212,
    "start_time": "2022-10-19T06:31:59.569Z"
   },
   {
    "duration": 139,
    "start_time": "2022-10-19T06:32:07.595Z"
   },
   {
    "duration": 131,
    "start_time": "2022-10-19T06:32:26.795Z"
   },
   {
    "duration": 16,
    "start_time": "2022-10-19T06:34:12.803Z"
   },
   {
    "duration": 6,
    "start_time": "2022-10-19T06:34:25.528Z"
   },
   {
    "duration": 5,
    "start_time": "2022-10-19T06:34:33.250Z"
   },
   {
    "duration": 5,
    "start_time": "2022-10-19T06:34:53.733Z"
   },
   {
    "duration": 218,
    "start_time": "2022-10-19T06:40:08.772Z"
   },
   {
    "duration": 3,
    "start_time": "2022-10-19T06:41:21.804Z"
   },
   {
    "duration": 8,
    "start_time": "2022-10-19T06:43:28.049Z"
   },
   {
    "duration": 12,
    "start_time": "2022-10-19T06:43:39.311Z"
   },
   {
    "duration": 8,
    "start_time": "2022-10-19T06:43:58.069Z"
   },
   {
    "duration": 17,
    "start_time": "2022-10-19T06:44:54.428Z"
   },
   {
    "duration": 18,
    "start_time": "2022-10-19T06:44:58.971Z"
   },
   {
    "duration": 19,
    "start_time": "2022-10-19T06:45:07.358Z"
   },
   {
    "duration": 9,
    "start_time": "2022-10-19T06:45:27.735Z"
   },
   {
    "duration": 13,
    "start_time": "2022-10-19T06:45:58.840Z"
   },
   {
    "duration": 9,
    "start_time": "2022-10-19T06:46:19.358Z"
   },
   {
    "duration": 7,
    "start_time": "2022-10-19T06:46:49.487Z"
   },
   {
    "duration": 7,
    "start_time": "2022-10-19T06:46:50.144Z"
   },
   {
    "duration": 8,
    "start_time": "2022-10-19T06:46:50.745Z"
   },
   {
    "duration": 8,
    "start_time": "2022-10-19T06:50:37.889Z"
   },
   {
    "duration": 7,
    "start_time": "2022-10-19T06:52:15.072Z"
   },
   {
    "duration": 73,
    "start_time": "2022-10-19T06:52:16.635Z"
   },
   {
    "duration": 72,
    "start_time": "2022-10-19T06:52:25.352Z"
   },
   {
    "duration": 15,
    "start_time": "2022-10-19T06:52:34.054Z"
   },
   {
    "duration": 10,
    "start_time": "2022-10-19T06:52:44.976Z"
   },
   {
    "duration": 9,
    "start_time": "2022-10-19T06:53:00.441Z"
   },
   {
    "duration": 8,
    "start_time": "2022-10-19T06:53:13.080Z"
   },
   {
    "duration": 75,
    "start_time": "2022-10-19T06:53:23.097Z"
   },
   {
    "duration": 12,
    "start_time": "2022-10-19T06:53:28.145Z"
   },
   {
    "duration": 28,
    "start_time": "2022-10-19T06:53:41.785Z"
   },
   {
    "duration": 7,
    "start_time": "2022-10-19T06:53:46.362Z"
   },
   {
    "duration": 33,
    "start_time": "2022-10-19T07:06:18.248Z"
   },
   {
    "duration": 12,
    "start_time": "2022-10-19T07:10:02.696Z"
   },
   {
    "duration": 30,
    "start_time": "2022-10-19T07:15:55.768Z"
   },
   {
    "duration": 14,
    "start_time": "2022-10-19T07:15:59.097Z"
   },
   {
    "duration": 28,
    "start_time": "2022-10-19T07:16:03.544Z"
   },
   {
    "duration": 28,
    "start_time": "2022-10-19T07:16:09.472Z"
   },
   {
    "duration": 29,
    "start_time": "2022-10-19T07:16:15.105Z"
   },
   {
    "duration": 36,
    "start_time": "2022-10-19T07:16:21.385Z"
   },
   {
    "duration": 32,
    "start_time": "2022-10-19T07:16:31.307Z"
   },
   {
    "duration": 29,
    "start_time": "2022-10-19T07:16:43.049Z"
   },
   {
    "duration": 29,
    "start_time": "2022-10-19T07:16:50.944Z"
   },
   {
    "duration": 28,
    "start_time": "2022-10-19T07:17:00.466Z"
   },
   {
    "duration": 1176,
    "start_time": "2022-10-19T07:17:25.219Z"
   },
   {
    "duration": 146,
    "start_time": "2022-10-19T07:17:26.397Z"
   },
   {
    "duration": 14,
    "start_time": "2022-10-19T07:17:26.545Z"
   },
   {
    "duration": 10,
    "start_time": "2022-10-19T07:17:26.561Z"
   },
   {
    "duration": 23,
    "start_time": "2022-10-19T07:17:26.573Z"
   },
   {
    "duration": 10,
    "start_time": "2022-10-19T07:17:26.598Z"
   },
   {
    "duration": 45,
    "start_time": "2022-10-19T07:17:26.622Z"
   },
   {
    "duration": 9,
    "start_time": "2022-10-19T07:17:26.669Z"
   },
   {
    "duration": 79,
    "start_time": "2022-10-19T07:17:26.680Z"
   },
   {
    "duration": 21,
    "start_time": "2022-10-19T07:17:26.762Z"
   },
   {
    "duration": 96,
    "start_time": "2022-10-19T07:17:26.785Z"
   },
   {
    "duration": 107,
    "start_time": "2022-10-19T07:17:26.883Z"
   },
   {
    "duration": 9,
    "start_time": "2022-10-19T07:17:26.992Z"
   },
   {
    "duration": 169,
    "start_time": "2022-10-19T07:17:27.003Z"
   },
   {
    "duration": 13,
    "start_time": "2022-10-19T07:17:27.173Z"
   },
   {
    "duration": 34,
    "start_time": "2022-10-19T07:17:27.188Z"
   },
   {
    "duration": 39,
    "start_time": "2022-10-19T07:17:27.223Z"
   },
   {
    "duration": 19,
    "start_time": "2022-10-19T07:17:27.264Z"
   },
   {
    "duration": 7,
    "start_time": "2022-10-19T07:17:27.285Z"
   },
   {
    "duration": 42,
    "start_time": "2022-10-19T07:17:27.293Z"
   },
   {
    "duration": 12,
    "start_time": "2022-10-19T07:17:27.337Z"
   },
   {
    "duration": 24,
    "start_time": "2022-10-19T07:17:27.352Z"
   },
   {
    "duration": 17,
    "start_time": "2022-10-19T07:17:27.377Z"
   },
   {
    "duration": 10,
    "start_time": "2022-10-19T07:17:27.395Z"
   },
   {
    "duration": 5,
    "start_time": "2022-10-19T07:17:27.421Z"
   },
   {
    "duration": 368,
    "start_time": "2022-10-19T07:17:27.427Z"
   },
   {
    "duration": 293,
    "start_time": "2022-10-19T07:17:27.796Z"
   },
   {
    "duration": 48,
    "start_time": "2022-10-19T07:17:28.093Z"
   },
   {
    "duration": 12,
    "start_time": "2022-10-19T07:17:28.143Z"
   },
   {
    "duration": 28,
    "start_time": "2022-10-19T07:17:28.157Z"
   },
   {
    "duration": 295,
    "start_time": "2022-10-19T07:17:28.187Z"
   },
   {
    "duration": 65,
    "start_time": "2022-10-19T07:17:28.484Z"
   },
   {
    "duration": 6,
    "start_time": "2022-10-19T07:17:28.550Z"
   },
   {
    "duration": 10,
    "start_time": "2022-10-19T07:17:28.558Z"
   },
   {
    "duration": 14,
    "start_time": "2022-10-19T07:17:28.569Z"
   },
   {
    "duration": 16,
    "start_time": "2022-10-19T07:17:28.585Z"
   },
   {
    "duration": 20,
    "start_time": "2022-10-19T07:17:28.602Z"
   },
   {
    "duration": 15,
    "start_time": "2022-10-19T07:17:28.624Z"
   },
   {
    "duration": 260,
    "start_time": "2022-10-19T07:17:28.641Z"
   },
   {
    "duration": 20,
    "start_time": "2022-10-19T07:17:28.903Z"
   },
   {
    "duration": 7,
    "start_time": "2022-10-19T07:17:28.925Z"
   },
   {
    "duration": 355,
    "start_time": "2022-10-19T07:17:28.933Z"
   },
   {
    "duration": 297,
    "start_time": "2022-10-19T07:17:29.290Z"
   },
   {
    "duration": 7,
    "start_time": "2022-10-19T07:17:29.589Z"
   },
   {
    "duration": 7,
    "start_time": "2022-10-19T07:17:29.598Z"
   },
   {
    "duration": 23,
    "start_time": "2022-10-19T07:17:29.606Z"
   },
   {
    "duration": 7,
    "start_time": "2022-10-19T07:17:29.631Z"
   },
   {
    "duration": 6,
    "start_time": "2022-10-19T07:17:29.640Z"
   },
   {
    "duration": 6,
    "start_time": "2022-10-19T07:17:29.648Z"
   },
   {
    "duration": 66,
    "start_time": "2022-10-19T07:17:29.656Z"
   },
   {
    "duration": 108,
    "start_time": "2022-10-19T07:17:29.724Z"
   },
   {
    "duration": 0,
    "start_time": "2022-10-19T07:17:29.834Z"
   },
   {
    "duration": 0,
    "start_time": "2022-10-19T07:17:29.835Z"
   },
   {
    "duration": 32,
    "start_time": "2022-10-19T07:17:50.912Z"
   },
   {
    "duration": 99,
    "start_time": "2022-10-19T07:19:02.667Z"
   },
   {
    "duration": 107,
    "start_time": "2022-10-19T07:19:34.533Z"
   },
   {
    "duration": 106,
    "start_time": "2022-10-19T07:20:02.858Z"
   },
   {
    "duration": 2268,
    "start_time": "2022-10-19T07:20:19.904Z"
   },
   {
    "duration": 94,
    "start_time": "2022-10-19T07:20:45.554Z"
   },
   {
    "duration": 100,
    "start_time": "2022-10-19T07:20:53.933Z"
   },
   {
    "duration": 104,
    "start_time": "2022-10-19T07:21:13.068Z"
   },
   {
    "duration": 1315,
    "start_time": "2022-10-19T07:21:24.204Z"
   },
   {
    "duration": 114,
    "start_time": "2022-10-19T07:21:45.308Z"
   },
   {
    "duration": 1336,
    "start_time": "2022-10-19T07:21:55.499Z"
   },
   {
    "duration": 1329,
    "start_time": "2022-10-19T07:22:53.844Z"
   },
   {
    "duration": 92,
    "start_time": "2022-10-19T07:24:09.142Z"
   },
   {
    "duration": 408,
    "start_time": "2022-10-19T07:24:18.395Z"
   },
   {
    "duration": 93,
    "start_time": "2022-10-19T07:24:28.880Z"
   },
   {
    "duration": 123,
    "start_time": "2022-10-19T07:24:41.659Z"
   },
   {
    "duration": 18,
    "start_time": "2022-10-19T07:26:48.660Z"
   },
   {
    "duration": 21,
    "start_time": "2022-10-19T07:27:13.140Z"
   },
   {
    "duration": 48,
    "start_time": "2022-10-19T07:27:55.044Z"
   },
   {
    "duration": 45,
    "start_time": "2022-10-19T07:28:06.434Z"
   },
   {
    "duration": 17,
    "start_time": "2022-10-19T07:28:26.156Z"
   },
   {
    "duration": 51,
    "start_time": "2022-10-19T07:28:32.679Z"
   },
   {
    "duration": 37,
    "start_time": "2022-10-19T07:28:49.723Z"
   },
   {
    "duration": 1257,
    "start_time": "2022-10-19T07:30:16.814Z"
   },
   {
    "duration": 1362,
    "start_time": "2022-10-19T07:30:30.749Z"
   },
   {
    "duration": 1183,
    "start_time": "2022-10-19T07:30:37.556Z"
   },
   {
    "duration": 1234,
    "start_time": "2022-10-19T07:31:16.416Z"
   },
   {
    "duration": 5,
    "start_time": "2022-10-19T07:31:33.510Z"
   },
   {
    "duration": 5,
    "start_time": "2022-10-19T07:31:46.413Z"
   },
   {
    "duration": 5,
    "start_time": "2022-10-19T07:32:10.925Z"
   },
   {
    "duration": 6,
    "start_time": "2022-10-19T07:32:43.128Z"
   },
   {
    "duration": 6,
    "start_time": "2022-10-19T07:32:44.605Z"
   },
   {
    "duration": 1083,
    "start_time": "2022-10-19T07:33:48.473Z"
   },
   {
    "duration": 18,
    "start_time": "2022-10-19T07:34:48.312Z"
   },
   {
    "duration": 88,
    "start_time": "2022-10-19T07:36:12.071Z"
   },
   {
    "duration": 16,
    "start_time": "2022-10-19T07:36:47.529Z"
   },
   {
    "duration": 18,
    "start_time": "2022-10-19T07:38:01.831Z"
   },
   {
    "duration": 15,
    "start_time": "2022-10-19T07:42:03.723Z"
   },
   {
    "duration": 17,
    "start_time": "2022-10-19T07:42:32.548Z"
   },
   {
    "duration": 1112,
    "start_time": "2022-10-19T07:57:08.312Z"
   },
   {
    "duration": 6,
    "start_time": "2022-10-19T07:58:26.777Z"
   },
   {
    "duration": 44,
    "start_time": "2022-10-19T08:00:05.761Z"
   },
   {
    "duration": 54,
    "start_time": "2022-10-19T08:00:17.162Z"
   },
   {
    "duration": 5,
    "start_time": "2022-10-19T08:00:20.841Z"
   },
   {
    "duration": 45,
    "start_time": "2022-10-19T08:00:56.637Z"
   },
   {
    "duration": 70,
    "start_time": "2022-10-19T08:01:47.449Z"
   },
   {
    "duration": 53,
    "start_time": "2022-10-19T08:01:52.343Z"
   },
   {
    "duration": 1091,
    "start_time": "2022-10-19T08:02:07.299Z"
   },
   {
    "duration": 142,
    "start_time": "2022-10-19T08:02:08.391Z"
   },
   {
    "duration": 12,
    "start_time": "2022-10-19T08:02:08.534Z"
   },
   {
    "duration": 2,
    "start_time": "2022-10-19T08:02:08.548Z"
   },
   {
    "duration": 21,
    "start_time": "2022-10-19T08:02:08.552Z"
   },
   {
    "duration": 8,
    "start_time": "2022-10-19T08:02:08.574Z"
   },
   {
    "duration": 61,
    "start_time": "2022-10-19T08:02:08.583Z"
   },
   {
    "duration": 8,
    "start_time": "2022-10-19T08:02:08.646Z"
   },
   {
    "duration": 72,
    "start_time": "2022-10-19T08:02:08.656Z"
   },
   {
    "duration": 18,
    "start_time": "2022-10-19T08:02:08.731Z"
   },
   {
    "duration": 87,
    "start_time": "2022-10-19T08:02:08.751Z"
   },
   {
    "duration": 100,
    "start_time": "2022-10-19T08:02:08.839Z"
   },
   {
    "duration": 9,
    "start_time": "2022-10-19T08:02:08.941Z"
   },
   {
    "duration": 163,
    "start_time": "2022-10-19T08:02:08.951Z"
   },
   {
    "duration": 14,
    "start_time": "2022-10-19T08:02:09.115Z"
   },
   {
    "duration": 24,
    "start_time": "2022-10-19T08:02:09.131Z"
   },
   {
    "duration": 38,
    "start_time": "2022-10-19T08:02:09.156Z"
   },
   {
    "duration": 37,
    "start_time": "2022-10-19T08:02:09.195Z"
   },
   {
    "duration": 6,
    "start_time": "2022-10-19T08:02:09.233Z"
   },
   {
    "duration": 16,
    "start_time": "2022-10-19T08:02:09.240Z"
   },
   {
    "duration": 9,
    "start_time": "2022-10-19T08:02:09.258Z"
   },
   {
    "duration": 9,
    "start_time": "2022-10-19T08:02:09.269Z"
   },
   {
    "duration": 43,
    "start_time": "2022-10-19T08:02:09.279Z"
   },
   {
    "duration": 5,
    "start_time": "2022-10-19T08:02:09.323Z"
   },
   {
    "duration": 5,
    "start_time": "2022-10-19T08:02:09.329Z"
   },
   {
    "duration": 340,
    "start_time": "2022-10-19T08:02:09.336Z"
   },
   {
    "duration": 280,
    "start_time": "2022-10-19T08:02:09.678Z"
   },
   {
    "duration": 33,
    "start_time": "2022-10-19T08:02:09.961Z"
   },
   {
    "duration": 12,
    "start_time": "2022-10-19T08:02:09.996Z"
   },
   {
    "duration": 17,
    "start_time": "2022-10-19T08:02:10.022Z"
   },
   {
    "duration": 280,
    "start_time": "2022-10-19T08:02:10.041Z"
   },
   {
    "duration": 55,
    "start_time": "2022-10-19T08:02:10.323Z"
   },
   {
    "duration": 6,
    "start_time": "2022-10-19T08:02:10.380Z"
   },
   {
    "duration": 17,
    "start_time": "2022-10-19T08:02:10.387Z"
   },
   {
    "duration": 19,
    "start_time": "2022-10-19T08:02:10.405Z"
   },
   {
    "duration": 9,
    "start_time": "2022-10-19T08:02:10.425Z"
   },
   {
    "duration": 13,
    "start_time": "2022-10-19T08:02:10.436Z"
   },
   {
    "duration": 14,
    "start_time": "2022-10-19T08:02:10.451Z"
   },
   {
    "duration": 234,
    "start_time": "2022-10-19T08:02:10.466Z"
   },
   {
    "duration": 24,
    "start_time": "2022-10-19T08:02:10.702Z"
   },
   {
    "duration": 5,
    "start_time": "2022-10-19T08:02:10.728Z"
   },
   {
    "duration": 342,
    "start_time": "2022-10-19T08:02:10.734Z"
   },
   {
    "duration": 211,
    "start_time": "2022-10-19T08:02:11.078Z"
   },
   {
    "duration": 34,
    "start_time": "2022-10-19T08:02:11.291Z"
   },
   {
    "duration": 7,
    "start_time": "2022-10-19T08:02:11.326Z"
   },
   {
    "duration": 10,
    "start_time": "2022-10-19T08:02:11.334Z"
   },
   {
    "duration": 6,
    "start_time": "2022-10-19T08:02:11.346Z"
   },
   {
    "duration": 8,
    "start_time": "2022-10-19T08:02:11.353Z"
   },
   {
    "duration": 7,
    "start_time": "2022-10-19T08:02:11.363Z"
   },
   {
    "duration": 64,
    "start_time": "2022-10-19T08:02:11.371Z"
   },
   {
    "duration": 5,
    "start_time": "2022-10-19T08:02:11.436Z"
   },
   {
    "duration": 9,
    "start_time": "2022-10-19T08:02:11.442Z"
   },
   {
    "duration": 10,
    "start_time": "2022-10-19T08:02:11.453Z"
   },
   {
    "duration": 14,
    "start_time": "2022-10-19T08:02:11.464Z"
   },
   {
    "duration": 116,
    "start_time": "2022-10-19T08:02:11.480Z"
   },
   {
    "duration": 25,
    "start_time": "2022-10-19T08:02:11.598Z"
   },
   {
    "duration": 18,
    "start_time": "2022-10-19T08:02:11.624Z"
   },
   {
    "duration": 64,
    "start_time": "2022-10-19T08:02:11.644Z"
   },
   {
    "duration": 61,
    "start_time": "2022-10-19T08:02:11.721Z"
   },
   {
    "duration": 1454,
    "start_time": "2022-10-19T08:02:11.783Z"
   },
   {
    "duration": 1320,
    "start_time": "2022-10-19T08:02:57.460Z"
   },
   {
    "duration": 1379,
    "start_time": "2022-10-19T08:03:53.086Z"
   },
   {
    "duration": 1205,
    "start_time": "2022-10-19T08:04:42.348Z"
   },
   {
    "duration": 37,
    "start_time": "2022-10-19T08:06:59.093Z"
   },
   {
    "duration": 14,
    "start_time": "2022-10-19T08:07:10.877Z"
   },
   {
    "duration": 14,
    "start_time": "2022-10-19T08:07:52.659Z"
   },
   {
    "duration": 14,
    "start_time": "2022-10-19T08:08:47.580Z"
   },
   {
    "duration": 3,
    "start_time": "2022-10-19T08:09:16.471Z"
   },
   {
    "duration": 1205,
    "start_time": "2022-10-19T08:09:34.965Z"
   },
   {
    "duration": 15,
    "start_time": "2022-10-19T08:10:04.693Z"
   },
   {
    "duration": 21,
    "start_time": "2022-10-19T08:10:49.142Z"
   },
   {
    "duration": 24,
    "start_time": "2022-10-19T08:11:05.959Z"
   },
   {
    "duration": 19,
    "start_time": "2022-10-19T08:13:20.961Z"
   },
   {
    "duration": 23,
    "start_time": "2022-10-19T08:13:31.310Z"
   },
   {
    "duration": 17,
    "start_time": "2022-10-19T08:13:38.437Z"
   },
   {
    "duration": 16,
    "start_time": "2022-10-19T08:13:48.245Z"
   },
   {
    "duration": 21,
    "start_time": "2022-10-19T08:16:21.539Z"
   },
   {
    "duration": 17,
    "start_time": "2022-10-19T08:16:29.078Z"
   },
   {
    "duration": 17,
    "start_time": "2022-10-19T08:16:34.062Z"
   },
   {
    "duration": 18,
    "start_time": "2022-10-19T08:18:48.000Z"
   },
   {
    "duration": 18,
    "start_time": "2022-10-19T08:18:51.487Z"
   },
   {
    "duration": 21,
    "start_time": "2022-10-19T08:18:54.453Z"
   },
   {
    "duration": 11,
    "start_time": "2022-10-19T11:31:10.860Z"
   },
   {
    "duration": 19,
    "start_time": "2022-10-19T11:39:44.352Z"
   },
   {
    "duration": 23,
    "start_time": "2022-10-19T11:39:51.457Z"
   },
   {
    "duration": 22,
    "start_time": "2022-10-19T11:39:55.597Z"
   },
   {
    "duration": 12,
    "start_time": "2022-10-19T11:49:31.531Z"
   },
   {
    "duration": 1123,
    "start_time": "2022-10-19T11:57:48.522Z"
   },
   {
    "duration": 144,
    "start_time": "2022-10-19T11:57:49.647Z"
   },
   {
    "duration": 12,
    "start_time": "2022-10-19T11:57:49.793Z"
   },
   {
    "duration": 3,
    "start_time": "2022-10-19T11:57:49.806Z"
   },
   {
    "duration": 27,
    "start_time": "2022-10-19T11:57:49.810Z"
   },
   {
    "duration": 9,
    "start_time": "2022-10-19T11:57:49.838Z"
   },
   {
    "duration": 48,
    "start_time": "2022-10-19T11:57:49.848Z"
   },
   {
    "duration": 24,
    "start_time": "2022-10-19T11:57:49.898Z"
   },
   {
    "duration": 62,
    "start_time": "2022-10-19T11:57:49.924Z"
   },
   {
    "duration": 42,
    "start_time": "2022-10-19T11:57:49.989Z"
   },
   {
    "duration": 90,
    "start_time": "2022-10-19T11:57:50.032Z"
   },
   {
    "duration": 105,
    "start_time": "2022-10-19T11:57:50.123Z"
   },
   {
    "duration": 9,
    "start_time": "2022-10-19T11:57:50.230Z"
   },
   {
    "duration": 162,
    "start_time": "2022-10-19T11:57:50.240Z"
   },
   {
    "duration": 17,
    "start_time": "2022-10-19T11:57:50.404Z"
   },
   {
    "duration": 24,
    "start_time": "2022-10-19T11:57:50.423Z"
   },
   {
    "duration": 74,
    "start_time": "2022-10-19T11:57:50.448Z"
   },
   {
    "duration": 17,
    "start_time": "2022-10-19T11:57:50.524Z"
   },
   {
    "duration": 6,
    "start_time": "2022-10-19T11:57:50.543Z"
   },
   {
    "duration": 18,
    "start_time": "2022-10-19T11:57:50.551Z"
   },
   {
    "duration": 11,
    "start_time": "2022-10-19T11:57:50.621Z"
   },
   {
    "duration": 14,
    "start_time": "2022-10-19T11:57:50.633Z"
   },
   {
    "duration": 15,
    "start_time": "2022-10-19T11:57:50.649Z"
   },
   {
    "duration": 6,
    "start_time": "2022-10-19T11:57:50.666Z"
   },
   {
    "duration": 5,
    "start_time": "2022-10-19T11:57:50.673Z"
   },
   {
    "duration": 414,
    "start_time": "2022-10-19T11:57:50.680Z"
   },
   {
    "duration": 307,
    "start_time": "2022-10-19T11:57:51.096Z"
   },
   {
    "duration": 45,
    "start_time": "2022-10-19T11:57:51.407Z"
   },
   {
    "duration": 12,
    "start_time": "2022-10-19T11:57:51.453Z"
   },
   {
    "duration": 28,
    "start_time": "2022-10-19T11:57:51.466Z"
   },
   {
    "duration": 298,
    "start_time": "2022-10-19T11:57:51.496Z"
   },
   {
    "duration": 66,
    "start_time": "2022-10-19T11:57:51.796Z"
   },
   {
    "duration": 5,
    "start_time": "2022-10-19T11:57:51.864Z"
   },
   {
    "duration": 9,
    "start_time": "2022-10-19T11:57:51.871Z"
   },
   {
    "duration": 7,
    "start_time": "2022-10-19T11:57:51.881Z"
   },
   {
    "duration": 10,
    "start_time": "2022-10-19T11:57:51.889Z"
   },
   {
    "duration": 4,
    "start_time": "2022-10-19T11:57:51.921Z"
   },
   {
    "duration": 21,
    "start_time": "2022-10-19T11:57:51.927Z"
   },
   {
    "duration": 251,
    "start_time": "2022-10-19T11:57:51.949Z"
   },
   {
    "duration": 20,
    "start_time": "2022-10-19T11:57:52.202Z"
   },
   {
    "duration": 5,
    "start_time": "2022-10-19T11:57:52.223Z"
   },
   {
    "duration": 350,
    "start_time": "2022-10-19T11:57:52.230Z"
   },
   {
    "duration": 216,
    "start_time": "2022-10-19T11:57:52.581Z"
   },
   {
    "duration": 29,
    "start_time": "2022-10-19T11:57:52.798Z"
   },
   {
    "duration": 9,
    "start_time": "2022-10-19T11:57:52.828Z"
   },
   {
    "duration": 18,
    "start_time": "2022-10-19T11:57:52.838Z"
   },
   {
    "duration": 11,
    "start_time": "2022-10-19T11:57:52.857Z"
   },
   {
    "duration": 7,
    "start_time": "2022-10-19T11:57:52.869Z"
   },
   {
    "duration": 7,
    "start_time": "2022-10-19T11:57:52.878Z"
   },
   {
    "duration": 69,
    "start_time": "2022-10-19T11:57:52.886Z"
   },
   {
    "duration": 5,
    "start_time": "2022-10-19T11:57:52.957Z"
   },
   {
    "duration": 8,
    "start_time": "2022-10-19T11:57:52.964Z"
   },
   {
    "duration": 6,
    "start_time": "2022-10-19T11:57:52.974Z"
   },
   {
    "duration": 15,
    "start_time": "2022-10-19T11:57:52.982Z"
   },
   {
    "duration": 123,
    "start_time": "2022-10-19T11:57:52.999Z"
   },
   {
    "duration": 18,
    "start_time": "2022-10-19T11:57:53.124Z"
   },
   {
    "duration": 20,
    "start_time": "2022-10-19T11:57:53.144Z"
   },
   {
    "duration": 66,
    "start_time": "2022-10-19T11:57:53.166Z"
   },
   {
    "duration": 39,
    "start_time": "2022-10-19T11:57:53.234Z"
   },
   {
    "duration": 47,
    "start_time": "2022-10-19T11:57:53.275Z"
   },
   {
    "duration": 18,
    "start_time": "2022-10-19T11:57:53.324Z"
   },
   {
    "duration": 17,
    "start_time": "2022-10-19T11:57:53.344Z"
   },
   {
    "duration": 66,
    "start_time": "2022-10-19T11:57:53.362Z"
   },
   {
    "duration": 17,
    "start_time": "2022-10-19T11:57:53.429Z"
   },
   {
    "duration": 15,
    "start_time": "2022-10-19T11:57:53.448Z"
   },
   {
    "duration": 4,
    "start_time": "2022-10-19T12:00:06.312Z"
   },
   {
    "duration": 23,
    "start_time": "2022-10-19T12:00:12.415Z"
   },
   {
    "duration": 1028,
    "start_time": "2022-10-19T12:00:22.577Z"
   },
   {
    "duration": 141,
    "start_time": "2022-10-19T12:00:23.607Z"
   },
   {
    "duration": 13,
    "start_time": "2022-10-19T12:00:23.750Z"
   },
   {
    "duration": 5,
    "start_time": "2022-10-19T12:00:23.765Z"
   },
   {
    "duration": 21,
    "start_time": "2022-10-19T12:00:23.771Z"
   },
   {
    "duration": 15,
    "start_time": "2022-10-19T12:00:23.793Z"
   },
   {
    "duration": 53,
    "start_time": "2022-10-19T12:00:23.809Z"
   },
   {
    "duration": 8,
    "start_time": "2022-10-19T12:00:23.864Z"
   },
   {
    "duration": 71,
    "start_time": "2022-10-19T12:00:23.874Z"
   },
   {
    "duration": 19,
    "start_time": "2022-10-19T12:00:23.948Z"
   },
   {
    "duration": 106,
    "start_time": "2022-10-19T12:00:23.969Z"
   },
   {
    "duration": 107,
    "start_time": "2022-10-19T12:00:24.084Z"
   },
   {
    "duration": 11,
    "start_time": "2022-10-19T12:00:24.193Z"
   },
   {
    "duration": 165,
    "start_time": "2022-10-19T12:00:24.205Z"
   },
   {
    "duration": 13,
    "start_time": "2022-10-19T12:00:24.372Z"
   },
   {
    "duration": 39,
    "start_time": "2022-10-19T12:00:24.387Z"
   },
   {
    "duration": 38,
    "start_time": "2022-10-19T12:00:24.428Z"
   },
   {
    "duration": 19,
    "start_time": "2022-10-19T12:00:24.468Z"
   },
   {
    "duration": 7,
    "start_time": "2022-10-19T12:00:24.488Z"
   },
   {
    "duration": 41,
    "start_time": "2022-10-19T12:00:24.496Z"
   },
   {
    "duration": 24,
    "start_time": "2022-10-19T12:00:24.539Z"
   },
   {
    "duration": 29,
    "start_time": "2022-10-19T12:00:24.565Z"
   },
   {
    "duration": 23,
    "start_time": "2022-10-19T12:00:24.596Z"
   },
   {
    "duration": 15,
    "start_time": "2022-10-19T12:00:24.621Z"
   },
   {
    "duration": 19,
    "start_time": "2022-10-19T12:00:24.638Z"
   },
   {
    "duration": 336,
    "start_time": "2022-10-19T12:00:24.659Z"
   },
   {
    "duration": 280,
    "start_time": "2022-10-19T12:00:24.997Z"
   },
   {
    "duration": 40,
    "start_time": "2022-10-19T12:00:25.281Z"
   },
   {
    "duration": 12,
    "start_time": "2022-10-19T12:00:25.323Z"
   },
   {
    "duration": 56,
    "start_time": "2022-10-19T12:00:25.337Z"
   },
   {
    "duration": 282,
    "start_time": "2022-10-19T12:00:25.395Z"
   },
   {
    "duration": 63,
    "start_time": "2022-10-19T12:00:25.679Z"
   },
   {
    "duration": 5,
    "start_time": "2022-10-19T12:00:25.743Z"
   },
   {
    "duration": 17,
    "start_time": "2022-10-19T12:00:25.750Z"
   },
   {
    "duration": 24,
    "start_time": "2022-10-19T12:00:25.768Z"
   },
   {
    "duration": 37,
    "start_time": "2022-10-19T12:00:25.793Z"
   },
   {
    "duration": 39,
    "start_time": "2022-10-19T12:00:25.832Z"
   },
   {
    "duration": 29,
    "start_time": "2022-10-19T12:00:25.872Z"
   },
   {
    "duration": 307,
    "start_time": "2022-10-19T12:00:25.903Z"
   },
   {
    "duration": 19,
    "start_time": "2022-10-19T12:00:26.212Z"
   },
   {
    "duration": 24,
    "start_time": "2022-10-19T12:00:26.232Z"
   },
   {
    "duration": 323,
    "start_time": "2022-10-19T12:00:26.257Z"
   },
   {
    "duration": 211,
    "start_time": "2022-10-19T12:00:26.582Z"
   },
   {
    "duration": 30,
    "start_time": "2022-10-19T12:00:26.794Z"
   },
   {
    "duration": 7,
    "start_time": "2022-10-19T12:00:26.825Z"
   },
   {
    "duration": 12,
    "start_time": "2022-10-19T12:00:26.833Z"
   },
   {
    "duration": 19,
    "start_time": "2022-10-19T12:00:26.846Z"
   },
   {
    "duration": 20,
    "start_time": "2022-10-19T12:00:26.866Z"
   },
   {
    "duration": 12,
    "start_time": "2022-10-19T12:00:26.887Z"
   },
   {
    "duration": 51,
    "start_time": "2022-10-19T12:00:26.900Z"
   },
   {
    "duration": 5,
    "start_time": "2022-10-19T12:00:26.954Z"
   },
   {
    "duration": 14,
    "start_time": "2022-10-19T12:00:26.961Z"
   },
   {
    "duration": 20,
    "start_time": "2022-10-19T12:00:26.976Z"
   },
   {
    "duration": 18,
    "start_time": "2022-10-19T12:00:26.997Z"
   },
   {
    "duration": 111,
    "start_time": "2022-10-19T12:00:27.017Z"
   },
   {
    "duration": 16,
    "start_time": "2022-10-19T12:00:27.130Z"
   },
   {
    "duration": 42,
    "start_time": "2022-10-19T12:00:27.147Z"
   },
   {
    "duration": 59,
    "start_time": "2022-10-19T12:00:27.191Z"
   },
   {
    "duration": 38,
    "start_time": "2022-10-19T12:00:27.252Z"
   },
   {
    "duration": 43,
    "start_time": "2022-10-19T12:00:27.291Z"
   },
   {
    "duration": 18,
    "start_time": "2022-10-19T12:00:27.336Z"
   },
   {
    "duration": 66,
    "start_time": "2022-10-19T12:00:27.356Z"
   },
   {
    "duration": 20,
    "start_time": "2022-10-19T12:00:27.424Z"
   },
   {
    "duration": 27,
    "start_time": "2022-10-19T12:00:27.445Z"
   },
   {
    "duration": 58,
    "start_time": "2022-10-19T12:00:27.474Z"
   },
   {
    "duration": 120,
    "start_time": "2022-10-19T12:01:12.248Z"
   },
   {
    "duration": 5,
    "start_time": "2022-10-19T12:01:25.179Z"
   },
   {
    "duration": 4,
    "start_time": "2022-10-19T12:01:28.305Z"
   },
   {
    "duration": 71,
    "start_time": "2022-10-19T12:01:57.315Z"
   },
   {
    "duration": 30,
    "start_time": "2022-10-19T12:01:59.874Z"
   },
   {
    "duration": 41,
    "start_time": "2022-10-19T12:02:08.609Z"
   },
   {
    "duration": 26,
    "start_time": "2022-10-19T12:02:09.419Z"
   },
   {
    "duration": 1113,
    "start_time": "2022-10-19T12:02:14.827Z"
   },
   {
    "duration": 175,
    "start_time": "2022-10-19T12:02:15.942Z"
   },
   {
    "duration": 18,
    "start_time": "2022-10-19T12:02:16.119Z"
   },
   {
    "duration": 2,
    "start_time": "2022-10-19T12:02:16.140Z"
   },
   {
    "duration": 34,
    "start_time": "2022-10-19T12:02:16.144Z"
   },
   {
    "duration": 12,
    "start_time": "2022-10-19T12:02:16.181Z"
   },
   {
    "duration": 66,
    "start_time": "2022-10-19T12:02:16.195Z"
   },
   {
    "duration": 9,
    "start_time": "2022-10-19T12:02:16.262Z"
   },
   {
    "duration": 80,
    "start_time": "2022-10-19T12:02:16.272Z"
   },
   {
    "duration": 20,
    "start_time": "2022-10-19T12:02:16.354Z"
   },
   {
    "duration": 99,
    "start_time": "2022-10-19T12:02:16.375Z"
   },
   {
    "duration": 105,
    "start_time": "2022-10-19T12:02:16.476Z"
   },
   {
    "duration": 10,
    "start_time": "2022-10-19T12:02:16.582Z"
   },
   {
    "duration": 181,
    "start_time": "2022-10-19T12:02:16.593Z"
   },
   {
    "duration": 13,
    "start_time": "2022-10-19T12:02:16.776Z"
   },
   {
    "duration": 46,
    "start_time": "2022-10-19T12:02:16.790Z"
   },
   {
    "duration": 42,
    "start_time": "2022-10-19T12:02:16.838Z"
   },
   {
    "duration": 18,
    "start_time": "2022-10-19T12:02:16.882Z"
   },
   {
    "duration": 37,
    "start_time": "2022-10-19T12:02:16.903Z"
   },
   {
    "duration": 28,
    "start_time": "2022-10-19T12:02:16.942Z"
   },
   {
    "duration": 11,
    "start_time": "2022-10-19T12:02:16.972Z"
   },
   {
    "duration": 14,
    "start_time": "2022-10-19T12:02:16.984Z"
   },
   {
    "duration": 14,
    "start_time": "2022-10-19T12:02:17.000Z"
   },
   {
    "duration": 11,
    "start_time": "2022-10-19T12:02:17.016Z"
   },
   {
    "duration": 11,
    "start_time": "2022-10-19T12:02:17.029Z"
   },
   {
    "duration": 370,
    "start_time": "2022-10-19T12:02:17.042Z"
   },
   {
    "duration": 318,
    "start_time": "2022-10-19T12:02:17.413Z"
   },
   {
    "duration": 35,
    "start_time": "2022-10-19T12:02:17.735Z"
   },
   {
    "duration": 13,
    "start_time": "2022-10-19T12:02:17.772Z"
   },
   {
    "duration": 43,
    "start_time": "2022-10-19T12:02:17.788Z"
   },
   {
    "duration": 315,
    "start_time": "2022-10-19T12:02:17.832Z"
   },
   {
    "duration": 61,
    "start_time": "2022-10-19T12:02:18.148Z"
   },
   {
    "duration": 12,
    "start_time": "2022-10-19T12:02:18.211Z"
   },
   {
    "duration": 10,
    "start_time": "2022-10-19T12:02:18.224Z"
   },
   {
    "duration": 10,
    "start_time": "2022-10-19T12:02:18.236Z"
   },
   {
    "duration": 9,
    "start_time": "2022-10-19T12:02:18.248Z"
   },
   {
    "duration": 11,
    "start_time": "2022-10-19T12:02:18.259Z"
   },
   {
    "duration": 24,
    "start_time": "2022-10-19T12:02:18.272Z"
   },
   {
    "duration": 298,
    "start_time": "2022-10-19T12:02:18.298Z"
   },
   {
    "duration": 25,
    "start_time": "2022-10-19T12:02:18.598Z"
   },
   {
    "duration": 6,
    "start_time": "2022-10-19T12:02:18.625Z"
   },
   {
    "duration": 355,
    "start_time": "2022-10-19T12:02:18.632Z"
   },
   {
    "duration": 291,
    "start_time": "2022-10-19T12:02:18.989Z"
   },
   {
    "duration": 7,
    "start_time": "2022-10-19T12:02:19.282Z"
   },
   {
    "duration": 7,
    "start_time": "2022-10-19T12:02:19.291Z"
   },
   {
    "duration": 22,
    "start_time": "2022-10-19T12:02:19.300Z"
   },
   {
    "duration": 8,
    "start_time": "2022-10-19T12:02:19.324Z"
   },
   {
    "duration": 8,
    "start_time": "2022-10-19T12:02:19.333Z"
   },
   {
    "duration": 7,
    "start_time": "2022-10-19T12:02:19.343Z"
   },
   {
    "duration": 70,
    "start_time": "2022-10-19T12:02:19.352Z"
   },
   {
    "duration": 5,
    "start_time": "2022-10-19T12:02:19.424Z"
   },
   {
    "duration": 8,
    "start_time": "2022-10-19T12:02:19.430Z"
   },
   {
    "duration": 7,
    "start_time": "2022-10-19T12:02:19.439Z"
   },
   {
    "duration": 12,
    "start_time": "2022-10-19T12:02:19.448Z"
   },
   {
    "duration": 121,
    "start_time": "2022-10-19T12:02:19.461Z"
   },
   {
    "duration": 17,
    "start_time": "2022-10-19T12:02:19.583Z"
   },
   {
    "duration": 31,
    "start_time": "2022-10-19T12:02:19.601Z"
   },
   {
    "duration": 55,
    "start_time": "2022-10-19T12:02:19.634Z"
   },
   {
    "duration": 58,
    "start_time": "2022-10-19T12:02:19.690Z"
   },
   {
    "duration": 19,
    "start_time": "2022-10-19T12:02:19.750Z"
   },
   {
    "duration": 54,
    "start_time": "2022-10-19T12:02:19.770Z"
   },
   {
    "duration": 19,
    "start_time": "2022-10-19T12:02:19.826Z"
   },
   {
    "duration": 19,
    "start_time": "2022-10-19T12:02:19.847Z"
   },
   {
    "duration": 70,
    "start_time": "2022-10-19T12:02:19.868Z"
   },
   {
    "duration": 17,
    "start_time": "2022-10-19T12:02:19.940Z"
   },
   {
    "duration": 2025,
    "start_time": "2022-10-19T12:03:13.716Z"
   },
   {
    "duration": 101,
    "start_time": "2022-10-19T12:03:38.996Z"
   },
   {
    "duration": 25,
    "start_time": "2022-10-19T12:03:44.326Z"
   },
   {
    "duration": 1045,
    "start_time": "2022-10-19T12:03:53.044Z"
   },
   {
    "duration": 143,
    "start_time": "2022-10-19T12:03:54.091Z"
   },
   {
    "duration": 12,
    "start_time": "2022-10-19T12:03:54.236Z"
   },
   {
    "duration": 4,
    "start_time": "2022-10-19T12:03:54.249Z"
   },
   {
    "duration": 22,
    "start_time": "2022-10-19T12:03:54.255Z"
   },
   {
    "duration": 9,
    "start_time": "2022-10-19T12:03:54.278Z"
   },
   {
    "duration": 57,
    "start_time": "2022-10-19T12:03:54.289Z"
   },
   {
    "duration": 7,
    "start_time": "2022-10-19T12:03:54.348Z"
   },
   {
    "duration": 78,
    "start_time": "2022-10-19T12:03:54.357Z"
   },
   {
    "duration": 20,
    "start_time": "2022-10-19T12:03:54.438Z"
   },
   {
    "duration": 102,
    "start_time": "2022-10-19T12:03:54.459Z"
   },
   {
    "duration": 105,
    "start_time": "2022-10-19T12:03:54.563Z"
   },
   {
    "duration": 11,
    "start_time": "2022-10-19T12:03:54.670Z"
   },
   {
    "duration": 169,
    "start_time": "2022-10-19T12:03:54.683Z"
   },
   {
    "duration": 12,
    "start_time": "2022-10-19T12:03:54.853Z"
   },
   {
    "duration": 24,
    "start_time": "2022-10-19T12:03:54.867Z"
   },
   {
    "duration": 137,
    "start_time": "2022-10-19T12:03:54.892Z"
   },
   {
    "duration": 17,
    "start_time": "2022-10-19T12:03:55.031Z"
   },
   {
    "duration": 7,
    "start_time": "2022-10-19T12:03:55.050Z"
   },
   {
    "duration": 17,
    "start_time": "2022-10-19T12:03:55.058Z"
   },
   {
    "duration": 10,
    "start_time": "2022-10-19T12:03:55.077Z"
   },
   {
    "duration": 34,
    "start_time": "2022-10-19T12:03:55.089Z"
   },
   {
    "duration": 17,
    "start_time": "2022-10-19T12:03:55.125Z"
   },
   {
    "duration": 6,
    "start_time": "2022-10-19T12:03:55.144Z"
   },
   {
    "duration": 7,
    "start_time": "2022-10-19T12:03:55.152Z"
   },
   {
    "duration": 366,
    "start_time": "2022-10-19T12:03:55.161Z"
   },
   {
    "duration": 294,
    "start_time": "2022-10-19T12:03:55.528Z"
   },
   {
    "duration": 32,
    "start_time": "2022-10-19T12:03:55.825Z"
   },
   {
    "duration": 11,
    "start_time": "2022-10-19T12:03:55.859Z"
   },
   {
    "duration": 28,
    "start_time": "2022-10-19T12:03:55.872Z"
   },
   {
    "duration": 346,
    "start_time": "2022-10-19T12:03:55.902Z"
   },
   {
    "duration": 53,
    "start_time": "2022-10-19T12:03:56.249Z"
   },
   {
    "duration": 5,
    "start_time": "2022-10-19T12:03:56.304Z"
   },
   {
    "duration": 18,
    "start_time": "2022-10-19T12:03:56.310Z"
   },
   {
    "duration": 6,
    "start_time": "2022-10-19T12:03:56.329Z"
   },
   {
    "duration": 10,
    "start_time": "2022-10-19T12:03:56.336Z"
   },
   {
    "duration": 7,
    "start_time": "2022-10-19T12:03:56.348Z"
   },
   {
    "duration": 16,
    "start_time": "2022-10-19T12:03:56.356Z"
   },
   {
    "duration": 253,
    "start_time": "2022-10-19T12:03:56.373Z"
   },
   {
    "duration": 11,
    "start_time": "2022-10-19T12:03:56.628Z"
   },
   {
    "duration": 9,
    "start_time": "2022-10-19T12:03:56.641Z"
   },
   {
    "duration": 334,
    "start_time": "2022-10-19T12:03:56.652Z"
   },
   {
    "duration": 245,
    "start_time": "2022-10-19T12:03:56.988Z"
   },
   {
    "duration": 8,
    "start_time": "2022-10-19T12:03:57.235Z"
   },
   {
    "duration": 9,
    "start_time": "2022-10-19T12:03:57.245Z"
   },
   {
    "duration": 6,
    "start_time": "2022-10-19T12:03:57.256Z"
   },
   {
    "duration": 9,
    "start_time": "2022-10-19T12:03:57.264Z"
   },
   {
    "duration": 8,
    "start_time": "2022-10-19T12:03:57.274Z"
   },
   {
    "duration": 7,
    "start_time": "2022-10-19T12:03:57.284Z"
   },
   {
    "duration": 70,
    "start_time": "2022-10-19T12:03:57.292Z"
   },
   {
    "duration": 5,
    "start_time": "2022-10-19T12:03:57.363Z"
   },
   {
    "duration": 13,
    "start_time": "2022-10-19T12:03:57.370Z"
   },
   {
    "duration": 9,
    "start_time": "2022-10-19T12:03:57.384Z"
   },
   {
    "duration": 29,
    "start_time": "2022-10-19T12:03:57.394Z"
   },
   {
    "duration": 101,
    "start_time": "2022-10-19T12:03:57.424Z"
   },
   {
    "duration": 15,
    "start_time": "2022-10-19T12:03:57.527Z"
   },
   {
    "duration": 27,
    "start_time": "2022-10-19T12:03:57.543Z"
   },
   {
    "duration": 51,
    "start_time": "2022-10-19T12:03:57.572Z"
   },
   {
    "duration": 37,
    "start_time": "2022-10-19T12:03:57.625Z"
   },
   {
    "duration": 21,
    "start_time": "2022-10-19T12:03:57.663Z"
   },
   {
    "duration": 50,
    "start_time": "2022-10-19T12:03:57.686Z"
   },
   {
    "duration": 17,
    "start_time": "2022-10-19T12:03:57.737Z"
   },
   {
    "duration": 69,
    "start_time": "2022-10-19T12:03:57.755Z"
   },
   {
    "duration": 17,
    "start_time": "2022-10-19T12:03:57.826Z"
   },
   {
    "duration": 17,
    "start_time": "2022-10-19T12:03:57.844Z"
   },
   {
    "duration": 180,
    "start_time": "2022-10-19T12:04:19.801Z"
   },
   {
    "duration": 103,
    "start_time": "2022-10-19T12:04:33.274Z"
   },
   {
    "duration": 24,
    "start_time": "2022-10-19T12:04:35.386Z"
   },
   {
    "duration": 4,
    "start_time": "2022-10-19T12:04:44.761Z"
   },
   {
    "duration": 24,
    "start_time": "2022-10-19T12:04:46.274Z"
   },
   {
    "duration": 13,
    "start_time": "2022-10-19T12:05:03.403Z"
   },
   {
    "duration": 26,
    "start_time": "2022-10-19T12:05:27.336Z"
   },
   {
    "duration": 21,
    "start_time": "2022-10-19T12:05:29.027Z"
   },
   {
    "duration": 74,
    "start_time": "2022-10-19T12:05:34.883Z"
   },
   {
    "duration": 9,
    "start_time": "2022-10-19T12:05:44.763Z"
   },
   {
    "duration": 66,
    "start_time": "2022-10-19T12:05:55.605Z"
   },
   {
    "duration": 27,
    "start_time": "2022-10-19T12:05:56.507Z"
   },
   {
    "duration": 88,
    "start_time": "2022-10-19T12:05:58.258Z"
   },
   {
    "duration": 84,
    "start_time": "2022-10-19T12:05:58.978Z"
   },
   {
    "duration": 9,
    "start_time": "2022-10-19T12:06:00.631Z"
   },
   {
    "duration": 1042,
    "start_time": "2022-10-19T12:06:07.258Z"
   },
   {
    "duration": 140,
    "start_time": "2022-10-19T12:06:08.301Z"
   },
   {
    "duration": 12,
    "start_time": "2022-10-19T12:06:08.443Z"
   },
   {
    "duration": 5,
    "start_time": "2022-10-19T12:06:08.457Z"
   },
   {
    "duration": 20,
    "start_time": "2022-10-19T12:06:08.463Z"
   },
   {
    "duration": 8,
    "start_time": "2022-10-19T12:06:08.484Z"
   },
   {
    "duration": 60,
    "start_time": "2022-10-19T12:06:08.494Z"
   },
   {
    "duration": 9,
    "start_time": "2022-10-19T12:06:08.556Z"
   },
   {
    "duration": 77,
    "start_time": "2022-10-19T12:06:08.566Z"
   },
   {
    "duration": 19,
    "start_time": "2022-10-19T12:06:08.646Z"
   },
   {
    "duration": 97,
    "start_time": "2022-10-19T12:06:08.667Z"
   },
   {
    "duration": 97,
    "start_time": "2022-10-19T12:06:08.766Z"
   },
   {
    "duration": 9,
    "start_time": "2022-10-19T12:06:08.865Z"
   },
   {
    "duration": 165,
    "start_time": "2022-10-19T12:06:08.876Z"
   },
   {
    "duration": 13,
    "start_time": "2022-10-19T12:06:09.043Z"
   },
   {
    "duration": 25,
    "start_time": "2022-10-19T12:06:09.057Z"
   },
   {
    "duration": 53,
    "start_time": "2022-10-19T12:06:09.083Z"
   },
   {
    "duration": 17,
    "start_time": "2022-10-19T12:06:09.138Z"
   },
   {
    "duration": 5,
    "start_time": "2022-10-19T12:06:09.156Z"
   },
   {
    "duration": 20,
    "start_time": "2022-10-19T12:06:09.163Z"
   },
   {
    "duration": 11,
    "start_time": "2022-10-19T12:06:09.185Z"
   },
   {
    "duration": 9,
    "start_time": "2022-10-19T12:06:09.221Z"
   },
   {
    "duration": 14,
    "start_time": "2022-10-19T12:06:09.231Z"
   },
   {
    "duration": 11,
    "start_time": "2022-10-19T12:06:09.246Z"
   },
   {
    "duration": 24,
    "start_time": "2022-10-19T12:06:09.259Z"
   },
   {
    "duration": 349,
    "start_time": "2022-10-19T12:06:09.284Z"
   },
   {
    "duration": 282,
    "start_time": "2022-10-19T12:06:09.634Z"
   },
   {
    "duration": 33,
    "start_time": "2022-10-19T12:06:09.922Z"
   },
   {
    "duration": 11,
    "start_time": "2022-10-19T12:06:09.956Z"
   },
   {
    "duration": 20,
    "start_time": "2022-10-19T12:06:09.969Z"
   },
   {
    "duration": 279,
    "start_time": "2022-10-19T12:06:09.991Z"
   },
   {
    "duration": 63,
    "start_time": "2022-10-19T12:06:10.272Z"
   },
   {
    "duration": 6,
    "start_time": "2022-10-19T12:06:10.337Z"
   },
   {
    "duration": 12,
    "start_time": "2022-10-19T12:06:10.344Z"
   },
   {
    "duration": 12,
    "start_time": "2022-10-19T12:06:10.357Z"
   },
   {
    "duration": 13,
    "start_time": "2022-10-19T12:06:10.370Z"
   },
   {
    "duration": 10,
    "start_time": "2022-10-19T12:06:10.385Z"
   },
   {
    "duration": 26,
    "start_time": "2022-10-19T12:06:10.396Z"
   },
   {
    "duration": 269,
    "start_time": "2022-10-19T12:06:10.424Z"
   },
   {
    "duration": 13,
    "start_time": "2022-10-19T12:06:10.695Z"
   },
   {
    "duration": 11,
    "start_time": "2022-10-19T12:06:10.721Z"
   },
   {
    "duration": 343,
    "start_time": "2022-10-19T12:06:10.733Z"
   },
   {
    "duration": 246,
    "start_time": "2022-10-19T12:06:11.078Z"
   },
   {
    "duration": 7,
    "start_time": "2022-10-19T12:06:11.326Z"
   },
   {
    "duration": 7,
    "start_time": "2022-10-19T12:06:11.335Z"
   },
   {
    "duration": 6,
    "start_time": "2022-10-19T12:06:11.344Z"
   },
   {
    "duration": 7,
    "start_time": "2022-10-19T12:06:11.352Z"
   },
   {
    "duration": 8,
    "start_time": "2022-10-19T12:06:11.360Z"
   },
   {
    "duration": 8,
    "start_time": "2022-10-19T12:06:11.369Z"
   },
   {
    "duration": 79,
    "start_time": "2022-10-19T12:06:11.379Z"
   },
   {
    "duration": 5,
    "start_time": "2022-10-19T12:06:11.459Z"
   },
   {
    "duration": 7,
    "start_time": "2022-10-19T12:06:11.465Z"
   },
   {
    "duration": 6,
    "start_time": "2022-10-19T12:06:11.473Z"
   },
   {
    "duration": 14,
    "start_time": "2022-10-19T12:06:11.480Z"
   },
   {
    "duration": 141,
    "start_time": "2022-10-19T12:06:11.496Z"
   },
   {
    "duration": 19,
    "start_time": "2022-10-19T12:06:11.639Z"
   },
   {
    "duration": 21,
    "start_time": "2022-10-19T12:06:11.659Z"
   },
   {
    "duration": 74,
    "start_time": "2022-10-19T12:06:11.682Z"
   },
   {
    "duration": 42,
    "start_time": "2022-10-19T12:06:11.758Z"
   },
   {
    "duration": 33,
    "start_time": "2022-10-19T12:06:11.802Z"
   },
   {
    "duration": 16,
    "start_time": "2022-10-19T12:06:11.836Z"
   },
   {
    "duration": 15,
    "start_time": "2022-10-19T12:06:11.853Z"
   },
   {
    "duration": 70,
    "start_time": "2022-10-19T12:06:11.869Z"
   },
   {
    "duration": 17,
    "start_time": "2022-10-19T12:06:11.940Z"
   },
   {
    "duration": 69,
    "start_time": "2022-10-19T12:06:11.959Z"
   },
   {
    "duration": 18,
    "start_time": "2022-10-19T12:08:55.161Z"
   },
   {
    "duration": 107,
    "start_time": "2022-10-19T12:09:07.395Z"
   },
   {
    "duration": 18,
    "start_time": "2022-10-19T12:09:13.564Z"
   },
   {
    "duration": 17,
    "start_time": "2022-10-19T12:09:19.937Z"
   },
   {
    "duration": 22,
    "start_time": "2022-10-19T12:09:24.500Z"
   },
   {
    "duration": 18,
    "start_time": "2022-10-19T12:09:28.432Z"
   },
   {
    "duration": 18,
    "start_time": "2022-10-19T12:09:29.880Z"
   },
   {
    "duration": 19,
    "start_time": "2022-10-19T12:09:30.544Z"
   },
   {
    "duration": 76,
    "start_time": "2022-10-20T10:46:43.871Z"
   },
   {
    "duration": 67,
    "start_time": "2022-10-20T10:46:57.564Z"
   },
   {
    "duration": 1270,
    "start_time": "2022-10-20T10:47:02.144Z"
   },
   {
    "duration": 690,
    "start_time": "2022-10-20T10:47:03.416Z"
   },
   {
    "duration": 15,
    "start_time": "2022-10-20T10:47:04.107Z"
   },
   {
    "duration": 9,
    "start_time": "2022-10-20T10:47:04.124Z"
   },
   {
    "duration": 35,
    "start_time": "2022-10-20T10:47:04.135Z"
   },
   {
    "duration": 10,
    "start_time": "2022-10-20T10:47:04.172Z"
   },
   {
    "duration": 58,
    "start_time": "2022-10-20T10:47:04.184Z"
   },
   {
    "duration": 9,
    "start_time": "2022-10-20T10:47:04.244Z"
   },
   {
    "duration": 80,
    "start_time": "2022-10-20T10:47:04.254Z"
   },
   {
    "duration": 21,
    "start_time": "2022-10-20T10:47:04.336Z"
   },
   {
    "duration": 107,
    "start_time": "2022-10-20T10:47:04.359Z"
   },
   {
    "duration": 112,
    "start_time": "2022-10-20T10:47:04.468Z"
   },
   {
    "duration": 15,
    "start_time": "2022-10-20T10:47:04.582Z"
   },
   {
    "duration": 177,
    "start_time": "2022-10-20T10:47:04.601Z"
   },
   {
    "duration": 22,
    "start_time": "2022-10-20T10:47:04.779Z"
   },
   {
    "duration": 29,
    "start_time": "2022-10-20T10:47:04.802Z"
   },
   {
    "duration": 42,
    "start_time": "2022-10-20T10:47:04.833Z"
   },
   {
    "duration": 36,
    "start_time": "2022-10-20T10:47:04.876Z"
   },
   {
    "duration": 6,
    "start_time": "2022-10-20T10:47:04.913Z"
   },
   {
    "duration": 17,
    "start_time": "2022-10-20T10:47:04.921Z"
   },
   {
    "duration": 12,
    "start_time": "2022-10-20T10:47:04.941Z"
   },
   {
    "duration": 42,
    "start_time": "2022-10-20T10:47:04.954Z"
   },
   {
    "duration": 15,
    "start_time": "2022-10-20T10:47:04.997Z"
   },
   {
    "duration": 125,
    "start_time": "2022-10-20T10:47:05.014Z"
   },
   {
    "duration": 0,
    "start_time": "2022-10-20T10:47:05.142Z"
   },
   {
    "duration": 0,
    "start_time": "2022-10-20T10:47:05.143Z"
   },
   {
    "duration": 0,
    "start_time": "2022-10-20T10:47:05.144Z"
   },
   {
    "duration": 0,
    "start_time": "2022-10-20T10:47:05.145Z"
   },
   {
    "duration": 0,
    "start_time": "2022-10-20T10:47:05.147Z"
   },
   {
    "duration": 0,
    "start_time": "2022-10-20T10:47:05.148Z"
   },
   {
    "duration": 0,
    "start_time": "2022-10-20T10:47:05.149Z"
   },
   {
    "duration": 0,
    "start_time": "2022-10-20T10:47:05.150Z"
   },
   {
    "duration": 0,
    "start_time": "2022-10-20T10:47:05.151Z"
   },
   {
    "duration": 0,
    "start_time": "2022-10-20T10:47:05.152Z"
   },
   {
    "duration": 0,
    "start_time": "2022-10-20T10:47:05.153Z"
   },
   {
    "duration": 0,
    "start_time": "2022-10-20T10:47:05.154Z"
   },
   {
    "duration": 0,
    "start_time": "2022-10-20T10:47:05.155Z"
   },
   {
    "duration": 0,
    "start_time": "2022-10-20T10:47:05.157Z"
   },
   {
    "duration": 0,
    "start_time": "2022-10-20T10:47:05.157Z"
   },
   {
    "duration": 0,
    "start_time": "2022-10-20T10:47:05.159Z"
   },
   {
    "duration": 0,
    "start_time": "2022-10-20T10:47:05.160Z"
   },
   {
    "duration": 0,
    "start_time": "2022-10-20T10:47:05.161Z"
   },
   {
    "duration": 0,
    "start_time": "2022-10-20T10:47:05.162Z"
   },
   {
    "duration": 0,
    "start_time": "2022-10-20T10:47:05.163Z"
   },
   {
    "duration": 0,
    "start_time": "2022-10-20T10:47:05.164Z"
   },
   {
    "duration": 0,
    "start_time": "2022-10-20T10:47:05.165Z"
   },
   {
    "duration": 0,
    "start_time": "2022-10-20T10:47:05.166Z"
   },
   {
    "duration": 0,
    "start_time": "2022-10-20T10:47:05.168Z"
   },
   {
    "duration": 0,
    "start_time": "2022-10-20T10:47:05.168Z"
   },
   {
    "duration": 0,
    "start_time": "2022-10-20T10:47:05.170Z"
   },
   {
    "duration": 0,
    "start_time": "2022-10-20T10:47:05.171Z"
   },
   {
    "duration": 0,
    "start_time": "2022-10-20T10:47:05.172Z"
   },
   {
    "duration": 0,
    "start_time": "2022-10-20T10:47:05.173Z"
   },
   {
    "duration": 0,
    "start_time": "2022-10-20T10:47:05.174Z"
   },
   {
    "duration": 0,
    "start_time": "2022-10-20T10:47:05.175Z"
   },
   {
    "duration": 0,
    "start_time": "2022-10-20T10:47:05.176Z"
   },
   {
    "duration": 0,
    "start_time": "2022-10-20T10:47:05.177Z"
   },
   {
    "duration": 0,
    "start_time": "2022-10-20T10:47:05.179Z"
   },
   {
    "duration": 0,
    "start_time": "2022-10-20T10:47:05.180Z"
   },
   {
    "duration": 0,
    "start_time": "2022-10-20T10:47:05.196Z"
   },
   {
    "duration": 0,
    "start_time": "2022-10-20T10:47:05.197Z"
   },
   {
    "duration": 0,
    "start_time": "2022-10-20T10:47:05.199Z"
   },
   {
    "duration": 0,
    "start_time": "2022-10-20T10:47:05.200Z"
   },
   {
    "duration": 0,
    "start_time": "2022-10-20T10:47:05.201Z"
   },
   {
    "duration": 0,
    "start_time": "2022-10-20T10:47:05.201Z"
   },
   {
    "duration": 0,
    "start_time": "2022-10-20T10:47:05.203Z"
   },
   {
    "duration": 175,
    "start_time": "2022-10-20T10:48:00.772Z"
   },
   {
    "duration": 89,
    "start_time": "2022-10-20T10:48:25.291Z"
   },
   {
    "duration": 74,
    "start_time": "2022-10-20T10:48:57.677Z"
   },
   {
    "duration": 112,
    "start_time": "2022-10-20T10:49:02.491Z"
   },
   {
    "duration": 1148,
    "start_time": "2022-10-20T10:49:21.955Z"
   },
   {
    "duration": 158,
    "start_time": "2022-10-20T10:49:23.105Z"
   },
   {
    "duration": 13,
    "start_time": "2022-10-20T10:49:23.265Z"
   },
   {
    "duration": 2,
    "start_time": "2022-10-20T10:49:23.280Z"
   },
   {
    "duration": 42,
    "start_time": "2022-10-20T10:49:23.284Z"
   },
   {
    "duration": 11,
    "start_time": "2022-10-20T10:49:23.328Z"
   },
   {
    "duration": 55,
    "start_time": "2022-10-20T10:49:23.341Z"
   },
   {
    "duration": 7,
    "start_time": "2022-10-20T10:49:23.397Z"
   },
   {
    "duration": 69,
    "start_time": "2022-10-20T10:49:23.406Z"
   },
   {
    "duration": 36,
    "start_time": "2022-10-20T10:49:23.478Z"
   },
   {
    "duration": 96,
    "start_time": "2022-10-20T10:49:23.516Z"
   },
   {
    "duration": 127,
    "start_time": "2022-10-20T10:49:23.614Z"
   },
   {
    "duration": 12,
    "start_time": "2022-10-20T10:49:23.743Z"
   },
   {
    "duration": 185,
    "start_time": "2022-10-20T10:49:23.757Z"
   },
   {
    "duration": 14,
    "start_time": "2022-10-20T10:49:23.944Z"
   },
   {
    "duration": 43,
    "start_time": "2022-10-20T10:49:23.960Z"
   },
   {
    "duration": 41,
    "start_time": "2022-10-20T10:49:24.005Z"
   },
   {
    "duration": 20,
    "start_time": "2022-10-20T10:49:24.048Z"
   },
   {
    "duration": 27,
    "start_time": "2022-10-20T10:49:24.070Z"
   },
   {
    "duration": 18,
    "start_time": "2022-10-20T10:49:24.099Z"
   },
   {
    "duration": 11,
    "start_time": "2022-10-20T10:49:24.119Z"
   },
   {
    "duration": 11,
    "start_time": "2022-10-20T10:49:24.131Z"
   },
   {
    "duration": 16,
    "start_time": "2022-10-20T10:49:24.144Z"
   },
   {
    "duration": 35,
    "start_time": "2022-10-20T10:49:24.163Z"
   },
   {
    "duration": 4,
    "start_time": "2022-10-20T10:49:24.200Z"
   },
   {
    "duration": 414,
    "start_time": "2022-10-20T10:49:24.206Z"
   },
   {
    "duration": 344,
    "start_time": "2022-10-20T10:49:24.622Z"
   },
   {
    "duration": 41,
    "start_time": "2022-10-20T10:49:24.969Z"
   },
   {
    "duration": 12,
    "start_time": "2022-10-20T10:49:25.011Z"
   },
   {
    "duration": 22,
    "start_time": "2022-10-20T10:49:25.025Z"
   },
   {
    "duration": 310,
    "start_time": "2022-10-20T10:49:25.049Z"
   },
   {
    "duration": 79,
    "start_time": "2022-10-20T10:49:25.361Z"
   },
   {
    "duration": 6,
    "start_time": "2022-10-20T10:49:25.441Z"
   },
   {
    "duration": 8,
    "start_time": "2022-10-20T10:49:25.449Z"
   },
   {
    "duration": 7,
    "start_time": "2022-10-20T10:49:25.459Z"
   },
   {
    "duration": 32,
    "start_time": "2022-10-20T10:49:25.467Z"
   },
   {
    "duration": 5,
    "start_time": "2022-10-20T10:49:25.501Z"
   },
   {
    "duration": 17,
    "start_time": "2022-10-20T10:49:25.507Z"
   },
   {
    "duration": 256,
    "start_time": "2022-10-20T10:49:25.526Z"
   },
   {
    "duration": 22,
    "start_time": "2022-10-20T10:49:25.783Z"
   },
   {
    "duration": 8,
    "start_time": "2022-10-20T10:49:25.806Z"
   },
   {
    "duration": 346,
    "start_time": "2022-10-20T10:49:25.816Z"
   },
   {
    "duration": 294,
    "start_time": "2022-10-20T10:49:26.164Z"
   },
   {
    "duration": 8,
    "start_time": "2022-10-20T10:49:26.459Z"
   },
   {
    "duration": 9,
    "start_time": "2022-10-20T10:49:26.469Z"
   },
   {
    "duration": 19,
    "start_time": "2022-10-20T10:49:26.480Z"
   },
   {
    "duration": 8,
    "start_time": "2022-10-20T10:49:26.501Z"
   },
   {
    "duration": 16,
    "start_time": "2022-10-20T10:49:26.511Z"
   },
   {
    "duration": 8,
    "start_time": "2022-10-20T10:49:26.528Z"
   },
   {
    "duration": 70,
    "start_time": "2022-10-20T10:49:26.538Z"
   },
   {
    "duration": 5,
    "start_time": "2022-10-20T10:49:26.610Z"
   },
   {
    "duration": 7,
    "start_time": "2022-10-20T10:49:26.617Z"
   },
   {
    "duration": 9,
    "start_time": "2022-10-20T10:49:26.625Z"
   },
   {
    "duration": 22,
    "start_time": "2022-10-20T10:49:26.636Z"
   },
   {
    "duration": 151,
    "start_time": "2022-10-20T10:49:26.660Z"
   },
   {
    "duration": 25,
    "start_time": "2022-10-20T10:49:26.812Z"
   },
   {
    "duration": 34,
    "start_time": "2022-10-20T10:49:26.840Z"
   },
   {
    "duration": 67,
    "start_time": "2022-10-20T10:49:26.876Z"
   },
   {
    "duration": 54,
    "start_time": "2022-10-20T10:49:26.944Z"
   },
   {
    "duration": 24,
    "start_time": "2022-10-20T10:49:27.000Z"
   },
   {
    "duration": 73,
    "start_time": "2022-10-20T10:49:27.026Z"
   },
   {
    "duration": 21,
    "start_time": "2022-10-20T10:49:27.101Z"
   },
   {
    "duration": 18,
    "start_time": "2022-10-20T10:49:27.123Z"
   },
   {
    "duration": 63,
    "start_time": "2022-10-20T10:49:27.143Z"
   },
   {
    "duration": 19,
    "start_time": "2022-10-20T10:49:27.208Z"
   },
   {
    "duration": 97,
    "start_time": "2022-10-20T10:52:32.221Z"
   },
   {
    "duration": 13,
    "start_time": "2022-10-20T10:52:49.794Z"
   },
   {
    "duration": 70,
    "start_time": "2022-10-20T10:52:57.702Z"
   },
   {
    "duration": 10,
    "start_time": "2022-10-20T10:53:03.564Z"
   },
   {
    "duration": 15,
    "start_time": "2022-10-20T10:53:17.637Z"
   },
   {
    "duration": 8,
    "start_time": "2022-10-20T10:53:19.333Z"
   },
   {
    "duration": 272,
    "start_time": "2022-10-20T10:54:55.526Z"
   },
   {
    "duration": 243,
    "start_time": "2022-10-20T10:55:09.671Z"
   },
   {
    "duration": 25,
    "start_time": "2022-10-20T10:58:15.335Z"
   },
   {
    "duration": 6,
    "start_time": "2022-10-20T10:58:51.959Z"
   },
   {
    "duration": 3,
    "start_time": "2022-10-20T10:59:53.255Z"
   },
   {
    "duration": 10,
    "start_time": "2022-10-20T11:05:45.793Z"
   },
   {
    "duration": 7,
    "start_time": "2022-10-20T11:06:49.930Z"
   },
   {
    "duration": 15,
    "start_time": "2022-10-20T11:08:38.419Z"
   },
   {
    "duration": 7,
    "start_time": "2022-10-20T11:09:25.530Z"
   },
   {
    "duration": 9,
    "start_time": "2022-10-20T11:09:47.652Z"
   },
   {
    "duration": 5,
    "start_time": "2022-10-20T11:09:54.099Z"
   },
   {
    "duration": 4,
    "start_time": "2022-10-20T11:10:44.469Z"
   },
   {
    "duration": 5,
    "start_time": "2022-10-20T11:10:46.029Z"
   },
   {
    "duration": 1215,
    "start_time": "2022-10-20T11:12:34.192Z"
   },
   {
    "duration": 179,
    "start_time": "2022-10-20T11:12:35.409Z"
   },
   {
    "duration": 14,
    "start_time": "2022-10-20T11:12:35.590Z"
   },
   {
    "duration": 3,
    "start_time": "2022-10-20T11:12:35.606Z"
   },
   {
    "duration": 22,
    "start_time": "2022-10-20T11:12:35.610Z"
   },
   {
    "duration": 13,
    "start_time": "2022-10-20T11:12:35.634Z"
   },
   {
    "duration": 67,
    "start_time": "2022-10-20T11:12:35.649Z"
   },
   {
    "duration": 9,
    "start_time": "2022-10-20T11:12:35.718Z"
   },
   {
    "duration": 82,
    "start_time": "2022-10-20T11:12:35.728Z"
   },
   {
    "duration": 23,
    "start_time": "2022-10-20T11:12:35.813Z"
   },
   {
    "duration": 108,
    "start_time": "2022-10-20T11:12:35.838Z"
   },
   {
    "duration": 113,
    "start_time": "2022-10-20T11:12:35.948Z"
   },
   {
    "duration": 15,
    "start_time": "2022-10-20T11:12:36.063Z"
   },
   {
    "duration": 202,
    "start_time": "2022-10-20T11:12:36.079Z"
   },
   {
    "duration": 18,
    "start_time": "2022-10-20T11:12:36.283Z"
   },
   {
    "duration": 27,
    "start_time": "2022-10-20T11:12:36.303Z"
   },
   {
    "duration": 41,
    "start_time": "2022-10-20T11:12:36.332Z"
   },
   {
    "duration": 46,
    "start_time": "2022-10-20T11:12:36.375Z"
   },
   {
    "duration": 7,
    "start_time": "2022-10-20T11:12:36.423Z"
   },
   {
    "duration": 22,
    "start_time": "2022-10-20T11:12:36.432Z"
   },
   {
    "duration": 11,
    "start_time": "2022-10-20T11:12:36.455Z"
   },
   {
    "duration": 34,
    "start_time": "2022-10-20T11:12:36.468Z"
   },
   {
    "duration": 19,
    "start_time": "2022-10-20T11:12:36.504Z"
   },
   {
    "duration": 23,
    "start_time": "2022-10-20T11:12:36.525Z"
   },
   {
    "duration": 9,
    "start_time": "2022-10-20T11:12:36.550Z"
   },
   {
    "duration": 362,
    "start_time": "2022-10-20T11:12:36.561Z"
   },
   {
    "duration": 5,
    "start_time": "2022-10-20T11:12:36.924Z"
   },
   {
    "duration": 5,
    "start_time": "2022-10-20T11:12:36.932Z"
   },
   {
    "duration": 7,
    "start_time": "2022-10-20T11:12:36.938Z"
   },
   {
    "duration": 415,
    "start_time": "2022-10-20T11:12:36.946Z"
   },
   {
    "duration": 316,
    "start_time": "2022-10-20T11:12:37.363Z"
   },
   {
    "duration": 14,
    "start_time": "2022-10-20T11:12:37.681Z"
   },
   {
    "duration": 10,
    "start_time": "2022-10-20T11:12:37.697Z"
   },
   {
    "duration": 38,
    "start_time": "2022-10-20T11:12:37.709Z"
   },
   {
    "duration": 15,
    "start_time": "2022-10-20T11:12:37.749Z"
   },
   {
    "duration": 34,
    "start_time": "2022-10-20T11:12:37.766Z"
   },
   {
    "duration": 4,
    "start_time": "2022-10-20T11:12:37.801Z"
   },
   {
    "duration": 6,
    "start_time": "2022-10-20T11:12:37.806Z"
   },
   {
    "duration": 7,
    "start_time": "2022-10-20T11:12:37.814Z"
   },
   {
    "duration": 12,
    "start_time": "2022-10-20T11:12:37.823Z"
   },
   {
    "duration": 5,
    "start_time": "2022-10-20T11:12:37.837Z"
   },
   {
    "duration": 7,
    "start_time": "2022-10-20T11:12:37.843Z"
   },
   {
    "duration": 6,
    "start_time": "2022-10-20T11:12:37.851Z"
   },
   {
    "duration": 57,
    "start_time": "2022-10-20T11:12:37.859Z"
   },
   {
    "duration": 409,
    "start_time": "2022-10-20T11:12:37.918Z"
   },
   {
    "duration": 73,
    "start_time": "2022-10-20T11:12:38.329Z"
   },
   {
    "duration": 7,
    "start_time": "2022-10-20T11:12:38.403Z"
   },
   {
    "duration": 9,
    "start_time": "2022-10-20T11:12:38.411Z"
   },
   {
    "duration": 6,
    "start_time": "2022-10-20T11:12:38.422Z"
   },
   {
    "duration": 11,
    "start_time": "2022-10-20T11:12:38.430Z"
   },
   {
    "duration": 5,
    "start_time": "2022-10-20T11:12:38.443Z"
   },
   {
    "duration": 46,
    "start_time": "2022-10-20T11:12:38.449Z"
   },
   {
    "duration": 281,
    "start_time": "2022-10-20T11:12:38.497Z"
   },
   {
    "duration": 18,
    "start_time": "2022-10-20T11:12:38.780Z"
   },
   {
    "duration": 8,
    "start_time": "2022-10-20T11:12:38.800Z"
   },
   {
    "duration": 268,
    "start_time": "2022-10-20T11:12:38.809Z"
   },
   {
    "duration": 289,
    "start_time": "2022-10-20T11:12:39.079Z"
   },
   {
    "duration": 7,
    "start_time": "2022-10-20T11:12:39.370Z"
   },
   {
    "duration": 21,
    "start_time": "2022-10-20T11:12:39.379Z"
   },
   {
    "duration": 9,
    "start_time": "2022-10-20T11:12:39.401Z"
   },
   {
    "duration": 8,
    "start_time": "2022-10-20T11:12:39.411Z"
   },
   {
    "duration": 8,
    "start_time": "2022-10-20T11:12:39.421Z"
   },
   {
    "duration": 7,
    "start_time": "2022-10-20T11:12:39.430Z"
   },
   {
    "duration": 84,
    "start_time": "2022-10-20T11:12:39.439Z"
   },
   {
    "duration": 5,
    "start_time": "2022-10-20T11:12:39.525Z"
   },
   {
    "duration": 7,
    "start_time": "2022-10-20T11:12:39.531Z"
   },
   {
    "duration": 7,
    "start_time": "2022-10-20T11:12:39.539Z"
   },
   {
    "duration": 14,
    "start_time": "2022-10-20T11:12:39.547Z"
   },
   {
    "duration": 126,
    "start_time": "2022-10-20T11:12:39.563Z"
   },
   {
    "duration": 19,
    "start_time": "2022-10-20T11:12:39.694Z"
   },
   {
    "duration": 23,
    "start_time": "2022-10-20T11:12:39.714Z"
   },
   {
    "duration": 71,
    "start_time": "2022-10-20T11:12:39.739Z"
   },
   {
    "duration": 43,
    "start_time": "2022-10-20T11:12:39.812Z"
   },
   {
    "duration": 43,
    "start_time": "2022-10-20T11:12:39.857Z"
   },
   {
    "duration": 17,
    "start_time": "2022-10-20T11:12:39.902Z"
   },
   {
    "duration": 19,
    "start_time": "2022-10-20T11:12:39.921Z"
   },
   {
    "duration": 72,
    "start_time": "2022-10-20T11:12:39.941Z"
   },
   {
    "duration": 18,
    "start_time": "2022-10-20T11:12:40.014Z"
   },
   {
    "duration": 77,
    "start_time": "2022-10-20T11:12:40.034Z"
   },
   {
    "duration": 25,
    "start_time": "2022-10-20T11:13:57.940Z"
   },
   {
    "duration": 43,
    "start_time": "2022-10-20T11:13:58.731Z"
   },
   {
    "duration": 183,
    "start_time": "2022-10-20T11:32:54.495Z"
   },
   {
    "duration": 25,
    "start_time": "2022-10-20T11:33:15.431Z"
   },
   {
    "duration": 11,
    "start_time": "2022-10-20T11:33:37.256Z"
   },
   {
    "duration": 2803,
    "start_time": "2022-10-20T11:34:37.569Z"
   },
   {
    "duration": 1656,
    "start_time": "2022-10-20T11:34:45.722Z"
   },
   {
    "duration": 23,
    "start_time": "2022-10-20T11:34:56.729Z"
   },
   {
    "duration": 7,
    "start_time": "2022-10-20T11:36:00.424Z"
   },
   {
    "duration": 13,
    "start_time": "2022-10-20T11:36:24.091Z"
   },
   {
    "duration": 14,
    "start_time": "2022-10-20T11:36:40.200Z"
   },
   {
    "duration": 15,
    "start_time": "2022-10-20T11:36:49.224Z"
   },
   {
    "duration": 14,
    "start_time": "2022-10-20T11:37:35.465Z"
   },
   {
    "duration": 14,
    "start_time": "2022-10-20T11:37:39.920Z"
   },
   {
    "duration": 59,
    "start_time": "2022-10-20T11:41:23.626Z"
   },
   {
    "duration": 14,
    "start_time": "2022-10-20T11:41:31.688Z"
   },
   {
    "duration": 73,
    "start_time": "2022-10-20T11:45:32.474Z"
   },
   {
    "duration": 10,
    "start_time": "2022-10-20T11:45:34.754Z"
   },
   {
    "duration": 8,
    "start_time": "2022-10-20T11:45:37.610Z"
   },
   {
    "duration": 16,
    "start_time": "2022-10-20T11:45:39.077Z"
   },
   {
    "duration": 301,
    "start_time": "2022-10-20T11:45:48.601Z"
   },
   {
    "duration": 1208,
    "start_time": "2022-10-20T11:46:48.416Z"
   },
   {
    "duration": 173,
    "start_time": "2022-10-20T11:46:49.626Z"
   },
   {
    "duration": 15,
    "start_time": "2022-10-20T11:46:49.801Z"
   },
   {
    "duration": 3,
    "start_time": "2022-10-20T11:46:49.818Z"
   },
   {
    "duration": 24,
    "start_time": "2022-10-20T11:46:49.823Z"
   },
   {
    "duration": 11,
    "start_time": "2022-10-20T11:46:49.849Z"
   },
   {
    "duration": 84,
    "start_time": "2022-10-20T11:46:49.862Z"
   },
   {
    "duration": 11,
    "start_time": "2022-10-20T11:46:49.948Z"
   },
   {
    "duration": 98,
    "start_time": "2022-10-20T11:46:49.961Z"
   },
   {
    "duration": 22,
    "start_time": "2022-10-20T11:46:50.062Z"
   },
   {
    "duration": 108,
    "start_time": "2022-10-20T11:46:50.095Z"
   },
   {
    "duration": 108,
    "start_time": "2022-10-20T11:46:50.205Z"
   },
   {
    "duration": 15,
    "start_time": "2022-10-20T11:46:50.314Z"
   },
   {
    "duration": 213,
    "start_time": "2022-10-20T11:46:50.331Z"
   },
   {
    "duration": 14,
    "start_time": "2022-10-20T11:46:50.546Z"
   },
   {
    "duration": 50,
    "start_time": "2022-10-20T11:46:50.562Z"
   },
   {
    "duration": 47,
    "start_time": "2022-10-20T11:46:50.614Z"
   },
   {
    "duration": 39,
    "start_time": "2022-10-20T11:46:50.662Z"
   },
   {
    "duration": 7,
    "start_time": "2022-10-20T11:46:50.704Z"
   },
   {
    "duration": 23,
    "start_time": "2022-10-20T11:46:50.714Z"
   },
   {
    "duration": 12,
    "start_time": "2022-10-20T11:46:50.739Z"
   },
   {
    "duration": 9,
    "start_time": "2022-10-20T11:46:50.753Z"
   },
   {
    "duration": 54,
    "start_time": "2022-10-20T11:46:50.763Z"
   },
   {
    "duration": 34,
    "start_time": "2022-10-20T11:46:50.819Z"
   },
   {
    "duration": 22,
    "start_time": "2022-10-20T11:46:50.857Z"
   },
   {
    "duration": 325,
    "start_time": "2022-10-20T11:46:50.881Z"
   },
   {
    "duration": 7,
    "start_time": "2022-10-20T11:46:51.208Z"
   },
   {
    "duration": 6,
    "start_time": "2022-10-20T11:46:51.219Z"
   },
   {
    "duration": 5,
    "start_time": "2022-10-20T11:46:51.227Z"
   },
   {
    "duration": 443,
    "start_time": "2022-10-20T11:46:51.234Z"
   },
   {
    "duration": 351,
    "start_time": "2022-10-20T11:46:51.679Z"
   },
   {
    "duration": 7,
    "start_time": "2022-10-20T11:46:52.032Z"
   },
   {
    "duration": 11,
    "start_time": "2022-10-20T11:46:52.041Z"
   },
   {
    "duration": 61,
    "start_time": "2022-10-20T11:46:52.054Z"
   },
   {
    "duration": 17,
    "start_time": "2022-10-20T11:46:52.118Z"
   },
   {
    "duration": 32,
    "start_time": "2022-10-20T11:46:52.137Z"
   },
   {
    "duration": 5,
    "start_time": "2022-10-20T11:46:52.171Z"
   },
   {
    "duration": 12,
    "start_time": "2022-10-20T11:46:52.177Z"
   },
   {
    "duration": 15,
    "start_time": "2022-10-20T11:46:52.191Z"
   },
   {
    "duration": 16,
    "start_time": "2022-10-20T11:46:52.208Z"
   },
   {
    "duration": 11,
    "start_time": "2022-10-20T11:46:52.226Z"
   },
   {
    "duration": 7,
    "start_time": "2022-10-20T11:46:52.239Z"
   },
   {
    "duration": 8,
    "start_time": "2022-10-20T11:46:52.248Z"
   },
   {
    "duration": 16,
    "start_time": "2022-10-20T11:46:52.258Z"
   },
   {
    "duration": 49,
    "start_time": "2022-10-20T11:46:52.276Z"
   },
   {
    "duration": 24,
    "start_time": "2022-10-20T11:46:52.327Z"
   },
   {
    "duration": 448,
    "start_time": "2022-10-20T11:46:52.353Z"
   },
   {
    "duration": 69,
    "start_time": "2022-10-20T11:46:52.803Z"
   },
   {
    "duration": 21,
    "start_time": "2022-10-20T11:46:52.874Z"
   },
   {
    "duration": 12,
    "start_time": "2022-10-20T11:46:52.897Z"
   },
   {
    "duration": 10,
    "start_time": "2022-10-20T11:46:52.912Z"
   },
   {
    "duration": 27,
    "start_time": "2022-10-20T11:46:52.924Z"
   },
   {
    "duration": 86,
    "start_time": "2022-10-20T11:46:52.953Z"
   },
   {
    "duration": 82,
    "start_time": "2022-10-20T11:46:53.041Z"
   },
   {
    "duration": 10,
    "start_time": "2022-10-20T11:46:53.124Z"
   },
   {
    "duration": 12,
    "start_time": "2022-10-20T11:46:53.136Z"
   },
   {
    "duration": 21,
    "start_time": "2022-10-20T11:46:53.154Z"
   },
   {
    "duration": 326,
    "start_time": "2022-10-20T11:46:53.177Z"
   },
   {
    "duration": 14,
    "start_time": "2022-10-20T11:46:53.505Z"
   },
   {
    "duration": 8,
    "start_time": "2022-10-20T11:46:53.521Z"
   },
   {
    "duration": 321,
    "start_time": "2022-10-20T11:46:53.531Z"
   },
   {
    "duration": 265,
    "start_time": "2022-10-20T11:46:53.854Z"
   },
   {
    "duration": 12,
    "start_time": "2022-10-20T11:46:54.122Z"
   },
   {
    "duration": 10,
    "start_time": "2022-10-20T11:46:54.137Z"
   },
   {
    "duration": 10,
    "start_time": "2022-10-20T11:46:54.149Z"
   },
   {
    "duration": 34,
    "start_time": "2022-10-20T11:46:54.161Z"
   },
   {
    "duration": 10,
    "start_time": "2022-10-20T11:46:54.196Z"
   },
   {
    "duration": 15,
    "start_time": "2022-10-20T11:46:54.207Z"
   },
   {
    "duration": 74,
    "start_time": "2022-10-20T11:46:54.225Z"
   },
   {
    "duration": 6,
    "start_time": "2022-10-20T11:46:54.301Z"
   },
   {
    "duration": 10,
    "start_time": "2022-10-20T11:46:54.309Z"
   },
   {
    "duration": 8,
    "start_time": "2022-10-20T11:46:54.321Z"
   },
   {
    "duration": 17,
    "start_time": "2022-10-20T11:46:54.331Z"
   },
   {
    "duration": 146,
    "start_time": "2022-10-20T11:46:54.351Z"
   },
   {
    "duration": 21,
    "start_time": "2022-10-20T11:46:54.500Z"
   },
   {
    "duration": 28,
    "start_time": "2022-10-20T11:46:54.523Z"
   },
   {
    "duration": 69,
    "start_time": "2022-10-20T11:46:54.553Z"
   },
   {
    "duration": 45,
    "start_time": "2022-10-20T11:46:54.624Z"
   },
   {
    "duration": 43,
    "start_time": "2022-10-20T11:46:54.671Z"
   },
   {
    "duration": 20,
    "start_time": "2022-10-20T11:46:54.716Z"
   },
   {
    "duration": 70,
    "start_time": "2022-10-20T11:46:54.738Z"
   },
   {
    "duration": 23,
    "start_time": "2022-10-20T11:46:54.815Z"
   },
   {
    "duration": 63,
    "start_time": "2022-10-20T11:46:54.839Z"
   },
   {
    "duration": 24,
    "start_time": "2022-10-20T11:46:54.903Z"
   },
   {
    "duration": 257,
    "start_time": "2022-10-20T11:49:42.400Z"
   },
   {
    "duration": 59,
    "start_time": "2022-10-20T11:52:25.880Z"
   },
   {
    "duration": 60,
    "start_time": "2022-10-20T11:52:51.457Z"
   },
   {
    "duration": 1286,
    "start_time": "2022-10-20T11:53:58.619Z"
   },
   {
    "duration": 160,
    "start_time": "2022-10-20T11:53:59.907Z"
   },
   {
    "duration": 16,
    "start_time": "2022-10-20T11:54:00.069Z"
   },
   {
    "duration": 7,
    "start_time": "2022-10-20T11:54:00.094Z"
   },
   {
    "duration": 32,
    "start_time": "2022-10-20T11:54:00.103Z"
   },
   {
    "duration": 10,
    "start_time": "2022-10-20T11:54:00.136Z"
   },
   {
    "duration": 69,
    "start_time": "2022-10-20T11:54:00.148Z"
   },
   {
    "duration": 10,
    "start_time": "2022-10-20T11:54:00.219Z"
   },
   {
    "duration": 89,
    "start_time": "2022-10-20T11:54:00.231Z"
   },
   {
    "duration": 23,
    "start_time": "2022-10-20T11:54:00.322Z"
   },
   {
    "duration": 116,
    "start_time": "2022-10-20T11:54:00.346Z"
   },
   {
    "duration": 112,
    "start_time": "2022-10-20T11:54:00.463Z"
   },
   {
    "duration": 22,
    "start_time": "2022-10-20T11:54:00.577Z"
   },
   {
    "duration": 196,
    "start_time": "2022-10-20T11:54:00.600Z"
   },
   {
    "duration": 14,
    "start_time": "2022-10-20T11:54:00.798Z"
   },
   {
    "duration": 43,
    "start_time": "2022-10-20T11:54:00.814Z"
   },
   {
    "duration": 61,
    "start_time": "2022-10-20T11:54:00.859Z"
   },
   {
    "duration": 22,
    "start_time": "2022-10-20T11:54:00.922Z"
   },
   {
    "duration": 7,
    "start_time": "2022-10-20T11:54:00.946Z"
   },
   {
    "duration": 47,
    "start_time": "2022-10-20T11:54:00.955Z"
   },
   {
    "duration": 12,
    "start_time": "2022-10-20T11:54:01.004Z"
   },
   {
    "duration": 18,
    "start_time": "2022-10-20T11:54:01.018Z"
   },
   {
    "duration": 24,
    "start_time": "2022-10-20T11:54:01.038Z"
   },
   {
    "duration": 41,
    "start_time": "2022-10-20T11:54:01.064Z"
   },
   {
    "duration": 11,
    "start_time": "2022-10-20T11:54:01.108Z"
   },
   {
    "duration": 360,
    "start_time": "2022-10-20T11:54:01.121Z"
   },
   {
    "duration": 12,
    "start_time": "2022-10-20T11:54:01.484Z"
   },
   {
    "duration": 7,
    "start_time": "2022-10-20T11:54:01.502Z"
   },
   {
    "duration": 8,
    "start_time": "2022-10-20T11:54:01.511Z"
   },
   {
    "duration": 407,
    "start_time": "2022-10-20T11:54:01.522Z"
   },
   {
    "duration": 349,
    "start_time": "2022-10-20T11:54:01.931Z"
   },
   {
    "duration": 8,
    "start_time": "2022-10-20T11:54:02.282Z"
   },
   {
    "duration": 10,
    "start_time": "2022-10-20T11:54:02.295Z"
   },
   {
    "duration": 50,
    "start_time": "2022-10-20T11:54:02.306Z"
   },
   {
    "duration": 13,
    "start_time": "2022-10-20T11:54:02.358Z"
   },
   {
    "duration": 26,
    "start_time": "2022-10-20T11:54:02.373Z"
   },
   {
    "duration": 9,
    "start_time": "2022-10-20T11:54:02.401Z"
   },
   {
    "duration": 9,
    "start_time": "2022-10-20T11:54:02.412Z"
   },
   {
    "duration": 10,
    "start_time": "2022-10-20T11:54:02.422Z"
   },
   {
    "duration": 14,
    "start_time": "2022-10-20T11:54:02.433Z"
   },
   {
    "duration": 6,
    "start_time": "2022-10-20T11:54:02.448Z"
   },
   {
    "duration": 5,
    "start_time": "2022-10-20T11:54:02.456Z"
   },
   {
    "duration": 33,
    "start_time": "2022-10-20T11:54:02.463Z"
   },
   {
    "duration": 12,
    "start_time": "2022-10-20T11:54:02.498Z"
   },
   {
    "duration": 33,
    "start_time": "2022-10-20T11:54:02.512Z"
   },
   {
    "duration": 23,
    "start_time": "2022-10-20T11:54:02.547Z"
   },
   {
    "duration": 413,
    "start_time": "2022-10-20T11:54:02.594Z"
   },
   {
    "duration": 70,
    "start_time": "2022-10-20T11:54:03.009Z"
   },
   {
    "duration": 15,
    "start_time": "2022-10-20T11:54:03.081Z"
   },
   {
    "duration": 11,
    "start_time": "2022-10-20T11:54:03.098Z"
   },
   {
    "duration": 11,
    "start_time": "2022-10-20T11:54:03.111Z"
   },
   {
    "duration": 24,
    "start_time": "2022-10-20T11:54:03.124Z"
   },
   {
    "duration": 84,
    "start_time": "2022-10-20T11:54:03.151Z"
   },
   {
    "duration": 90,
    "start_time": "2022-10-20T11:54:03.237Z"
   },
   {
    "duration": 9,
    "start_time": "2022-10-20T11:54:03.329Z"
   },
   {
    "duration": 6,
    "start_time": "2022-10-20T11:54:03.340Z"
   },
   {
    "duration": 16,
    "start_time": "2022-10-20T11:54:03.347Z"
   },
   {
    "duration": 323,
    "start_time": "2022-10-20T11:54:03.365Z"
   },
   {
    "duration": 16,
    "start_time": "2022-10-20T11:54:03.690Z"
   },
   {
    "duration": 7,
    "start_time": "2022-10-20T11:54:03.708Z"
   },
   {
    "duration": 259,
    "start_time": "2022-10-20T11:54:03.717Z"
   },
   {
    "duration": 287,
    "start_time": "2022-10-20T11:54:03.979Z"
   },
   {
    "duration": 8,
    "start_time": "2022-10-20T11:54:04.268Z"
   },
   {
    "duration": 25,
    "start_time": "2022-10-20T11:54:04.278Z"
   },
   {
    "duration": 8,
    "start_time": "2022-10-20T11:54:04.304Z"
   },
   {
    "duration": 10,
    "start_time": "2022-10-20T11:54:04.314Z"
   },
   {
    "duration": 9,
    "start_time": "2022-10-20T11:54:04.325Z"
   },
   {
    "duration": 11,
    "start_time": "2022-10-20T11:54:04.336Z"
   },
   {
    "duration": 75,
    "start_time": "2022-10-20T11:54:04.349Z"
   },
   {
    "duration": 6,
    "start_time": "2022-10-20T11:54:04.426Z"
   },
   {
    "duration": 9,
    "start_time": "2022-10-20T11:54:04.434Z"
   },
   {
    "duration": 10,
    "start_time": "2022-10-20T11:54:04.444Z"
   },
   {
    "duration": 40,
    "start_time": "2022-10-20T11:54:04.456Z"
   },
   {
    "duration": 127,
    "start_time": "2022-10-20T11:54:04.498Z"
   },
   {
    "duration": 20,
    "start_time": "2022-10-20T11:54:04.627Z"
   },
   {
    "duration": 23,
    "start_time": "2022-10-20T11:54:04.649Z"
   },
   {
    "duration": 82,
    "start_time": "2022-10-20T11:54:04.674Z"
   },
   {
    "duration": 61,
    "start_time": "2022-10-20T11:54:04.758Z"
   },
   {
    "duration": 23,
    "start_time": "2022-10-20T11:54:04.821Z"
   },
   {
    "duration": 2032,
    "start_time": "2022-10-20T11:54:04.845Z"
   },
   {
    "duration": 0,
    "start_time": "2022-10-20T11:54:06.879Z"
   },
   {
    "duration": 0,
    "start_time": "2022-10-20T11:54:06.882Z"
   },
   {
    "duration": 0,
    "start_time": "2022-10-20T11:54:06.883Z"
   },
   {
    "duration": 0,
    "start_time": "2022-10-20T11:54:06.886Z"
   },
   {
    "duration": 1637,
    "start_time": "2022-10-20T12:08:49.826Z"
   },
   {
    "duration": 1301,
    "start_time": "2022-10-20T12:09:22.912Z"
   },
   {
    "duration": 172,
    "start_time": "2022-10-20T12:09:24.215Z"
   },
   {
    "duration": 18,
    "start_time": "2022-10-20T12:09:24.389Z"
   },
   {
    "duration": 18,
    "start_time": "2022-10-20T12:09:24.410Z"
   },
   {
    "duration": 27,
    "start_time": "2022-10-20T12:09:24.430Z"
   },
   {
    "duration": 10,
    "start_time": "2022-10-20T12:09:24.459Z"
   },
   {
    "duration": 79,
    "start_time": "2022-10-20T12:09:24.471Z"
   },
   {
    "duration": 11,
    "start_time": "2022-10-20T12:09:24.552Z"
   },
   {
    "duration": 98,
    "start_time": "2022-10-20T12:09:24.566Z"
   },
   {
    "duration": 35,
    "start_time": "2022-10-20T12:09:24.667Z"
   },
   {
    "duration": 120,
    "start_time": "2022-10-20T12:09:24.704Z"
   },
   {
    "duration": 127,
    "start_time": "2022-10-20T12:09:24.826Z"
   },
   {
    "duration": 12,
    "start_time": "2022-10-20T12:09:24.955Z"
   },
   {
    "duration": 213,
    "start_time": "2022-10-20T12:09:24.968Z"
   },
   {
    "duration": 23,
    "start_time": "2022-10-20T12:09:25.183Z"
   },
   {
    "duration": 33,
    "start_time": "2022-10-20T12:09:25.207Z"
   },
   {
    "duration": 54,
    "start_time": "2022-10-20T12:09:25.242Z"
   },
   {
    "duration": 35,
    "start_time": "2022-10-20T12:09:25.298Z"
   },
   {
    "duration": 9,
    "start_time": "2022-10-20T12:09:25.335Z"
   },
   {
    "duration": 23,
    "start_time": "2022-10-20T12:09:25.346Z"
   },
   {
    "duration": 46,
    "start_time": "2022-10-20T12:09:25.371Z"
   },
   {
    "duration": 10,
    "start_time": "2022-10-20T12:09:25.419Z"
   },
   {
    "duration": 16,
    "start_time": "2022-10-20T12:09:25.430Z"
   },
   {
    "duration": 17,
    "start_time": "2022-10-20T12:09:25.447Z"
   },
   {
    "duration": 29,
    "start_time": "2022-10-20T12:09:25.466Z"
   },
   {
    "duration": 353,
    "start_time": "2022-10-20T12:09:25.497Z"
   },
   {
    "duration": 5,
    "start_time": "2022-10-20T12:09:25.852Z"
   },
   {
    "duration": 6,
    "start_time": "2022-10-20T12:09:25.863Z"
   },
   {
    "duration": 25,
    "start_time": "2022-10-20T12:09:25.872Z"
   },
   {
    "duration": 438,
    "start_time": "2022-10-20T12:09:25.899Z"
   },
   {
    "duration": 392,
    "start_time": "2022-10-20T12:09:26.339Z"
   },
   {
    "duration": 10,
    "start_time": "2022-10-20T12:09:26.733Z"
   },
   {
    "duration": 16,
    "start_time": "2022-10-20T12:09:26.747Z"
   },
   {
    "duration": 58,
    "start_time": "2022-10-20T12:09:26.765Z"
   },
   {
    "duration": 19,
    "start_time": "2022-10-20T12:09:26.825Z"
   },
   {
    "duration": 16,
    "start_time": "2022-10-20T12:09:26.846Z"
   },
   {
    "duration": 6,
    "start_time": "2022-10-20T12:09:26.863Z"
   },
   {
    "duration": 26,
    "start_time": "2022-10-20T12:09:26.871Z"
   },
   {
    "duration": 53,
    "start_time": "2022-10-20T12:09:26.899Z"
   },
   {
    "duration": 30,
    "start_time": "2022-10-20T12:09:26.954Z"
   },
   {
    "duration": 7,
    "start_time": "2022-10-20T12:09:26.985Z"
   },
   {
    "duration": 48,
    "start_time": "2022-10-20T12:09:26.994Z"
   },
   {
    "duration": 9,
    "start_time": "2022-10-20T12:09:27.044Z"
   },
   {
    "duration": 11,
    "start_time": "2022-10-20T12:09:27.054Z"
   },
   {
    "duration": 36,
    "start_time": "2022-10-20T12:09:27.067Z"
   },
   {
    "duration": 29,
    "start_time": "2022-10-20T12:09:27.105Z"
   },
   {
    "duration": 438,
    "start_time": "2022-10-20T12:09:27.137Z"
   },
   {
    "duration": 87,
    "start_time": "2022-10-20T12:09:27.577Z"
   },
   {
    "duration": 6,
    "start_time": "2022-10-20T12:09:27.665Z"
   },
   {
    "duration": 10,
    "start_time": "2022-10-20T12:09:27.673Z"
   },
   {
    "duration": 10,
    "start_time": "2022-10-20T12:09:27.694Z"
   },
   {
    "duration": 25,
    "start_time": "2022-10-20T12:09:27.706Z"
   },
   {
    "duration": 63,
    "start_time": "2022-10-20T12:09:27.733Z"
   },
   {
    "duration": 70,
    "start_time": "2022-10-20T12:09:27.798Z"
   },
   {
    "duration": 25,
    "start_time": "2022-10-20T12:09:27.870Z"
   },
   {
    "duration": 16,
    "start_time": "2022-10-20T12:09:27.902Z"
   },
   {
    "duration": 15,
    "start_time": "2022-10-20T12:09:27.920Z"
   },
   {
    "duration": 286,
    "start_time": "2022-10-20T12:09:27.937Z"
   },
   {
    "duration": 20,
    "start_time": "2022-10-20T12:09:28.226Z"
   },
   {
    "duration": 7,
    "start_time": "2022-10-20T12:09:28.248Z"
   },
   {
    "duration": 301,
    "start_time": "2022-10-20T12:09:28.257Z"
   },
   {
    "duration": 287,
    "start_time": "2022-10-20T12:09:28.560Z"
   },
   {
    "duration": 9,
    "start_time": "2022-10-20T12:09:28.849Z"
   },
   {
    "duration": 16,
    "start_time": "2022-10-20T12:09:28.859Z"
   },
   {
    "duration": 20,
    "start_time": "2022-10-20T12:09:28.876Z"
   },
   {
    "duration": 19,
    "start_time": "2022-10-20T12:09:28.898Z"
   },
   {
    "duration": 8,
    "start_time": "2022-10-20T12:09:28.919Z"
   },
   {
    "duration": 8,
    "start_time": "2022-10-20T12:09:28.929Z"
   },
   {
    "duration": 64,
    "start_time": "2022-10-20T12:09:28.939Z"
   },
   {
    "duration": 6,
    "start_time": "2022-10-20T12:09:29.005Z"
   },
   {
    "duration": 11,
    "start_time": "2022-10-20T12:09:29.013Z"
   },
   {
    "duration": 8,
    "start_time": "2022-10-20T12:09:29.026Z"
   },
   {
    "duration": 21,
    "start_time": "2022-10-20T12:09:29.036Z"
   },
   {
    "duration": 172,
    "start_time": "2022-10-20T12:09:29.059Z"
   },
   {
    "duration": 20,
    "start_time": "2022-10-20T12:09:29.233Z"
   },
   {
    "duration": 41,
    "start_time": "2022-10-20T12:09:29.254Z"
   },
   {
    "duration": 59,
    "start_time": "2022-10-20T12:09:29.297Z"
   },
   {
    "duration": 71,
    "start_time": "2022-10-20T12:09:29.358Z"
   },
   {
    "duration": 30,
    "start_time": "2022-10-20T12:09:29.431Z"
   },
   {
    "duration": 53,
    "start_time": "2022-10-20T12:09:29.462Z"
   },
   {
    "duration": 19,
    "start_time": "2022-10-20T12:09:29.517Z"
   },
   {
    "duration": 74,
    "start_time": "2022-10-20T12:09:29.540Z"
   },
   {
    "duration": 24,
    "start_time": "2022-10-20T12:09:29.615Z"
   },
   {
    "duration": 73,
    "start_time": "2022-10-20T12:09:29.641Z"
   },
   {
    "duration": 1431,
    "start_time": "2022-10-20T12:12:20.793Z"
   },
   {
    "duration": 1627,
    "start_time": "2022-10-20T12:13:38.216Z"
   },
   {
    "duration": 1293,
    "start_time": "2022-10-20T12:18:48.317Z"
   },
   {
    "duration": 1727,
    "start_time": "2022-10-20T12:19:22.110Z"
   },
   {
    "duration": 19,
    "start_time": "2022-10-20T12:20:34.763Z"
   },
   {
    "duration": 18,
    "start_time": "2022-10-20T12:20:43.362Z"
   },
   {
    "duration": 18,
    "start_time": "2022-10-20T12:20:59.356Z"
   },
   {
    "duration": 1335,
    "start_time": "2022-10-20T12:21:05.625Z"
   },
   {
    "duration": 166,
    "start_time": "2022-10-20T12:21:06.962Z"
   },
   {
    "duration": 14,
    "start_time": "2022-10-20T12:21:07.130Z"
   },
   {
    "duration": 3,
    "start_time": "2022-10-20T12:21:07.146Z"
   },
   {
    "duration": 24,
    "start_time": "2022-10-20T12:21:07.150Z"
   },
   {
    "duration": 31,
    "start_time": "2022-10-20T12:21:07.176Z"
   },
   {
    "duration": 57,
    "start_time": "2022-10-20T12:21:07.210Z"
   },
   {
    "duration": 11,
    "start_time": "2022-10-20T12:21:07.268Z"
   },
   {
    "duration": 80,
    "start_time": "2022-10-20T12:21:07.295Z"
   },
   {
    "duration": 38,
    "start_time": "2022-10-20T12:21:07.378Z"
   },
   {
    "duration": 108,
    "start_time": "2022-10-20T12:21:07.418Z"
   },
   {
    "duration": 135,
    "start_time": "2022-10-20T12:21:07.527Z"
   },
   {
    "duration": 11,
    "start_time": "2022-10-20T12:21:07.663Z"
   },
   {
    "duration": 188,
    "start_time": "2022-10-20T12:21:07.676Z"
   },
   {
    "duration": 13,
    "start_time": "2022-10-20T12:21:07.866Z"
   },
   {
    "duration": 37,
    "start_time": "2022-10-20T12:21:07.881Z"
   },
   {
    "duration": 47,
    "start_time": "2022-10-20T12:21:07.920Z"
   },
   {
    "duration": 41,
    "start_time": "2022-10-20T12:21:07.969Z"
   },
   {
    "duration": 31,
    "start_time": "2022-10-20T12:21:08.012Z"
   },
   {
    "duration": 18,
    "start_time": "2022-10-20T12:21:08.045Z"
   },
   {
    "duration": 12,
    "start_time": "2022-10-20T12:21:08.064Z"
   },
   {
    "duration": 17,
    "start_time": "2022-10-20T12:21:08.078Z"
   },
   {
    "duration": 17,
    "start_time": "2022-10-20T12:21:08.098Z"
   },
   {
    "duration": 59,
    "start_time": "2022-10-20T12:21:08.117Z"
   },
   {
    "duration": 10,
    "start_time": "2022-10-20T12:21:08.178Z"
   },
   {
    "duration": 297,
    "start_time": "2022-10-20T12:21:08.190Z"
   },
   {
    "duration": 9,
    "start_time": "2022-10-20T12:21:08.488Z"
   },
   {
    "duration": 7,
    "start_time": "2022-10-20T12:21:08.501Z"
   },
   {
    "duration": 5,
    "start_time": "2022-10-20T12:21:08.510Z"
   },
   {
    "duration": 439,
    "start_time": "2022-10-20T12:21:08.516Z"
   },
   {
    "duration": 348,
    "start_time": "2022-10-20T12:21:08.956Z"
   },
   {
    "duration": 7,
    "start_time": "2022-10-20T12:21:09.305Z"
   },
   {
    "duration": 24,
    "start_time": "2022-10-20T12:21:09.314Z"
   },
   {
    "duration": 41,
    "start_time": "2022-10-20T12:21:09.340Z"
   },
   {
    "duration": 20,
    "start_time": "2022-10-20T12:21:09.383Z"
   },
   {
    "duration": 18,
    "start_time": "2022-10-20T12:21:09.405Z"
   },
   {
    "duration": 6,
    "start_time": "2022-10-20T12:21:09.425Z"
   },
   {
    "duration": 14,
    "start_time": "2022-10-20T12:21:09.433Z"
   },
   {
    "duration": 10,
    "start_time": "2022-10-20T12:21:09.449Z"
   },
   {
    "duration": 17,
    "start_time": "2022-10-20T12:21:09.461Z"
   },
   {
    "duration": 17,
    "start_time": "2022-10-20T12:21:09.479Z"
   },
   {
    "duration": 5,
    "start_time": "2022-10-20T12:21:09.498Z"
   },
   {
    "duration": 6,
    "start_time": "2022-10-20T12:21:09.506Z"
   },
   {
    "duration": 9,
    "start_time": "2022-10-20T12:21:09.513Z"
   },
   {
    "duration": 35,
    "start_time": "2022-10-20T12:21:09.524Z"
   },
   {
    "duration": 28,
    "start_time": "2022-10-20T12:21:09.594Z"
   },
   {
    "duration": 439,
    "start_time": "2022-10-20T12:21:09.624Z"
   },
   {
    "duration": 88,
    "start_time": "2022-10-20T12:21:10.064Z"
   },
   {
    "duration": 7,
    "start_time": "2022-10-20T12:21:10.154Z"
   },
   {
    "duration": 13,
    "start_time": "2022-10-20T12:21:10.163Z"
   },
   {
    "duration": 19,
    "start_time": "2022-10-20T12:21:10.177Z"
   },
   {
    "duration": 37,
    "start_time": "2022-10-20T12:21:10.197Z"
   },
   {
    "duration": 53,
    "start_time": "2022-10-20T12:21:10.236Z"
   },
   {
    "duration": 67,
    "start_time": "2022-10-20T12:21:10.291Z"
   },
   {
    "duration": 8,
    "start_time": "2022-10-20T12:21:10.360Z"
   },
   {
    "duration": 6,
    "start_time": "2022-10-20T12:21:10.370Z"
   },
   {
    "duration": 26,
    "start_time": "2022-10-20T12:21:10.377Z"
   },
   {
    "duration": 298,
    "start_time": "2022-10-20T12:21:10.405Z"
   },
   {
    "duration": 15,
    "start_time": "2022-10-20T12:21:10.705Z"
   },
   {
    "duration": 8,
    "start_time": "2022-10-20T12:21:10.722Z"
   },
   {
    "duration": 265,
    "start_time": "2022-10-20T12:21:10.732Z"
   },
   {
    "duration": 276,
    "start_time": "2022-10-20T12:21:10.999Z"
   },
   {
    "duration": 22,
    "start_time": "2022-10-20T12:21:11.277Z"
   },
   {
    "duration": 9,
    "start_time": "2022-10-20T12:21:11.301Z"
   },
   {
    "duration": 13,
    "start_time": "2022-10-20T12:21:11.312Z"
   },
   {
    "duration": 8,
    "start_time": "2022-10-20T12:21:11.327Z"
   },
   {
    "duration": 8,
    "start_time": "2022-10-20T12:21:11.337Z"
   },
   {
    "duration": 7,
    "start_time": "2022-10-20T12:21:11.347Z"
   },
   {
    "duration": 89,
    "start_time": "2022-10-20T12:21:11.355Z"
   },
   {
    "duration": 6,
    "start_time": "2022-10-20T12:21:11.447Z"
   },
   {
    "duration": 15,
    "start_time": "2022-10-20T12:21:11.456Z"
   },
   {
    "duration": 36,
    "start_time": "2022-10-20T12:21:11.474Z"
   },
   {
    "duration": 17,
    "start_time": "2022-10-20T12:21:11.512Z"
   },
   {
    "duration": 141,
    "start_time": "2022-10-20T12:21:11.531Z"
   },
   {
    "duration": 23,
    "start_time": "2022-10-20T12:21:11.673Z"
   },
   {
    "duration": 27,
    "start_time": "2022-10-20T12:21:11.699Z"
   },
   {
    "duration": 83,
    "start_time": "2022-10-20T12:21:11.727Z"
   },
   {
    "duration": 50,
    "start_time": "2022-10-20T12:21:11.812Z"
   },
   {
    "duration": 45,
    "start_time": "2022-10-20T12:21:11.865Z"
   },
   {
    "duration": 21,
    "start_time": "2022-10-20T12:21:11.913Z"
   },
   {
    "duration": 74,
    "start_time": "2022-10-20T12:21:11.935Z"
   },
   {
    "duration": 86900,
    "start_time": "2022-10-20T12:21:12.013Z"
   },
   {
    "duration": 0,
    "start_time": "2022-10-20T12:22:38.914Z"
   },
   {
    "duration": 0,
    "start_time": "2022-10-20T12:22:38.916Z"
   },
   {
    "duration": 0,
    "start_time": "2022-10-20T12:22:38.917Z"
   },
   {
    "duration": 56,
    "start_time": "2022-10-20T12:24:52.142Z"
   },
   {
    "duration": 22,
    "start_time": "2022-10-20T12:24:56.221Z"
   },
   {
    "duration": 20,
    "start_time": "2022-10-20T12:25:00.380Z"
   },
   {
    "duration": 25,
    "start_time": "2022-10-20T12:25:01.350Z"
   },
   {
    "duration": 2237,
    "start_time": "2022-10-20T12:25:02.139Z"
   },
   {
    "duration": 1330,
    "start_time": "2022-10-20T12:25:26.509Z"
   },
   {
    "duration": 171,
    "start_time": "2022-10-20T12:25:27.841Z"
   },
   {
    "duration": 14,
    "start_time": "2022-10-20T12:25:28.014Z"
   },
   {
    "duration": 4,
    "start_time": "2022-10-20T12:25:28.030Z"
   },
   {
    "duration": 23,
    "start_time": "2022-10-20T12:25:28.036Z"
   },
   {
    "duration": 10,
    "start_time": "2022-10-20T12:25:28.060Z"
   },
   {
    "duration": 93,
    "start_time": "2022-10-20T12:25:28.071Z"
   },
   {
    "duration": 11,
    "start_time": "2022-10-20T12:25:28.166Z"
   },
   {
    "duration": 85,
    "start_time": "2022-10-20T12:25:28.179Z"
   },
   {
    "duration": 33,
    "start_time": "2022-10-20T12:25:28.266Z"
   },
   {
    "duration": 113,
    "start_time": "2022-10-20T12:25:28.301Z"
   },
   {
    "duration": 126,
    "start_time": "2022-10-20T12:25:28.416Z"
   },
   {
    "duration": 11,
    "start_time": "2022-10-20T12:25:28.543Z"
   },
   {
    "duration": 203,
    "start_time": "2022-10-20T12:25:28.557Z"
   },
   {
    "duration": 13,
    "start_time": "2022-10-20T12:25:28.762Z"
   },
   {
    "duration": 45,
    "start_time": "2022-10-20T12:25:28.776Z"
   },
   {
    "duration": 42,
    "start_time": "2022-10-20T12:25:28.823Z"
   },
   {
    "duration": 40,
    "start_time": "2022-10-20T12:25:28.866Z"
   },
   {
    "duration": 7,
    "start_time": "2022-10-20T12:25:28.908Z"
   },
   {
    "duration": 20,
    "start_time": "2022-10-20T12:25:28.917Z"
   },
   {
    "duration": 13,
    "start_time": "2022-10-20T12:25:28.939Z"
   },
   {
    "duration": 43,
    "start_time": "2022-10-20T12:25:28.954Z"
   },
   {
    "duration": 16,
    "start_time": "2022-10-20T12:25:28.999Z"
   },
   {
    "duration": 23,
    "start_time": "2022-10-20T12:25:29.017Z"
   },
   {
    "duration": 11,
    "start_time": "2022-10-20T12:25:29.042Z"
   },
   {
    "duration": 295,
    "start_time": "2022-10-20T12:25:29.055Z"
   },
   {
    "duration": 8,
    "start_time": "2022-10-20T12:25:29.353Z"
   },
   {
    "duration": 6,
    "start_time": "2022-10-20T12:25:29.363Z"
   },
   {
    "duration": 5,
    "start_time": "2022-10-20T12:25:29.370Z"
   },
   {
    "duration": 403,
    "start_time": "2022-10-20T12:25:29.377Z"
   },
   {
    "duration": 380,
    "start_time": "2022-10-20T12:25:29.782Z"
   },
   {
    "duration": 10,
    "start_time": "2022-10-20T12:25:30.164Z"
   },
   {
    "duration": 21,
    "start_time": "2022-10-20T12:25:30.176Z"
   },
   {
    "duration": 71,
    "start_time": "2022-10-20T12:25:30.199Z"
   },
   {
    "duration": 15,
    "start_time": "2022-10-20T12:25:30.272Z"
   },
   {
    "duration": 37,
    "start_time": "2022-10-20T12:25:30.289Z"
   },
   {
    "duration": 29,
    "start_time": "2022-10-20T12:25:30.327Z"
   },
   {
    "duration": 28,
    "start_time": "2022-10-20T12:25:30.358Z"
   },
   {
    "duration": 41,
    "start_time": "2022-10-20T12:25:30.388Z"
   },
   {
    "duration": 38,
    "start_time": "2022-10-20T12:25:30.430Z"
   },
   {
    "duration": 39,
    "start_time": "2022-10-20T12:25:30.472Z"
   },
   {
    "duration": 35,
    "start_time": "2022-10-20T12:25:30.513Z"
   },
   {
    "duration": 20,
    "start_time": "2022-10-20T12:25:30.550Z"
   },
   {
    "duration": 33,
    "start_time": "2022-10-20T12:25:30.572Z"
   },
   {
    "duration": 59,
    "start_time": "2022-10-20T12:25:30.607Z"
   },
   {
    "duration": 23,
    "start_time": "2022-10-20T12:25:30.668Z"
   },
   {
    "duration": 478,
    "start_time": "2022-10-20T12:25:30.693Z"
   },
   {
    "duration": 77,
    "start_time": "2022-10-20T12:25:31.173Z"
   },
   {
    "duration": 7,
    "start_time": "2022-10-20T12:25:31.252Z"
   },
   {
    "duration": 11,
    "start_time": "2022-10-20T12:25:31.260Z"
   },
   {
    "duration": 25,
    "start_time": "2022-10-20T12:25:31.273Z"
   },
   {
    "duration": 21,
    "start_time": "2022-10-20T12:25:31.300Z"
   },
   {
    "duration": 51,
    "start_time": "2022-10-20T12:25:31.323Z"
   },
   {
    "duration": 99,
    "start_time": "2022-10-20T12:25:31.377Z"
   },
   {
    "duration": 18,
    "start_time": "2022-10-20T12:25:31.478Z"
   },
   {
    "duration": 37,
    "start_time": "2022-10-20T12:25:31.498Z"
   },
   {
    "duration": 21,
    "start_time": "2022-10-20T12:25:31.537Z"
   },
   {
    "duration": 306,
    "start_time": "2022-10-20T12:25:31.559Z"
   },
   {
    "duration": 13,
    "start_time": "2022-10-20T12:25:31.867Z"
   },
   {
    "duration": 17,
    "start_time": "2022-10-20T12:25:31.882Z"
   },
   {
    "duration": 273,
    "start_time": "2022-10-20T12:25:31.901Z"
   },
   {
    "duration": 291,
    "start_time": "2022-10-20T12:25:32.176Z"
   },
   {
    "duration": 11,
    "start_time": "2022-10-20T12:25:32.470Z"
   },
   {
    "duration": 24,
    "start_time": "2022-10-20T12:25:32.484Z"
   },
   {
    "duration": 16,
    "start_time": "2022-10-20T12:25:32.513Z"
   },
   {
    "duration": 10,
    "start_time": "2022-10-20T12:25:32.531Z"
   },
   {
    "duration": 10,
    "start_time": "2022-10-20T12:25:32.543Z"
   },
   {
    "duration": 15,
    "start_time": "2022-10-20T12:25:32.555Z"
   },
   {
    "duration": 77,
    "start_time": "2022-10-20T12:25:32.572Z"
   },
   {
    "duration": 7,
    "start_time": "2022-10-20T12:25:32.650Z"
   },
   {
    "duration": 14,
    "start_time": "2022-10-20T12:25:32.659Z"
   },
   {
    "duration": 22,
    "start_time": "2022-10-20T12:25:32.676Z"
   },
   {
    "duration": 16,
    "start_time": "2022-10-20T12:25:32.700Z"
   },
   {
    "duration": 144,
    "start_time": "2022-10-20T12:25:32.719Z"
   },
   {
    "duration": 20,
    "start_time": "2022-10-20T12:25:32.865Z"
   },
   {
    "duration": 27,
    "start_time": "2022-10-20T12:25:32.901Z"
   },
   {
    "duration": 55,
    "start_time": "2022-10-20T12:25:32.930Z"
   },
   {
    "duration": 50,
    "start_time": "2022-10-20T12:25:32.987Z"
   },
   {
    "duration": 60,
    "start_time": "2022-10-20T12:25:33.039Z"
   },
   {
    "duration": 25,
    "start_time": "2022-10-20T12:25:33.100Z"
   },
   {
    "duration": 66,
    "start_time": "2022-10-20T12:25:33.128Z"
   },
   {
    "duration": 1568,
    "start_time": "2022-10-20T12:25:33.197Z"
   },
   {
    "duration": 0,
    "start_time": "2022-10-20T12:25:34.766Z"
   },
   {
    "duration": 0,
    "start_time": "2022-10-20T12:25:34.767Z"
   },
   {
    "duration": 0,
    "start_time": "2022-10-20T12:25:34.769Z"
   },
   {
    "duration": 43,
    "start_time": "2022-10-20T12:29:33.029Z"
   },
   {
    "duration": 23,
    "start_time": "2022-10-20T12:29:39.038Z"
   },
   {
    "duration": 20,
    "start_time": "2022-10-20T12:29:43.059Z"
   },
   {
    "duration": 21,
    "start_time": "2022-10-20T12:29:44.389Z"
   },
   {
    "duration": 20,
    "start_time": "2022-10-20T12:29:45.516Z"
   },
   {
    "duration": 21,
    "start_time": "2022-10-20T12:30:05.885Z"
   },
   {
    "duration": 22,
    "start_time": "2022-10-20T12:30:09.900Z"
   },
   {
    "duration": 21,
    "start_time": "2022-10-20T12:30:10.893Z"
   },
   {
    "duration": 19,
    "start_time": "2022-10-20T12:30:11.828Z"
   },
   {
    "duration": 21,
    "start_time": "2022-10-20T12:30:20.938Z"
   },
   {
    "duration": 4,
    "start_time": "2022-10-20T12:40:23.151Z"
   },
   {
    "duration": 1344,
    "start_time": "2022-10-20T12:40:38.381Z"
   },
   {
    "duration": 167,
    "start_time": "2022-10-20T12:40:39.727Z"
   },
   {
    "duration": 20,
    "start_time": "2022-10-20T12:40:39.896Z"
   },
   {
    "duration": 4,
    "start_time": "2022-10-20T12:40:39.918Z"
   },
   {
    "duration": 22,
    "start_time": "2022-10-20T12:40:39.924Z"
   },
   {
    "duration": 11,
    "start_time": "2022-10-20T12:40:39.947Z"
   },
   {
    "duration": 83,
    "start_time": "2022-10-20T12:40:39.960Z"
   },
   {
    "duration": 10,
    "start_time": "2022-10-20T12:40:40.044Z"
   },
   {
    "duration": 99,
    "start_time": "2022-10-20T12:40:40.056Z"
   },
   {
    "duration": 21,
    "start_time": "2022-10-20T12:40:40.158Z"
   },
   {
    "duration": 114,
    "start_time": "2022-10-20T12:40:40.181Z"
   },
   {
    "duration": 125,
    "start_time": "2022-10-20T12:40:40.297Z"
   },
   {
    "duration": 12,
    "start_time": "2022-10-20T12:40:40.424Z"
   },
   {
    "duration": 213,
    "start_time": "2022-10-20T12:40:40.437Z"
   },
   {
    "duration": 14,
    "start_time": "2022-10-20T12:40:40.652Z"
   },
   {
    "duration": 43,
    "start_time": "2022-10-20T12:40:40.667Z"
   },
   {
    "duration": 47,
    "start_time": "2022-10-20T12:40:40.712Z"
   },
   {
    "duration": 36,
    "start_time": "2022-10-20T12:40:40.760Z"
   },
   {
    "duration": 12,
    "start_time": "2022-10-20T12:40:40.797Z"
   },
   {
    "duration": 23,
    "start_time": "2022-10-20T12:40:40.811Z"
   },
   {
    "duration": 12,
    "start_time": "2022-10-20T12:40:40.836Z"
   },
   {
    "duration": 11,
    "start_time": "2022-10-20T12:40:40.850Z"
   },
   {
    "duration": 46,
    "start_time": "2022-10-20T12:40:40.862Z"
   },
   {
    "duration": 28,
    "start_time": "2022-10-20T12:40:40.910Z"
   },
   {
    "duration": 9,
    "start_time": "2022-10-20T12:40:40.940Z"
   },
   {
    "duration": 290,
    "start_time": "2022-10-20T12:40:40.951Z"
   },
   {
    "duration": 6,
    "start_time": "2022-10-20T12:40:41.243Z"
   },
   {
    "duration": 8,
    "start_time": "2022-10-20T12:40:41.252Z"
   },
   {
    "duration": 7,
    "start_time": "2022-10-20T12:40:41.261Z"
   },
   {
    "duration": 495,
    "start_time": "2022-10-20T12:40:41.270Z"
   },
   {
    "duration": 386,
    "start_time": "2022-10-20T12:40:41.767Z"
   },
   {
    "duration": 9,
    "start_time": "2022-10-20T12:40:42.156Z"
   },
   {
    "duration": 19,
    "start_time": "2022-10-20T12:40:42.167Z"
   },
   {
    "duration": 53,
    "start_time": "2022-10-20T12:40:42.188Z"
   },
   {
    "duration": 14,
    "start_time": "2022-10-20T12:40:42.243Z"
   },
   {
    "duration": 22,
    "start_time": "2022-10-20T12:40:42.259Z"
   },
   {
    "duration": 13,
    "start_time": "2022-10-20T12:40:42.283Z"
   },
   {
    "duration": 32,
    "start_time": "2022-10-20T12:40:42.298Z"
   },
   {
    "duration": 19,
    "start_time": "2022-10-20T12:40:42.331Z"
   },
   {
    "duration": 33,
    "start_time": "2022-10-20T12:40:42.351Z"
   },
   {
    "duration": 36,
    "start_time": "2022-10-20T12:40:42.386Z"
   },
   {
    "duration": 12,
    "start_time": "2022-10-20T12:40:42.424Z"
   },
   {
    "duration": 21,
    "start_time": "2022-10-20T12:40:42.438Z"
   },
   {
    "duration": 12,
    "start_time": "2022-10-20T12:40:42.461Z"
   },
   {
    "duration": 55,
    "start_time": "2022-10-20T12:40:42.475Z"
   },
   {
    "duration": 20,
    "start_time": "2022-10-20T12:40:42.532Z"
   },
   {
    "duration": 431,
    "start_time": "2022-10-20T12:40:42.553Z"
   },
   {
    "duration": 71,
    "start_time": "2022-10-20T12:40:42.994Z"
   },
   {
    "duration": 6,
    "start_time": "2022-10-20T12:40:43.067Z"
   },
   {
    "duration": 33,
    "start_time": "2022-10-20T12:40:43.075Z"
   },
   {
    "duration": 12,
    "start_time": "2022-10-20T12:40:43.110Z"
   },
   {
    "duration": 34,
    "start_time": "2022-10-20T12:40:43.124Z"
   },
   {
    "duration": 86,
    "start_time": "2022-10-20T12:40:43.159Z"
   },
   {
    "duration": 85,
    "start_time": "2022-10-20T12:40:43.247Z"
   },
   {
    "duration": 9,
    "start_time": "2022-10-20T12:40:43.334Z"
   },
   {
    "duration": 27,
    "start_time": "2022-10-20T12:40:43.345Z"
   },
   {
    "duration": 42,
    "start_time": "2022-10-20T12:40:43.374Z"
   },
   {
    "duration": 290,
    "start_time": "2022-10-20T12:40:43.417Z"
   },
   {
    "duration": 16,
    "start_time": "2022-10-20T12:40:43.709Z"
   },
   {
    "duration": 24,
    "start_time": "2022-10-20T12:40:43.726Z"
   },
   {
    "duration": 309,
    "start_time": "2022-10-20T12:40:43.751Z"
   },
   {
    "duration": 248,
    "start_time": "2022-10-20T12:40:44.062Z"
   },
   {
    "duration": 11,
    "start_time": "2022-10-20T12:40:44.312Z"
   },
   {
    "duration": 23,
    "start_time": "2022-10-20T12:40:44.324Z"
   },
   {
    "duration": 107,
    "start_time": "2022-10-20T12:40:44.349Z"
   },
   {
    "duration": 39,
    "start_time": "2022-10-20T12:40:44.458Z"
   },
   {
    "duration": 32,
    "start_time": "2022-10-20T12:40:44.499Z"
   },
   {
    "duration": 29,
    "start_time": "2022-10-20T12:40:44.532Z"
   },
   {
    "duration": 63,
    "start_time": "2022-10-20T12:40:44.563Z"
   },
   {
    "duration": 5,
    "start_time": "2022-10-20T12:40:44.627Z"
   },
   {
    "duration": 45,
    "start_time": "2022-10-20T12:40:44.634Z"
   },
   {
    "duration": 22,
    "start_time": "2022-10-20T12:40:44.681Z"
   },
   {
    "duration": 38,
    "start_time": "2022-10-20T12:40:44.705Z"
   },
   {
    "duration": 144,
    "start_time": "2022-10-20T12:40:44.744Z"
   },
   {
    "duration": 21,
    "start_time": "2022-10-20T12:40:44.889Z"
   },
   {
    "duration": 50,
    "start_time": "2022-10-20T12:40:44.913Z"
   },
   {
    "duration": 70,
    "start_time": "2022-10-20T12:40:44.965Z"
   },
   {
    "duration": 44,
    "start_time": "2022-10-20T12:40:45.037Z"
   },
   {
    "duration": 35,
    "start_time": "2022-10-20T12:40:45.082Z"
   },
   {
    "duration": 46,
    "start_time": "2022-10-20T12:40:45.121Z"
   },
   {
    "duration": 35,
    "start_time": "2022-10-20T12:40:45.168Z"
   },
   {
    "duration": 21,
    "start_time": "2022-10-20T12:40:45.211Z"
   },
   {
    "duration": 64,
    "start_time": "2022-10-20T12:40:45.234Z"
   },
   {
    "duration": 24,
    "start_time": "2022-10-20T12:40:45.300Z"
   },
   {
    "duration": 23,
    "start_time": "2022-10-20T12:40:45.325Z"
   },
   {
    "duration": 64,
    "start_time": "2022-10-20T12:40:45.350Z"
   },
   {
    "duration": 1351,
    "start_time": "2022-10-21T11:15:08.111Z"
   },
   {
    "duration": 815,
    "start_time": "2022-10-21T11:15:09.464Z"
   },
   {
    "duration": 14,
    "start_time": "2022-10-21T11:15:10.281Z"
   },
   {
    "duration": 3,
    "start_time": "2022-10-21T11:15:10.297Z"
   },
   {
    "duration": 26,
    "start_time": "2022-10-21T11:15:10.301Z"
   },
   {
    "duration": 11,
    "start_time": "2022-10-21T11:15:10.330Z"
   },
   {
    "duration": 49,
    "start_time": "2022-10-21T11:15:10.343Z"
   },
   {
    "duration": 10,
    "start_time": "2022-10-21T11:15:10.394Z"
   },
   {
    "duration": 83,
    "start_time": "2022-10-21T11:15:10.406Z"
   },
   {
    "duration": 19,
    "start_time": "2022-10-21T11:15:10.492Z"
   },
   {
    "duration": 84,
    "start_time": "2022-10-21T11:15:10.523Z"
   },
   {
    "duration": 111,
    "start_time": "2022-10-21T11:15:10.609Z"
   },
   {
    "duration": 15,
    "start_time": "2022-10-21T11:15:10.723Z"
   },
   {
    "duration": 162,
    "start_time": "2022-10-21T11:15:10.740Z"
   },
   {
    "duration": 19,
    "start_time": "2022-10-21T11:15:10.904Z"
   },
   {
    "duration": 29,
    "start_time": "2022-10-21T11:15:10.927Z"
   },
   {
    "duration": 36,
    "start_time": "2022-10-21T11:15:10.957Z"
   },
   {
    "duration": 39,
    "start_time": "2022-10-21T11:15:10.995Z"
   },
   {
    "duration": 33,
    "start_time": "2022-10-21T11:15:11.039Z"
   },
   {
    "duration": 19,
    "start_time": "2022-10-21T11:15:11.074Z"
   },
   {
    "duration": 22,
    "start_time": "2022-10-21T11:15:11.095Z"
   },
   {
    "duration": 14,
    "start_time": "2022-10-21T11:15:11.119Z"
   },
   {
    "duration": 22,
    "start_time": "2022-10-21T11:15:11.139Z"
   },
   {
    "duration": 24,
    "start_time": "2022-10-21T11:15:11.163Z"
   },
   {
    "duration": 8,
    "start_time": "2022-10-21T11:15:11.189Z"
   },
   {
    "duration": 270,
    "start_time": "2022-10-21T11:15:11.199Z"
   },
   {
    "duration": 6,
    "start_time": "2022-10-21T11:15:11.470Z"
   },
   {
    "duration": 7,
    "start_time": "2022-10-21T11:15:11.481Z"
   },
   {
    "duration": 6,
    "start_time": "2022-10-21T11:15:11.490Z"
   },
   {
    "duration": 414,
    "start_time": "2022-10-21T11:15:11.497Z"
   },
   {
    "duration": 295,
    "start_time": "2022-10-21T11:15:11.913Z"
   },
   {
    "duration": 20,
    "start_time": "2022-10-21T11:15:12.210Z"
   },
   {
    "duration": 17,
    "start_time": "2022-10-21T11:15:12.236Z"
   },
   {
    "duration": 37,
    "start_time": "2022-10-21T11:15:12.254Z"
   },
   {
    "duration": 12,
    "start_time": "2022-10-21T11:15:12.293Z"
   },
   {
    "duration": 9,
    "start_time": "2022-10-21T11:15:12.307Z"
   },
   {
    "duration": 7,
    "start_time": "2022-10-21T11:15:12.317Z"
   },
   {
    "duration": 22,
    "start_time": "2022-10-21T11:15:12.325Z"
   },
   {
    "duration": 5,
    "start_time": "2022-10-21T11:15:12.349Z"
   },
   {
    "duration": 13,
    "start_time": "2022-10-21T11:15:12.355Z"
   },
   {
    "duration": 7,
    "start_time": "2022-10-21T11:15:12.369Z"
   },
   {
    "duration": 6,
    "start_time": "2022-10-21T11:15:12.378Z"
   },
   {
    "duration": 5,
    "start_time": "2022-10-21T11:15:12.386Z"
   },
   {
    "duration": 14,
    "start_time": "2022-10-21T11:15:12.392Z"
   },
   {
    "duration": 41,
    "start_time": "2022-10-21T11:15:12.408Z"
   },
   {
    "duration": 18,
    "start_time": "2022-10-21T11:15:12.451Z"
   },
   {
    "duration": 397,
    "start_time": "2022-10-21T11:15:12.471Z"
   },
   {
    "duration": 89,
    "start_time": "2022-10-21T11:15:12.870Z"
   },
   {
    "duration": 7,
    "start_time": "2022-10-21T11:15:12.961Z"
   },
   {
    "duration": 14,
    "start_time": "2022-10-21T11:15:12.970Z"
   },
   {
    "duration": 7,
    "start_time": "2022-10-21T11:15:12.986Z"
   },
   {
    "duration": 35,
    "start_time": "2022-10-21T11:15:12.995Z"
   },
   {
    "duration": 57,
    "start_time": "2022-10-21T11:15:13.031Z"
   },
   {
    "duration": 67,
    "start_time": "2022-10-21T11:15:13.090Z"
   },
   {
    "duration": 8,
    "start_time": "2022-10-21T11:15:13.158Z"
   },
   {
    "duration": 5,
    "start_time": "2022-10-21T11:15:13.168Z"
   },
   {
    "duration": 16,
    "start_time": "2022-10-21T11:15:13.174Z"
   },
   {
    "duration": 361,
    "start_time": "2022-10-21T11:15:13.192Z"
   },
   {
    "duration": 13,
    "start_time": "2022-10-21T11:15:13.555Z"
   },
   {
    "duration": 7,
    "start_time": "2022-10-21T11:15:13.570Z"
   },
   {
    "duration": 255,
    "start_time": "2022-10-21T11:15:13.579Z"
   },
   {
    "duration": 241,
    "start_time": "2022-10-21T11:15:13.843Z"
   },
   {
    "duration": 7,
    "start_time": "2022-10-21T11:15:14.086Z"
   },
   {
    "duration": 60,
    "start_time": "2022-10-21T11:15:14.095Z"
   },
   {
    "duration": 36,
    "start_time": "2022-10-21T11:15:14.157Z"
   },
   {
    "duration": 21,
    "start_time": "2022-10-21T11:15:14.194Z"
   },
   {
    "duration": 34,
    "start_time": "2022-10-21T11:15:14.217Z"
   },
   {
    "duration": 31,
    "start_time": "2022-10-21T11:15:14.253Z"
   },
   {
    "duration": 73,
    "start_time": "2022-10-21T11:15:14.286Z"
   },
   {
    "duration": 30,
    "start_time": "2022-10-21T11:15:14.360Z"
   },
   {
    "duration": 14,
    "start_time": "2022-10-21T11:15:14.392Z"
   },
   {
    "duration": 48,
    "start_time": "2022-10-21T11:15:14.408Z"
   },
   {
    "duration": 43,
    "start_time": "2022-10-21T11:15:14.458Z"
   },
   {
    "duration": 135,
    "start_time": "2022-10-21T11:15:14.503Z"
   },
   {
    "duration": 17,
    "start_time": "2022-10-21T11:15:14.640Z"
   },
   {
    "duration": 33,
    "start_time": "2022-10-21T11:15:14.659Z"
   },
   {
    "duration": 81,
    "start_time": "2022-10-21T11:15:14.694Z"
   },
   {
    "duration": 61,
    "start_time": "2022-10-21T11:15:14.777Z"
   },
   {
    "duration": 20,
    "start_time": "2022-10-21T11:15:14.840Z"
   },
   {
    "duration": 46,
    "start_time": "2022-10-21T11:15:14.862Z"
   },
   {
    "duration": 34,
    "start_time": "2022-10-21T11:15:14.910Z"
   },
   {
    "duration": 25,
    "start_time": "2022-10-21T11:15:14.948Z"
   },
   {
    "duration": 53,
    "start_time": "2022-10-21T11:15:14.974Z"
   },
   {
    "duration": 19,
    "start_time": "2022-10-21T11:15:15.028Z"
   },
   {
    "duration": 34,
    "start_time": "2022-10-21T11:15:15.048Z"
   },
   {
    "duration": 56,
    "start_time": "2022-10-21T11:15:15.084Z"
   },
   {
    "duration": 13,
    "start_time": "2022-10-21T11:51:14.916Z"
   }
  ],
  "kernelspec": {
   "display_name": "Python 3 (ipykernel)",
   "language": "python",
   "name": "python3"
  },
  "language_info": {
   "codemirror_mode": {
    "name": "ipython",
    "version": 3
   },
   "file_extension": ".py",
   "mimetype": "text/x-python",
   "name": "python",
   "nbconvert_exporter": "python",
   "pygments_lexer": "ipython3",
   "version": "3.9.12"
  },
  "toc": {
   "base_numbering": 1,
   "nav_menu": {},
   "number_sections": true,
   "sideBar": true,
   "skip_h1_title": true,
   "title_cell": "Table of Contents",
   "title_sidebar": "Contents",
   "toc_cell": false,
   "toc_position": {
    "height": "355px",
    "left": "211px",
    "top": "344.125px",
    "width": "213px"
   },
   "toc_section_display": true,
   "toc_window_display": true
  }
 },
 "nbformat": 4,
 "nbformat_minor": 2
}
